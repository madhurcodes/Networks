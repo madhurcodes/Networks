{
 "cells": [
  {
   "cell_type": "code",
   "execution_count": null,
   "metadata": {},
   "outputs": [
    {
     "name": "stdout",
     "output_type": "stream",
     "text": [
      "Processed  indianexpress/images.indianexpress.com/2017/09/pitru-paksha-2017-620x400.jpg?w=210\n",
      "Processed  indianexpress/images.indianexpress.com/2017/09/varun-dhawan-7597.jpg?w=210\n",
      "Processed  indianexpress/images.indianexpress.com/2017/07/deepika-padukone11.jpg?w=210\n",
      "Wierd    "
     ]
    }
   ],
   "source": [
    "import socket\n",
    "import json\n",
    "import base64\n",
    "import time\n",
    "import os\n",
    "import threading\n",
    "timeout = 2.4 # change to low for low latency connections\n",
    "debug = 1\n",
    "if not debug:\n",
    "    while 1:\n",
    "        try:\n",
    "            numThreadsPerDomain = int(input(\"Enter the number of Threads Per Domain: \"))\n",
    "            numObjectsPerThread = int(input(\"Enter the number of Objects Per Thread: \"))\n",
    "            harfile_name = input(\"Enter the HAR File Name: \")\n",
    "            harfile = open(harfile_name,\"r\")\n",
    "            # pipe = int(input(\"Enter 1 for Pipelined Execution and 0 for not: \"))\n",
    "            pipe = 0\n",
    "            PIPELINED = False if pipe ==1 else False\n",
    "            break\n",
    "        except:\n",
    "            print(\"Invalid input. Please try again.\")\n",
    "else:\n",
    "    numThreadsPerDomain = 3\n",
    "    numObjectsPerThread = 2\n",
    "    harfile_name = \"indianexpress.har\"\n",
    "    harfile = open(harfile_name,\"r\")\n",
    "    PIPELINED = False\n",
    "\n",
    "foldername = '.'.join(harfile_name.split(\".\")[0:-1])\n",
    "har_json = json.load(harfile)\n",
    "num_requests = len(har_json[\"log\"][\"entries\"])\n",
    "domain_dict = {}\n",
    "act = threading.activeCount()\n",
    "def fetch_thread(request_small):\n",
    "    if not PIPELINED:\n",
    "        for i in request_small:\n",
    "#             print(threading.current_thread().name, \" Processed url \", i[\"request\"][\"url\"])\n",
    "            url = i[\"request\"][\"url\"]\n",
    "            prefix = url[0:5]\n",
    "            # print(url)\n",
    "            if prefix != \"http:\":\n",
    "#                 print(\"skipped \", url)\n",
    "                continue\n",
    "            url_split = url.split(\"://\")\n",
    "\n",
    "            content_file_path = foldername\n",
    "            content_file_path = content_file_path + \"/\" + url_split[-1]\n",
    "            if 1==1:#int(i[\"response\"][\"content\"][\"size\"])!=0:\n",
    "                har_req = i[\"request\"]\n",
    "                http_version = \"HTTP\" + har_req[\"httpVersion\"][4:]\n",
    "                request_str= har_req[\"method\"] + \" /\" + har_req[\"url\"].split(\"//\")[1].split(\"/\",maxsplit=1)[-1]+\" \"+ http_version + \"\\n\" \n",
    "                hostname = (har_req[\"url\"].split(\"//\")[1]).split(\"/\")[0]\n",
    "                request_str = request_str + \"Host\"+\": \" + hostname+\"\\n\"\n",
    "                for el in har_req[\"headers\"]:\n",
    "                    if el[\"name\"] not in (\"User-Agent\",\"Connection\"):continue\n",
    "                    request_str = request_str + el[\"name\"]+\": \" + el[\"value\"]+\"\\n\"\n",
    "                request_str = request_str + \"\\n\"\n",
    "                    # print(\"------------------------------\")\n",
    "                    # print(request_str)\n",
    "                    # print(\"------------------------------\")\n",
    "                encoded_request = request_str.encode()\n",
    "                client_socket = socket.socket(socket.AF_INET, socket.SOCK_STREAM) \n",
    "            #   print(\"Hostname is \", hostname)\n",
    "                client_socket.connect((hostname, 80))\n",
    "                client_socket.send(encoded_request)\n",
    "                received_bytes = b\"\"\n",
    "                client_socket.settimeout(timeout)\n",
    "                while 1:\n",
    "                    try:\n",
    "                        msg = client_socket.recv(1024)\n",
    "                        if(len(msg)==0):\n",
    "                            break\n",
    "                        received_bytes = received_bytes + msg\n",
    "                    except:\n",
    "                        break\n",
    "                split = received_bytes.split(b\"\\r\\n\\r\\n\")\n",
    "                if len(received_bytes)<1 or len(split)<2:\n",
    "                    # print(\"unsplit \", url, \"byter r \", received_bytes)\n",
    "                    continue\n",
    "                client_socket.close()\n",
    "                if(len(split[0])<8):\n",
    "                    header = split[1]\n",
    "                    content = split[2]\n",
    "                else:\n",
    "                    header = split[0]\n",
    "                    content = split[1]\n",
    "                # print(\"c is   \"  ,foldername, \" \",content_file_path)\n",
    "                if content_file_path[-1]==\"/\":\n",
    "                    print(\"Wierd   \", url, \"rec \",received_bytes )\n",
    "                    \n",
    "                    content_file_path = content_file_path + \"index.html\"\n",
    "                if len(content_file_path)>90:\n",
    "                    # print(\"Truncated a name\")\n",
    "                    content_file_path = content_file_path[:90]\n",
    "                if not os.path.exists(os.path.dirname(content_file_path)):\n",
    "                    try:\n",
    "                        os.makedirs(os.path.dirname(content_file_path))\n",
    "                    except: # Guard against race condition\n",
    "                        print(\"Error :Race\")                \n",
    "                headerfile = open(content_file_path+\"_header\",\"wb\")\n",
    "                headerfile.write(header)\n",
    "                headerfile.close()\n",
    "#                 print(\"Processed \",content_file_path)\n",
    "                contentfile = open(content_file_path,\"wb\")\n",
    "                contentfile.write(content)\n",
    "                contentfile.close()\n",
    "#         else:\n",
    "#             for i in request_small:\n",
    "                \n",
    "def dom_thread_fun(reqlist):\n",
    "    tl = []\n",
    "    done = 0\n",
    "    tind = 0\n",
    "    while len(reqlist) != done:\n",
    "        while len(tl) >= numThreadsPerDomain:\n",
    "            for th in tl:\n",
    "                if not th.isAlive():\n",
    "                    tl.remove(th)\n",
    "                    break\n",
    "        tempList = reqlist[done:min(done+numObjectsPerThread, len(reqlist))]\n",
    "        done += len(tempList)\n",
    "        nt  = threading.Thread(name=threading.current_thread().name+\"fetch\"+str(tind),target=fetch_thread,args=(tempList,))\n",
    "        tl.append(nt)\n",
    "        tind+=1\n",
    "        nt.start()\n",
    "start_time = time.time()\n",
    "for i in har_json[\"log\"][\"entries\"]:\n",
    "    domain_name = i[\"request\"][\"url\"].split(\"//\",maxsplit=1)[-1].split(\"/\")[0].split(\".\",maxsplit=1)[1]\n",
    "    if domain_name in domain_dict.keys():\n",
    "        domain_dict[domain_name].append(i)\n",
    "    else:\n",
    "        domain_dict[domain_name] = [i]\n",
    "list_of_threads = []\n",
    "for dom in domain_dict.keys():\n",
    "    t = threading.Thread(name=dom,target=dom_thread_fun,args=(domain_dict[dom],))\n",
    "    list_of_threads.append(t)\n",
    "    t.start()\n",
    "while(threading.activeCount()!=act):\n",
    "#     print(\"-\")\n",
    "    pass\n",
    "elapsed_time = time.time() - start_time\n",
    "print(\"Time Elasped is \", elapsed_time)"
   ]
  },
  {
   "cell_type": "code",
   "execution_count": null,
   "metadata": {
    "collapsed": true
   },
   "outputs": [],
   "source": []
  },
  {
   "cell_type": "code",
   "execution_count": null,
   "metadata": {
    "collapsed": true
   },
   "outputs": [],
   "source": []
  },
  {
   "cell_type": "code",
   "execution_count": null,
   "metadata": {
    "collapsed": true
   },
   "outputs": [],
   "source": []
  },
  {
   "cell_type": "code",
   "execution_count": null,
   "metadata": {
    "collapsed": true
   },
   "outputs": [],
   "source": []
  },
  {
   "cell_type": "code",
   "execution_count": null,
   "metadata": {
    "collapsed": true
   },
   "outputs": [],
   "source": []
  },
  {
   "cell_type": "code",
   "execution_count": null,
   "metadata": {
    "collapsed": true
   },
   "outputs": [],
   "source": []
  },
  {
   "cell_type": "code",
   "execution_count": null,
   "metadata": {
    "collapsed": true
   },
   "outputs": [],
   "source": []
  },
  {
   "cell_type": "code",
   "execution_count": null,
   "metadata": {
    "collapsed": true
   },
   "outputs": [],
   "source": []
  },
  {
   "cell_type": "code",
   "execution_count": null,
   "metadata": {
    "collapsed": true
   },
   "outputs": [],
   "source": [
    "import socket\n",
    "import json\n",
    "import base64\n",
    "import time\n",
    "import os\n",
    "import threading\n",
    "\n",
    "debug = 1\n",
    "if not debug:\n",
    "    while 1:\n",
    "        try:\n",
    "            numThreadsPerDomain = int(input(\"Enter the number of Threads Per Domain: \"))\n",
    "            numObjectsPerThread = int(input(\"Enter the number of Objects Per Thread: \"))\n",
    "            harfile_name = input(\"Enter the HAR File Name: \")\n",
    "            harfile = open(harfile_name,\"r\")\n",
    "            # pipe = int(input(\"Enter 1 for Pipelined Execution and 0 for not: \"))\n",
    "            pipe = 0\n",
    "            PIPELINED = False if pipe ==1 else False\n",
    "            break\n",
    "        except:\n",
    "            print(\"Invalid input. Please try again.\")\n",
    "else:\n",
    "    numThreadsPerDomain = 3\n",
    "    numObjectsPerThread = 2\n",
    "    harfile_name = \"indianexpress.har\"\n",
    "    harfile = open(harfile_name,\"r\")\n",
    "    PIPELINED = False\n",
    "\n",
    "foldername = harfile_name.split(\".\")[0]\n",
    "har_json = json.load(harfile)\n",
    "num_requests = len(har_json[\"log\"][\"entries\"])\n",
    "domain_dict = {}\n",
    "act = threading.activeCount()"
   ]
  },
  {
   "cell_type": "code",
   "execution_count": null,
   "metadata": {},
   "outputs": [],
   "source": [
    "num_requests"
   ]
  },
  {
   "cell_type": "code",
   "execution_count": null,
   "metadata": {},
   "outputs": [],
   "source": [
    "har_json[\"log\"][\"entries\"][0]"
   ]
  },
  {
   "cell_type": "code",
   "execution_count": null,
   "metadata": {
    "collapsed": true
   },
   "outputs": [],
   "source": [
    "request_small = [har_json[\"log\"][\"entries\"][0]]"
   ]
  },
  {
   "cell_type": "code",
   "execution_count": null,
   "metadata": {
    "collapsed": true
   },
   "outputs": [],
   "source": [
    "i = request_small[0]"
   ]
  },
  {
   "cell_type": "code",
   "execution_count": null,
   "metadata": {
    "collapsed": true
   },
   "outputs": [],
   "source": [
    "            url = i[\"request\"][\"url\"]\n",
    "            prefix = url[0:5]\n",
    "            # print(url)\n",
    "            url_split = url.split(\"://\")\n",
    "\n",
    "            content_file_path = foldername\n",
    "            content_file_path = content_file_path + \"/\" + url_split[-1]\n",
    "            if 1==1:#int(i[\"response\"][\"content\"][\"size\"])!=0:\n",
    "                har_req = i[\"request\"]\n",
    "                http_version = \"HTTP\" + har_req[\"httpVersion\"][4:]\n",
    "                request_str= har_req[\"method\"] + \" /\" + har_req[\"url\"].split(\"//\")[1].split(\"/\",maxsplit=1)[-1]+\" \"+ http_version + \"\\n\" \n",
    "                hostname = (har_req[\"url\"].split(\"//\")[1]).split(\"/\")[0]\n",
    "                request_str = request_str + \"Host\"+\": \" + hostname+\"\\n\"\n",
    "                for el in har_req[\"headers\"]:\n",
    "                    if el[\"name\"] not in (\"User-Agent\",\"Connection\"):continue\n",
    "                    request_str = request_str + el[\"name\"]+\": \" + el[\"value\"]+\"\\n\"\n",
    "                request_str = request_str + \"\\n\"\n",
    "                    # print(\"------------------------------\")\n",
    "                    # print(request_str)\n",
    "                    # print(\"------------------------------\")\n",
    "                encoded_request = request_str.encode()\n",
    "                "
   ]
  },
  {
   "cell_type": "code",
   "execution_count": null,
   "metadata": {},
   "outputs": [],
   "source": [
    "request_str"
   ]
  },
  {
   "cell_type": "code",
   "execution_count": null,
   "metadata": {},
   "outputs": [],
   "source": [
    "hostname"
   ]
  },
  {
   "cell_type": "code",
   "execution_count": null,
   "metadata": {
    "collapsed": true
   },
   "outputs": [],
   "source": [
    "client_socket = socket.socket(socket.AF_INET, socket.SOCK_STREAM) \n",
    "#   print(\"Hostname is \", hostname)\n",
    "client_socket.connect((hostname, 80))\n",
    "client_socket.send(encoded_request)\n",
    "received_bytes = b\"\"\n",
    "client_socket.settimeout(1.0)\n",
    "while 1:\n",
    "    try:\n",
    "        msg = client_socket.recv(1024)\n",
    "        if(len(msg)==0):\n",
    "            break\n",
    "        received_bytes = received_bytes + msg\n",
    "    except:\n",
    "        break\n"
   ]
  },
  {
   "cell_type": "code",
   "execution_count": null,
   "metadata": {},
   "outputs": [],
   "source": [
    "received_bytes"
   ]
  },
  {
   "cell_type": "code",
   "execution_count": null,
   "metadata": {
    "collapsed": true
   },
   "outputs": [],
   "source": [
    "                split = received_bytes.split(b\"\\r\\n\\r\\n\")\n",
    "                if len(received_bytes)<1 or len(split)<2:\n",
    "                    # print(\"unsplit \", url, \"byter r \", received_bytes)\n",
    "                    print(\"bbbb\")\n",
    "                client_socket.close()\n",
    "                if(len(split[0])<8):\n",
    "                    header = split[1]\n",
    "                    content = split[2]\n",
    "                else:\n",
    "                    header = split[0]\n",
    "                    content = split[1]\n",
    "                # print(\"c is   \"  ,foldername, \" \",content_file_path)\n"
   ]
  },
  {
   "cell_type": "code",
   "execution_count": null,
   "metadata": {},
   "outputs": [],
   "source": []
  },
  {
   "cell_type": "code",
   "execution_count": null,
   "metadata": {
    "collapsed": true
   },
   "outputs": [],
   "source": []
  },
  {
   "cell_type": "code",
   "execution_count": null,
   "metadata": {
    "collapsed": true
   },
   "outputs": [],
   "source": []
  },
  {
   "cell_type": "code",
   "execution_count": null,
   "metadata": {
    "collapsed": true
   },
   "outputs": [],
   "source": [
    "                client_socket = socket.socket(socket.AF_INET, socket.SOCK_STREAM) \n",
    "            #   print(\"Hostname is \", hostname)\n",
    "                client_socket.connect((hostname, 80))\n",
    "                client_socket.send(encoded_request)\n",
    "                received_bytes = b\"\"\n",
    "                client_socket.settimeout(0.7)\n",
    "                while 1:\n",
    "                    try:\n",
    "                        msg = client_socket.recv(1024)\n",
    "                        if(len(msg)==0):\n",
    "                            break\n",
    "                        received_bytes = received_bytes + msg\n",
    "                    except:\n",
    "                        break\n",
    "                split = received_bytes.split(b\"\\r\\n\\r\\n\")\n",
    "                if len(received_bytes)<1 or len(split)<2:\n",
    "                    # print(\"unsplit \", url, \"byter r \", received_bytes)\n",
    "                    continue\n",
    "                client_socket.close()\n",
    "                if(len(split[0])<8):\n",
    "                    header = split[1]\n",
    "                    content = split[2]\n",
    "                else:\n",
    "                    header = split[0]\n",
    "                    content = split[1]\n",
    "                # print(\"c is   \"  ,foldername, \" \",content_file_path)\n",
    "                if content_file_path[-1]==\"/\":\n",
    "                    content_file_path = content_file_path + \"index.html\"\n",
    "                if len(content_file_path)>90:\n",
    "                    # print(\"Truncated a name\")\n",
    "                    content_file_path = content_file_path[:90]\n",
    "                if not os.path.exists(os.path.dirname(content_file_path)):\n",
    "                    try:\n",
    "                        os.makedirs(os.path.dirname(content_file_path))\n",
    "                    except: # Guard against race condition\n",
    "                        print(\"Error :Race\")                \n",
    "                headerfile = open(content_file_path+\"_header\",\"wb\")\n",
    "                headerfile.write(header)\n",
    "                headerfile.close()\n",
    "                print(\"Processed \",content_file_path)\n",
    "                contentfile = open(content_file_path,\"wb\")\n",
    "                contentfile.write(content)\n",
    "                contentfile.close()\n",
    "#         else:\n",
    "#             for i in request_small:"
   ]
  },
  {
   "cell_type": "code",
   "execution_count": null,
   "metadata": {
    "collapsed": true
   },
   "outputs": [],
   "source": []
  },
  {
   "cell_type": "code",
   "execution_count": null,
   "metadata": {
    "collapsed": true
   },
   "outputs": [],
   "source": []
  },
  {
   "cell_type": "code",
   "execution_count": null,
   "metadata": {
    "collapsed": true
   },
   "outputs": [],
   "source": [
    "def fetch_thread(request_small):\n",
    "    if not PIPELINED:\n",
    "        for i in request_small:\n",
    "#             print(threading.current_thread().name, \" Processed url \", i[\"request\"][\"url\"])\n",
    "            url = i[\"request\"][\"url\"]\n",
    "            prefix = url[0:5]\n",
    "            # print(url)\n",
    "            if prefix != \"http:\":\n",
    "                print(\"skipped \", url)\n",
    "                continue\n",
    "            url_split = url.split(\"://\")\n",
    "\n",
    "            content_file_path = foldername\n",
    "            content_file_path = content_file_path + \"/\" + url_split[-1]\n",
    "            if 1==1:#int(i[\"response\"][\"content\"][\"size\"])!=0:\n",
    "                har_req = i[\"request\"]\n",
    "                http_version = \"HTTP\" + har_req[\"httpVersion\"][4:]\n",
    "                request_str= har_req[\"method\"] + \" /\" + har_req[\"url\"].split(\"//\")[1].split(\"/\",maxsplit=1)[-1]+\" \"+ http_version + \"\\n\" \n",
    "                hostname = (har_req[\"url\"].split(\"//\")[1]).split(\"/\")[0]\n",
    "                request_str = request_str + \"Host\"+\": \" + hostname+\"\\n\"\n",
    "                for el in har_req[\"headers\"]:\n",
    "                    if el[\"name\"] not in (\"User-Agent\",\"Connection\"):continue\n",
    "                    request_str = request_str + el[\"name\"]+\": \" + el[\"value\"]+\"\\n\"\n",
    "                request_str = request_str + \"\\n\"\n",
    "                    # print(\"------------------------------\")\n",
    "                    # print(request_str)\n",
    "                    # print(\"------------------------------\")\n",
    "                encoded_request = request_str.encode()\n",
    "                client_socket = socket.socket(socket.AF_INET, socket.SOCK_STREAM) \n",
    "            #   print(\"Hostname is \", hostname)\n",
    "                client_socket.connect((hostname, 80))\n",
    "                client_socket.send(encoded_request)\n",
    "                received_bytes = b\"\"\n",
    "                client_socket.settimeout(0.7)\n",
    "                while 1:\n",
    "                    try:\n",
    "                        msg = client_socket.recv(1024)\n",
    "                        if(len(msg)==0):\n",
    "                            break\n",
    "                        received_bytes = received_bytes + msg\n",
    "                    except:\n",
    "                        break\n",
    "                split = received_bytes.split(b\"\\r\\n\\r\\n\")\n",
    "                if len(received_bytes)<1 or len(split)<2:\n",
    "                    # print(\"unsplit \", url, \"byter r \", received_bytes)\n",
    "                    continue\n",
    "                client_socket.close()\n",
    "                if(len(split[0])<8):\n",
    "                    header = split[1]\n",
    "                    content = split[2]\n",
    "                else:\n",
    "                    header = split[0]\n",
    "                    content = split[1]\n",
    "                # print(\"c is   \"  ,foldername, \" \",content_file_path)\n",
    "                if content_file_path[-1]==\"/\":\n",
    "                    content_file_path = content_file_path + \"index.html\"\n",
    "                if len(content_file_path)>90:\n",
    "                    # print(\"Truncated a name\")\n",
    "                    content_file_path = content_file_path[:90]\n",
    "                if not os.path.exists(os.path.dirname(content_file_path)):\n",
    "                    try:\n",
    "                        os.makedirs(os.path.dirname(content_file_path))\n",
    "                    except: # Guard against race condition\n",
    "                        print(\"Error :Race\")                \n",
    "                headerfile = open(content_file_path+\"_header\",\"wb\")\n",
    "                headerfile.write(header)\n",
    "                headerfile.close()\n",
    "                print(\"Processed \",content_file_path)\n",
    "                contentfile = open(content_file_path,\"wb\")\n",
    "                contentfile.write(content)\n",
    "                contentfile.close()\n",
    "#         else:\n",
    "#             for i in request_small:\n",
    "                \n",
    "def dom_thread_fun(reqlist):\n",
    "    tl = []\n",
    "    done = 0\n",
    "    tind = 0\n",
    "    while len(reqlist) != done:\n",
    "        while len(tl) >= numThreadsPerDomain:\n",
    "            for th in tl:\n",
    "                if not th.isAlive():\n",
    "                    tl.remove(th)\n",
    "                    break\n",
    "        tempList = reqlist[done:min(done+numObjectsPerThread, len(reqlist))]\n",
    "        done += len(tempList)\n",
    "        nt  = threading.Thread(name=threading.current_thread().name+\"fetch\"+str(tind),target=fetch_thread,args=(tempList,))\n",
    "        tl.append(nt)\n",
    "        tind+=1\n",
    "        nt.start()\n",
    "start_time = time.time()"
   ]
  },
  {
   "cell_type": "code",
   "execution_count": null,
   "metadata": {
    "collapsed": true
   },
   "outputs": [],
   "source": [
    "for i in har_json[\"log\"][\"entries\"]:\n",
    "    domain_name = i[\"request\"][\"url\"].split(\"//\",maxsplit=1)[-1].split(\"/\")[0].split(\".\",maxsplit=1)[1]\n",
    "    if domain_name in domain_dict.keys():\n",
    "        domain_dict[domain_name].append(i)\n",
    "    else:\n",
    "        domain_dict[domain_name] = [i]\n",
    "list_of_threads = []"
   ]
  },
  {
   "cell_type": "code",
   "execution_count": null,
   "metadata": {},
   "outputs": [],
   "source": [
    "domain_dict"
   ]
  },
  {
   "cell_type": "code",
   "execution_count": null,
   "metadata": {
    "collapsed": true
   },
   "outputs": [],
   "source": [
    "for dom in domain_dict.keys():\n",
    "    t = threading.Thread(name=dom,target=dom_thread_fun,args=(domain_dict[dom],))\n",
    "    list_of_threads.append(t)\n",
    "    t.start()\n",
    "while(threading.activeCount()!=act):\n",
    "#     print(\"-\")\n",
    "    pass\n",
    "elapsed_time = time.time() - start_time\n",
    "print(\"Time Elasped is \", elapsed_time)"
   ]
  },
  {
   "cell_type": "code",
   "execution_count": null,
   "metadata": {
    "collapsed": true
   },
   "outputs": [],
   "source": []
  },
  {
   "cell_type": "code",
   "execution_count": null,
   "metadata": {
    "collapsed": true
   },
   "outputs": [],
   "source": []
  },
  {
   "cell_type": "code",
   "execution_count": null,
   "metadata": {
    "collapsed": true
   },
   "outputs": [],
   "source": []
  },
  {
   "cell_type": "code",
   "execution_count": null,
   "metadata": {
    "collapsed": true
   },
   "outputs": [],
   "source": []
  },
  {
   "cell_type": "code",
   "execution_count": null,
   "metadata": {
    "collapsed": true
   },
   "outputs": [],
   "source": []
  },
  {
   "cell_type": "code",
   "execution_count": null,
   "metadata": {
    "collapsed": true
   },
   "outputs": [],
   "source": []
  },
  {
   "cell_type": "code",
   "execution_count": null,
   "metadata": {
    "collapsed": true
   },
   "outputs": [],
   "source": []
  },
  {
   "cell_type": "code",
   "execution_count": null,
   "metadata": {
    "collapsed": true
   },
   "outputs": [],
   "source": [
    "import socket\n",
    "import json\n",
    "import base64\n",
    "import time\n",
    "import os\n",
    "import threading\n",
    "numThreadsPerDomain = 3\n",
    "numObjectsPerThread = 2\n",
    "harfile_name = \"bbc.har\"\n",
    "PIPELINED = False\n",
    "foldername = harfile_name.split(\".\")[0]\n",
    "harfile = open(harfile_name,\"r\")\n",
    "har_json = json.load(harfile)\n",
    "num_requests = len(har_json[\"log\"][\"entries\"])\n",
    "domain_dict = {}\n",
    "act = threading.activeCount()\n"
   ]
  },
  {
   "cell_type": "code",
   "execution_count": null,
   "metadata": {
    "collapsed": true
   },
   "outputs": [],
   "source": [
    "a = {}"
   ]
  },
  {
   "cell_type": "code",
   "execution_count": null,
   "metadata": {
    "collapsed": true
   },
   "outputs": [],
   "source": [
    "l = [\"a\",\"b\",\"c\"]"
   ]
  },
  {
   "cell_type": "code",
   "execution_count": null,
   "metadata": {
    "collapsed": true
   },
   "outputs": [],
   "source": [
    "a[elem] = 0 if elem not in a.keys()  else a[elem]+1"
   ]
  },
  {
   "cell_type": "code",
   "execution_count": null,
   "metadata": {},
   "outputs": [],
   "source": [
    "a"
   ]
  },
  {
   "cell_type": "code",
   "execution_count": null,
   "metadata": {
    "collapsed": true
   },
   "outputs": [],
   "source": [
    "p = []"
   ]
  },
  {
   "cell_type": "code",
   "execution_count": null,
   "metadata": {},
   "outputs": [],
   "source": [
    "har_json[\"log\"][\"entries\"][2]"
   ]
  },
  {
   "cell_type": "code",
   "execution_count": null,
   "metadata": {},
   "outputs": [],
   "source": [
    "for i in range(len(har_json[\"log\"][\"entries\"])):\n",
    "    dd =  har_json[\"log\"][\"entries\"][i][\"response\"][\"content\"][\"size\"]\n",
    "    if dd==0:\n",
    "        p.append(har_json[\"log\"][\"entries\"][i])\n",
    "    print(har_json[\"log\"][\"entries\"][i][\"response\"][\"content\"][\"size\"])"
   ]
  },
  {
   "cell_type": "code",
   "execution_count": null,
   "metadata": {},
   "outputs": [],
   "source": [
    "p[2]"
   ]
  },
  {
   "cell_type": "code",
   "execution_count": null,
   "metadata": {
    "collapsed": true
   },
   "outputs": [],
   "source": [
    "dd = \"http://wwwdefdfw.gsta.hbj.tic.com/ds./././.d/saddar\""
   ]
  },
  {
   "cell_type": "code",
   "execution_count": null,
   "metadata": {},
   "outputs": [],
   "source": [
    "dd.split(\"//\")[1].split(\"/\",maxsplit=1)[0].split(\".\",maxsplit=1)[-1]"
   ]
  },
  {
   "cell_type": "code",
   "execution_count": null,
   "metadata": {
    "scrolled": true
   },
   "outputs": [],
   "source": [
    "len(har_json[\"log\"][\"entries\"])"
   ]
  },
  {
   "cell_type": "code",
   "execution_count": null,
   "metadata": {},
   "outputs": [],
   "source": [
    "num_requests"
   ]
  },
  {
   "cell_type": "code",
   "execution_count": null,
   "metadata": {
    "collapsed": true
   },
   "outputs": [],
   "source": []
  },
  {
   "cell_type": "code",
   "execution_count": null,
   "metadata": {
    "collapsed": true
   },
   "outputs": [],
   "source": []
  },
  {
   "cell_type": "code",
   "execution_count": null,
   "metadata": {
    "collapsed": true
   },
   "outputs": [],
   "source": []
  },
  {
   "cell_type": "code",
   "execution_count": null,
   "metadata": {
    "collapsed": true
   },
   "outputs": [],
   "source": [
    "def fetch_thread(request_small):\n",
    "    if not PIPELINED:\n",
    "        for i in request_small:\n",
    "#             print(threading.current_thread().name, \" Processed url \", i[\"request\"][\"url\"])\n",
    "            url = i[\"request\"][\"url\"]\n",
    "            prefix = url[0:5]\n",
    "            if prefix != \"http:\":\n",
    "                continue\n",
    "            url_split = url.split(\"://\")\n",
    "\n",
    "            content_file_path = foldername\n",
    "            content_file_path = content_file_path + \"/\" + url_split[-1]\n",
    "            if int(i[\"response\"][\"content\"][\"size\"])!=0:\n",
    "                if content_file_path[-1]==\"/\":\n",
    "                    content_file_path = content_file_path + \"index.html\"\n",
    "                if not os.path.exists(os.path.dirname(content_file_path)):\n",
    "                    try:\n",
    "                        os.makedirs(os.path.dirname(content_file_path))\n",
    "                    except: # Guard against race condition\n",
    "                        print(\"Error :Race\")\n",
    "                        exit(1)\n",
    "                har_req = i[\"request\"]\n",
    "                http_version = \"HTTP\" + har_req[\"httpVersion\"][4:]\n",
    "                request_str= har_req[\"method\"] + \" /\" + har_req[\"url\"].split(\"//\")[1].split(\"/\",maxsplit=1)[-1]+\" \"+ http_version + \"\\n\" \n",
    "                hostname = (har_req[\"url\"].split(\"//\")[1]).split(\"/\")[0]\n",
    "                request_str = request_str + \"Host\"+\": \" + hostname+\"\\n\"\n",
    "                for el in har_req[\"headers\"]:\n",
    "                    if el[\"name\"] not in (\"User-Agent\",\"Connection\"):continue\n",
    "                    request_str = request_str + el[\"name\"]+\": \" + el[\"value\"]+\"\\n\"\n",
    "                request_str = request_str + \"\\n\"\n",
    "        #         print(\"------------------------------\")\n",
    "        #         print(request_str)\n",
    "        #         print(\"------------------------------\")\n",
    "                encoded_request = request_str.encode()\n",
    "                client_socket = socket.socket(socket.AF_INET, socket.SOCK_STREAM) \n",
    "                print(\"Hostname is \", hostname)\n",
    "                client_socket.connect((hostname, 80))\n",
    "                client_socket.send(encoded_request)\n",
    "                received_bytes = b\"\"\n",
    "                client_socket.settimeout(0.2)\n",
    "                while 1:\n",
    "                    try:\n",
    "                        msg = client_socket.recv(1024)\n",
    "                        if(len(msg)==0):\n",
    "                            break\n",
    "                        received_bytes = received_bytes + msg\n",
    "                    except:\n",
    "                        break\n",
    "\n",
    "                header = received_bytes.split(b\"\\r\\n\\r\\n\")[0]\n",
    "                client_socket.close()\n",
    "                content = received_bytes.split(b\"\\r\\n\\r\\n\")[-1]\n",
    "                headerfile = open(content_file_path+\"_header\",\"wb\")\n",
    "                headerfile.write(header)\n",
    "                headerfile.close()\n",
    "                contentfile = open(content_file_path,\"wb\")\n",
    "                contentfile.write(content)\n",
    "                contentfile.close()\n",
    "#         else:\n",
    "#             for i in request_small:\n",
    "                \n"
   ]
  },
  {
   "cell_type": "code",
   "execution_count": null,
   "metadata": {
    "collapsed": true
   },
   "outputs": [],
   "source": [
    "def dom_thread_fun(reqlist):\n",
    "    tl = []\n",
    "    done = 0\n",
    "    tind = 0\n",
    "    while len(reqlist) != done:\n",
    "        if len(tl) == numThreadsPerDomain:\n",
    "            while 1:\n",
    "                a = 0\n",
    "                for th in tl:\n",
    "                    if th.isAlive():\n",
    "                        a = 1\n",
    "                if a==1:\n",
    "                    continue\n",
    "                else:\n",
    "                    tl =[]\n",
    "                    break\n",
    "        tempList = reqlist[done:min(done+numObjectsPerThread, len(reqlist))]\n",
    "        done += len(tempList)\n",
    "        nt  = threading.Thread(name=threading.current_thread().name+\"fetch\"+str(tind),target=fetch_thread,args=(tempList,))\n",
    "        tl.append(nt)\n",
    "        tind+=1\n",
    "        nt.start()"
   ]
  },
  {
   "cell_type": "code",
   "execution_count": null,
   "metadata": {},
   "outputs": [],
   "source": [
    "start_time = time.time()\n",
    "for i in har_json[\"log\"][\"entries\"]:\n",
    "    domain_name = i[\"request\"][\"url\"].split(\"//\",maxsplit=1)[-1].split(\"/\")[0].split(\".\",maxsplit=1)[1]\n",
    "    if domain_name in domain_dict.keys():\n",
    "        domain_dict[domain_name].append(i)\n",
    "    else:\n",
    "        domain_dict[domain_name] = [i]\n",
    "list_of_threads = []\n",
    "for dom in domain_dict.keys():\n",
    "    t = threading.Thread(name=dom,target=dom_thread_fun,args=(domain_dict[dom],))\n",
    "    list_of_threads.append(t)\n",
    "    t.start()\n",
    "while(threading.activeCount()!=act):\n",
    "#     print(\"-\")\n",
    "    pass\n",
    "elapsed_time = time.time() - start_time\n",
    "print(\"Time Elasped is \", elapsed_time)"
   ]
  },
  {
   "cell_type": "code",
   "execution_count": null,
   "metadata": {
    "collapsed": true
   },
   "outputs": [],
   "source": [
    "import socket\n",
    "import json\n",
    "import base64\n",
    "import time\n",
    "import os\n",
    "import threading\n",
    "numThreadsPerDomain = 3\n",
    "numObjectsPerThread = 2\n",
    "harfile_name = \"bbc.har\"\n",
    "PIPELINED = False\n",
    "foldername = harfile_name.split(\".\")[0]\n",
    "harfile = open(harfile_name,\"r\")\n",
    "har_json = json.load(harfile)\n",
    "num_requests = len(har_json[\"log\"][\"entries\"])\n",
    "domain_dict = {}\n",
    "act = threading.activeCount()"
   ]
  },
  {
   "cell_type": "code",
   "execution_count": null,
   "metadata": {},
   "outputs": [],
   "source": [
    "num_requests"
   ]
  },
  {
   "cell_type": "code",
   "execution_count": null,
   "metadata": {
    "collapsed": true
   },
   "outputs": [],
   "source": [
    "request_small = har_json[\"log\"][\"entries\"]"
   ]
  },
  {
   "cell_type": "code",
   "execution_count": null,
   "metadata": {
    "collapsed": true
   },
   "outputs": [],
   "source": [
    "har_json= json.load(open(\"bbc.har\",\"r\"))\n",
    "for i in har_json[\"log\"][\"entries\"]:\n",
    "    domain_name = i[\"request\"][\"url\"].split(\"//\",maxsplit=1)[-1].split(\"/\")[0].split(\".\",maxsplit=1)[1]\n",
    "    if domain_name in domain_dict.keys():\n",
    "        domain_dict[domain_name].append(i)\n",
    "    else:\n",
    "        domain_dict[domain_name] = [i]\n",
    "request_small = domain_dict[\"bbci.co.uk\"]\n",
    "request_small = request_small[0:6]"
   ]
  },
  {
   "cell_type": "code",
   "execution_count": null,
   "metadata": {},
   "outputs": [],
   "source": [
    "domain_dict.keys()"
   ]
  },
  {
   "cell_type": "code",
   "execution_count": null,
   "metadata": {
    "collapsed": true
   },
   "outputs": [],
   "source": []
  },
  {
   "cell_type": "code",
   "execution_count": null,
   "metadata": {
    "collapsed": true
   },
   "outputs": [],
   "source": []
  },
  {
   "cell_type": "code",
   "execution_count": null,
   "metadata": {},
   "outputs": [],
   "source": [
    "len(request_small)"
   ]
  },
  {
   "cell_type": "code",
   "execution_count": null,
   "metadata": {},
   "outputs": [],
   "source": [
    "        for i in request_small:\n",
    "#             print(threading.current_thread().name, \" Processed url \", i[\"request\"][\"url\"])\n",
    "            url = i[\"request\"][\"url\"]\n",
    "            prefix = url[0:5]\n",
    "            if prefix != \"http:\":\n",
    "                continue\n",
    "            url_split = url.split(\"://\")\n",
    "\n",
    "            content_file_path = foldername\n",
    "            content_file_path = content_file_path + \"/\" + url_split[-1]\n",
    "            if 1==1:\n",
    "                if content_file_path[-1]==\"/\":\n",
    "                    content_file_path = content_file_path + \"index.html\"\n",
    "                if not os.path.exists(os.path.dirname(content_file_path)):\n",
    "                    try:\n",
    "                        os.makedirs(os.path.dirname(content_file_path))\n",
    "                    except: # Guard against race condition\n",
    "                        print(\"Error :Race\")\n",
    "                        exit(1)\n",
    "                har_req = i[\"request\"]\n",
    "                http_version = \"HTTP\" + har_req[\"httpVersion\"][4:]\n",
    "                request_str= har_req[\"method\"] + \" /\" + har_req[\"url\"].split(\"//\")[1].split(\"/\",maxsplit=1)[-1]+\" \"+ http_version + \"\\n\" \n",
    "                hostname = (har_req[\"url\"].split(\"//\")[1]).split(\"/\")[0]\n",
    "                request_str = request_str + \"Host\"+\": \" + hostname+\"\\n\"\n",
    "                for el in har_req[\"headers\"]:\n",
    "                    if el[\"name\"] not in (\"User-Agent\",\"Connection\"):continue\n",
    "                    request_str = request_str + el[\"name\"]+\": \" + el[\"value\"]+\"\\n\"\n",
    "                request_str = request_str + \"\\r\\n\"\n",
    "#                 print(\"------------------------------\")\n",
    "#                 print(request_str)\n",
    "#                 print(\"------------------------------\")\n",
    "                encoded_request = request_str.encode()\n",
    "                client_socket = socket.socket(socket.AF_INET, socket.SOCK_STREAM) \n",
    "                print(\"Hostname is \", hostname)\n",
    "                client_socket.connect((hostname, 80))\n",
    "                client_socket.send(encoded_request)\n",
    "                received_bytes = b\"\"\n",
    "                client_socket.settimeout(0.6)\n",
    "                while 1:\n",
    "                    try:\n",
    "                        msg = client_socket.recv(1024)\n",
    "                        print(len(msg))\n",
    "                        if(len(msg)==0):\n",
    "                            break\n",
    "                        received_bytes = received_bytes + msg\n",
    "                    except:\n",
    "                        break\n",
    "                spl = received_bytes.split(b\"\\r\\n\\r\\n\")\n",
    "#                 print(spl)\n",
    "                header = spl[0]\n",
    "                client_socket.close()\n",
    "                content = spl[1]\n",
    "                headerfile = open(content_file_path+\"_header\",\"wb\")\n",
    "                headerfile.write(header)\n",
    "                headerfile.close()\n",
    "                contentfile = open(content_file_path,\"wb\")\n",
    "#                 print(content)\n",
    "                contentfile.write(content)\n",
    "                contentfile.close()\n"
   ]
  },
  {
   "cell_type": "code",
   "execution_count": null,
   "metadata": {},
   "outputs": [],
   "source": [
    "client_socket = socket.socket(socket.AF_INET, socket.SOCK_STREAM) \n",
    "x = 0\n",
    "for i in request_small:\n",
    "#             print(threading.current_thread().name, \" Processed url \", i[\"request\"][\"url\"])\n",
    "    url = i[\"request\"][\"url\"]\n",
    "    prefix = url[0:5]\n",
    "    if prefix != \"http:\":\n",
    "        continue\n",
    "    url_split = url.split(\"://\")\n",
    "\n",
    "    content_file_path = foldername\n",
    "    content_file_path = content_file_path + \"/\" + url_split[-1]\n",
    "    if 1:\n",
    "        if content_file_path[-1]==\"/\":\n",
    "            content_file_path = content_file_path + \"index.html\"\n",
    "        if not os.path.exists(os.path.dirname(content_file_path)):\n",
    "            try:\n",
    "                os.makedirs(os.path.dirname(content_file_path))\n",
    "            except: # Guard against race condition\n",
    "                print(\"Error :Race\")\n",
    "                exit(1)\n",
    "        har_req = i[\"request\"]\n",
    "        http_version = \"HTTP\" + har_req[\"httpVersion\"][4:]\n",
    "        request_str= har_req[\"method\"] + \" /\" + har_req[\"url\"].split(\"//\")[1].split(\"/\",maxsplit=1)[-1]+\" \"+ http_version + \"\\n\" \n",
    "        hostname = (har_req[\"url\"].split(\"//\")[1]).split(\"/\")[0]\n",
    "        request_str = request_str + \"Host\"+\": \" + hostname+\"\\n\"\n",
    "        request_str = request_str + \"Connection\"+\": \" + \"keep-alive\"+\"\\n\"\n",
    "        for el in har_req[\"headers\"]:\n",
    "            if el[\"name\"] not in (\"User-Agent\"):continue\n",
    "            request_str = request_str + el[\"name\"]+\": \" + el[\"value\"]+\"\\n\"\n",
    "        request_str = request_str + \"\\r\\n\\r\\n\"\n",
    "        print(\"------------------------------\")\n",
    "        print(request_str)\n",
    "        print(\"------------------------------\")\n",
    "        encoded_request = request_str.encode()\n",
    "        print(\"Hostname is \", hostname)\n",
    "        if x==0:\n",
    "            x=1\n",
    "            client_socket.connect((hostname, 80))\n",
    "        client_socket.send(encoded_request)"
   ]
  },
  {
   "cell_type": "code",
   "execution_count": null,
   "metadata": {},
   "outputs": [],
   "source": [
    "received_bytes = b\"\"\n",
    "client_socket.settimeout(0.6)\n",
    "while 1:\n",
    "    try:\n",
    "        msg = client_socket.recv(1024)\n",
    "        print(len(msg))\n",
    "        if(len(msg)==0):\n",
    "            pass\n",
    "        received_bytes = received_bytes + msg\n",
    "    except:\n",
    "        print(\"eeeee\")\n",
    "        break\n",
    "spl = received_bytes.split(b\"\\r\\n\\r\\n\")"
   ]
  },
  {
   "cell_type": "code",
   "execution_count": null,
   "metadata": {},
   "outputs": [],
   "source": [
    "len(spl)"
   ]
  },
  {
   "cell_type": "code",
   "execution_count": null,
   "metadata": {},
   "outputs": [],
   "source": [
    "spl[0]"
   ]
  },
  {
   "cell_type": "code",
   "execution_count": null,
   "metadata": {},
   "outputs": [],
   "source": [
    "spl[1]"
   ]
  },
  {
   "cell_type": "code",
   "execution_count": null,
   "metadata": {
    "scrolled": true
   },
   "outputs": [],
   "source": [
    "for n in spl:\n",
    "    print(\"--------------------\")\n",
    "    print(n[0:min(len(n),150)])"
   ]
  },
  {
   "cell_type": "code",
   "execution_count": null,
   "metadata": {
    "scrolled": true
   },
   "outputs": [],
   "source": [
    "print(received_bytes)"
   ]
  },
  {
   "cell_type": "code",
   "execution_count": null,
   "metadata": {
    "collapsed": true
   },
   "outputs": [],
   "source": []
  },
  {
   "cell_type": "code",
   "execution_count": null,
   "metadata": {
    "collapsed": true
   },
   "outputs": [],
   "source": []
  },
  {
   "cell_type": "code",
   "execution_count": null,
   "metadata": {
    "collapsed": true
   },
   "outputs": [],
   "source": []
  },
  {
   "cell_type": "code",
   "execution_count": null,
   "metadata": {
    "collapsed": true
   },
   "outputs": [],
   "source": []
  },
  {
   "cell_type": "code",
   "execution_count": null,
   "metadata": {
    "collapsed": true
   },
   "outputs": [],
   "source": []
  },
  {
   "cell_type": "code",
   "execution_count": null,
   "metadata": {
    "collapsed": true
   },
   "outputs": [],
   "source": [
    "import socket\n",
    "import json\n",
    "import base64\n",
    "import os\n",
    "import threading\n",
    "\n",
    "harfile_name = \"bbc.har\"\n",
    "foldername = harfile_name.split(\".\")[0]\n",
    "harfile = open(harfile_name,\"r\")\n",
    "har_json = json.load(harfile)\n",
    "num_requests = len(har_json[\"log\"][\"entries\"])\n",
    "for i in har_json[\"log\"][\"entries\"]:\n",
    "    url = i[\"request\"][\"url\"]\n",
    "    prefix = url[0:5]\n",
    "    # print(prefix)\n",
    "    if prefix != \"http:\":\n",
    "        continue\n",
    "    url_split = url.split(\"://\")\n",
    "    \n",
    "    content_file_path = foldername\n",
    "    content_file_path = content_file_path + \"/\" + url_split[-1]\n",
    "    if int(i[\"response\"][\"content\"][\"size\"])!=0:\n",
    "#         if not \"text\" in i[\"response\"][\"content\"].keys():\n",
    "#             continue\n",
    "        print(content_file_path)\n",
    "        if content_file_path[-1]==\"/\":\n",
    "            content_file_path = content_file_path + \"index.html\"\n",
    "        # print(os.path.dirname(right_part))\n",
    "        if not os.path.exists(os.path.dirname(content_file_path)):\n",
    "            try:\n",
    "                os.makedirs(os.path.dirname(content_file_path))\n",
    "            except: # Guard against race condition\n",
    "                print(\"Error :Race\")\n",
    "                exit(1)\n",
    "        har_req = i[\"request\"]\n",
    "        http_version = \"HTTP\" + har_req[\"httpVersion\"][4:]\n",
    "        request_str= har_req[\"method\"] + \" /\" + har_req[\"url\"].split(\"//\")[1].split(\"/\",maxsplit=1)[-1]+\" \"+ http_version + \"\\n\" \n",
    "        hostname = (har_req[\"url\"].split(\"//\")[1]).split(\"/\")[0]\n",
    "        request_str = request_str + \"Host\"+\": \" + hostname+\"\\n\"\n",
    "        for el in har_req[\"headers\"]:\n",
    "            if el[\"name\"] not in (\"User-Agent\",\"Connection\"):continue\n",
    "            request_str = request_str + el[\"name\"]+\": \" + el[\"value\"]+\"\\n\"\n",
    "#         request_str = request_str + \"Conncetion\"+\": \" + \"Close\"+\"\\n\"\n",
    "#         request_str = request_str + \"User-Agent\"+\": \" + har_req[\"headers\"]+\"\\n\"\n",
    "        request_str = request_str + \"\\n\"\n",
    "        print(\"------------------------------\")\n",
    "        print(request_str)\n",
    "        print(\"------------------------------\")\n",
    "        encoded_request = request_str.encode()\n",
    "        client_socket = socket.socket(socket.AF_INET, socket.SOCK_STREAM) \n",
    "        print(\"Hostname is \", hostname)\n",
    "        client_socket.connect((hostname, 80))\n",
    "        client_socket.send(encoded_request)\n",
    "        received_bytes = b\"\"\n",
    "        client_socket.settimeout(0.2)\n",
    "        while 1:\n",
    "            try:\n",
    "                msg = client_socket.recv(1024)\n",
    "                if(len(msg)==0):\n",
    "                    break\n",
    "                received_bytes = received_bytes + msg\n",
    "            except:\n",
    "                break\n",
    "                \n",
    "        header = received_bytes.split(b\"\\r\\n\\r\\n\")[0]\n",
    "        client_socket.close()\n",
    "        content = received_bytes.split(b\"\\r\\n\\r\\n\")[-1]\n",
    "        headerfile = open(content_file_path+\"_header\",\"wb\")\n",
    "        headerfile.write(header)\n",
    "        headerfile.close()\n",
    "        contentfile = open(content_file_path,\"wb\")\n",
    "        contentfile.write(content)\n",
    "        contentfile.close()\n",
    "        \n",
    "        \n",
    "        \n"
   ]
  },
  {
   "cell_type": "code",
   "execution_count": null,
   "metadata": {
    "collapsed": true
   },
   "outputs": [],
   "source": []
  },
  {
   "cell_type": "code",
   "execution_count": null,
   "metadata": {
    "collapsed": true
   },
   "outputs": [],
   "source": []
  },
  {
   "cell_type": "code",
   "execution_count": null,
   "metadata": {
    "collapsed": true
   },
   "outputs": [],
   "source": []
  },
  {
   "cell_type": "code",
   "execution_count": null,
   "metadata": {
    "collapsed": true
   },
   "outputs": [],
   "source": [
    "import socket\n",
    "import json\n",
    "import base64\n",
    "import os\n",
    "harfile_name = \"bbc.har\"\n",
    "foldername = harfile_name.split(\".\")[0]\n",
    "harfile = open(harfile_name,\"r\")\n",
    "har_json = json.load(harfile)\n",
    "num_requests = len(har_json[\"log\"][\"entries\"])\n",
    "\n",
    "  "
   ]
  },
  {
   "cell_type": "code",
   "execution_count": null,
   "metadata": {
    "collapsed": true
   },
   "outputs": [],
   "source": [
    "c = har_json[\"log\"][\"entries\"][11]"
   ]
  },
  {
   "cell_type": "code",
   "execution_count": null,
   "metadata": {
    "collapsed": true
   },
   "outputs": [],
   "source": [
    "c"
   ]
  },
  {
   "cell_type": "code",
   "execution_count": null,
   "metadata": {
    "collapsed": true
   },
   "outputs": [],
   "source": [
    "c"
   ]
  },
  {
   "cell_type": "code",
   "execution_count": null,
   "metadata": {
    "collapsed": true
   },
   "outputs": [],
   "source": [
    "r = c[\"request\"]"
   ]
  },
  {
   "cell_type": "code",
   "execution_count": null,
   "metadata": {
    "collapsed": true
   },
   "outputs": [],
   "source": [
    "r"
   ]
  },
  {
   "cell_type": "code",
   "execution_count": null,
   "metadata": {
    "collapsed": true
   },
   "outputs": [],
   "source": []
  },
  {
   "cell_type": "code",
   "execution_count": null,
   "metadata": {
    "collapsed": true,
    "scrolled": true
   },
   "outputs": [],
   "source": [
    "requ = r[\"method\"] + \" /\" + r[\"url\"].split(\"//\")[1].split(\"/\",maxsplit=1)[-1]+\" \"+ r[\"httpVersion\"] + \"\\n\" "
   ]
  },
  {
   "cell_type": "code",
   "execution_count": null,
   "metadata": {
    "collapsed": true
   },
   "outputs": [],
   "source": [
    "requ"
   ]
  },
  {
   "cell_type": "code",
   "execution_count": null,
   "metadata": {
    "collapsed": true
   },
   "outputs": [],
   "source": [
    "url\n"
   ]
  },
  {
   "cell_type": "code",
   "execution_count": null,
   "metadata": {
    "collapsed": true
   },
   "outputs": [],
   "source": [
    "requ = requ[:-9] + \"HTTP/1.1\\n\""
   ]
  },
  {
   "cell_type": "code",
   "execution_count": null,
   "metadata": {
    "collapsed": true
   },
   "outputs": [],
   "source": [
    "r[\"url\"]"
   ]
  },
  {
   "cell_type": "code",
   "execution_count": null,
   "metadata": {
    "collapsed": true
   },
   "outputs": [],
   "source": [
    "hostname = (r[\"url\"].split(\"//\")[1]).split(\"/\")[0]"
   ]
  },
  {
   "cell_type": "code",
   "execution_count": null,
   "metadata": {
    "collapsed": true
   },
   "outputs": [],
   "source": [
    "hostname"
   ]
  },
  {
   "cell_type": "code",
   "execution_count": null,
   "metadata": {
    "collapsed": true
   },
   "outputs": [],
   "source": [
    "crauy.split(\",\",maxsplit=1)"
   ]
  },
  {
   "cell_type": "code",
   "execution_count": null,
   "metadata": {
    "collapsed": true
   },
   "outputs": [],
   "source": []
  },
  {
   "cell_type": "code",
   "execution_count": null,
   "metadata": {
    "collapsed": true
   },
   "outputs": [],
   "source": []
  },
  {
   "cell_type": "code",
   "execution_count": null,
   "metadata": {
    "collapsed": true
   },
   "outputs": [],
   "source": []
  },
  {
   "cell_type": "code",
   "execution_count": null,
   "metadata": {
    "collapsed": true
   },
   "outputs": [],
   "source": [
    "for el in r[\"headers\"]:\n",
    "    if el[\"name\"] not in (\"User-Agent\",\"Connection\"):continue\n",
    "#     if(el[\"name\"]==\"Host\"):\n",
    "#         hostname = el[\"value\"]\n",
    "\n",
    "    requ = requ + el[\"name\"]+\": \" + el[\"value\"]+\"\\n\""
   ]
  },
  {
   "cell_type": "code",
   "execution_count": null,
   "metadata": {
    "collapsed": true
   },
   "outputs": [],
   "source": [
    "requ = requ + \"Host\"+\": \" + hostname+\"\\n\""
   ]
  },
  {
   "cell_type": "code",
   "execution_count": null,
   "metadata": {
    "collapsed": true
   },
   "outputs": [],
   "source": [
    "requ"
   ]
  },
  {
   "cell_type": "code",
   "execution_count": null,
   "metadata": {
    "collapsed": true
   },
   "outputs": [],
   "source": [
    "requ = requ+\"\\n\""
   ]
  },
  {
   "cell_type": "code",
   "execution_count": null,
   "metadata": {
    "collapsed": true
   },
   "outputs": [],
   "source": [
    "en = requ.encode()"
   ]
  },
  {
   "cell_type": "code",
   "execution_count": null,
   "metadata": {
    "collapsed": true
   },
   "outputs": [],
   "source": [
    "hostname"
   ]
  },
  {
   "cell_type": "code",
   "execution_count": null,
   "metadata": {
    "collapsed": true,
    "scrolled": true
   },
   "outputs": [],
   "source": [
    "client_socket = socket.socket(socket.AF_INET, socket.SOCK_STREAM) \n",
    "client_socket.connect((hostname, 80))                               \n"
   ]
  },
  {
   "cell_type": "code",
   "execution_count": null,
   "metadata": {
    "collapsed": true
   },
   "outputs": [],
   "source": [
    "client_socket.send(en)\n"
   ]
  },
  {
   "cell_type": "code",
   "execution_count": null,
   "metadata": {
    "collapsed": true
   },
   "outputs": [],
   "source": [
    "d = b\"\""
   ]
  },
  {
   "cell_type": "code",
   "execution_count": null,
   "metadata": {
    "collapsed": true
   },
   "outputs": [],
   "source": [
    "import re\n",
    "# substitute sequence of non-ASCII characters with single space\n",
    "# str = re.sub(r'[^\\x00-\\x7F]+',' ', str)\n"
   ]
  },
  {
   "cell_type": "code",
   "execution_count": null,
   "metadata": {
    "collapsed": true
   },
   "outputs": [],
   "source": [
    "while 1:\n",
    "    msg = client_socket.recv(1024)\n",
    "    if len(msg)!=1024:\n",
    "        d = d + msg\n",
    "        break\n",
    "    else:\n",
    "#         msg = re.sub(r'[^\\x00-\\x7F]+',' ', msg)\n",
    "        d= d+msg\n"
   ]
  },
  {
   "cell_type": "code",
   "execution_count": null,
   "metadata": {
    "collapsed": true
   },
   "outputs": [],
   "source": []
  },
  {
   "cell_type": "code",
   "execution_count": null,
   "metadata": {
    "collapsed": true
   },
   "outputs": [],
   "source": [
    "len(d)"
   ]
  },
  {
   "cell_type": "code",
   "execution_count": null,
   "metadata": {
    "collapsed": true
   },
   "outputs": [],
   "source": [
    "d.split(b\"\\r\\n\\r\\n\")[-1]"
   ]
  },
  {
   "cell_type": "code",
   "execution_count": null,
   "metadata": {
    "collapsed": true
   },
   "outputs": [],
   "source": []
  },
  {
   "cell_type": "code",
   "execution_count": null,
   "metadata": {
    "collapsed": true
   },
   "outputs": [],
   "source": [
    "d[:777]"
   ]
  },
  {
   "cell_type": "code",
   "execution_count": null,
   "metadata": {
    "collapsed": true
   },
   "outputs": [],
   "source": [
    "dec = d.decode(\"utf8\")"
   ]
  },
  {
   "cell_type": "code",
   "execution_count": null,
   "metadata": {
    "collapsed": true
   },
   "outputs": [],
   "source": [
    "dec"
   ]
  },
  {
   "cell_type": "code",
   "execution_count": null,
   "metadata": {
    "collapsed": true
   },
   "outputs": [],
   "source": [
    "dec[-100:]"
   ]
  },
  {
   "cell_type": "code",
   "execution_count": null,
   "metadata": {
    "collapsed": true
   },
   "outputs": [],
   "source": []
  },
  {
   "cell_type": "code",
   "execution_count": null,
   "metadata": {
    "collapsed": true
   },
   "outputs": [],
   "source": []
  },
  {
   "cell_type": "code",
   "execution_count": null,
   "metadata": {
    "collapsed": true
   },
   "outputs": [],
   "source": [
    "    msg = client_socket.recv(1024)\n"
   ]
  },
  {
   "cell_type": "code",
   "execution_count": null,
   "metadata": {
    "collapsed": true
   },
   "outputs": [],
   "source": []
  },
  {
   "cell_type": "code",
   "execution_count": null,
   "metadata": {
    "collapsed": true
   },
   "outputs": [],
   "source": []
  },
  {
   "cell_type": "code",
   "execution_count": null,
   "metadata": {
    "collapsed": true
   },
   "outputs": [],
   "source": [
    "    msg = client_socket.recv(4096)\n",
    "    d= d+msg\n",
    "#     if not msg:\n",
    "#         break\n",
    "#     else:\n",
    "# #         msg = re.sub(r'[^\\x00-\\x7F]+',' ', msg)\n",
    "#         d= d+msg"
   ]
  },
  {
   "cell_type": "code",
   "execution_count": null,
   "metadata": {
    "collapsed": true
   },
   "outputs": [],
   "source": [
    "msg"
   ]
  },
  {
   "cell_type": "code",
   "execution_count": null,
   "metadata": {
    "collapsed": true
   },
   "outputs": [],
   "source": [
    "len(msg)"
   ]
  },
  {
   "cell_type": "code",
   "execution_count": null,
   "metadata": {
    "collapsed": true,
    "scrolled": true
   },
   "outputs": [],
   "source": [
    "type(msg)"
   ]
  },
  {
   "cell_type": "code",
   "execution_count": null,
   "metadata": {
    "collapsed": true
   },
   "outputs": [],
   "source": [
    "print(msg.decode(\"utf8\"))"
   ]
  },
  {
   "cell_type": "code",
   "execution_count": null,
   "metadata": {
    "collapsed": true
   },
   "outputs": [],
   "source": []
  },
  {
   "cell_type": "code",
   "execution_count": null,
   "metadata": {
    "collapsed": true
   },
   "outputs": [],
   "source": [
    "d[-100:]"
   ]
  },
  {
   "cell_type": "code",
   "execution_count": null,
   "metadata": {
    "collapsed": true
   },
   "outputs": [],
   "source": []
  },
  {
   "cell_type": "code",
   "execution_count": null,
   "metadata": {
    "collapsed": true
   },
   "outputs": [],
   "source": []
  },
  {
   "cell_type": "code",
   "execution_count": null,
   "metadata": {
    "collapsed": true
   },
   "outputs": [],
   "source": []
  },
  {
   "cell_type": "code",
   "execution_count": null,
   "metadata": {
    "collapsed": true
   },
   "outputs": [],
   "source": []
  },
  {
   "cell_type": "code",
   "execution_count": null,
   "metadata": {
    "collapsed": true
   },
   "outputs": [],
   "source": []
  },
  {
   "cell_type": "code",
   "execution_count": null,
   "metadata": {
    "collapsed": true
   },
   "outputs": [],
   "source": []
  },
  {
   "cell_type": "code",
   "execution_count": null,
   "metadata": {
    "collapsed": true
   },
   "outputs": [],
   "source": []
  },
  {
   "cell_type": "code",
   "execution_count": null,
   "metadata": {
    "collapsed": true
   },
   "outputs": [],
   "source": [
    "for dddd in range(190):\n",
    "    msg = client_socket.recv(1024)\n",
    "    if not msg:\n",
    "        break\n",
    "    else:\n",
    "#         msg = re.sub(r'[^\\x00-\\x7F]+',' ', msg)\n",
    "        d= d+msg.decode()\n"
   ]
  },
  {
   "cell_type": "code",
   "execution_count": null,
   "metadata": {
    "collapsed": true
   },
   "outputs": [],
   "source": []
  },
  {
   "cell_type": "code",
   "execution_count": null,
   "metadata": {
    "collapsed": true
   },
   "outputs": [],
   "source": [
    "len(d)"
   ]
  },
  {
   "cell_type": "code",
   "execution_count": null,
   "metadata": {
    "collapsed": true
   },
   "outputs": [],
   "source": [
    "print(d[-1300:])"
   ]
  },
  {
   "cell_type": "code",
   "execution_count": null,
   "metadata": {
    "collapsed": true
   },
   "outputs": [],
   "source": [
    "len(d)"
   ]
  },
  {
   "cell_type": "code",
   "execution_count": null,
   "metadata": {
    "collapsed": true
   },
   "outputs": [],
   "source": [
    "d [-300:]"
   ]
  },
  {
   "cell_type": "code",
   "execution_count": null,
   "metadata": {
    "collapsed": true
   },
   "outputs": [],
   "source": []
  },
  {
   "cell_type": "code",
   "execution_count": null,
   "metadata": {
    "collapsed": true
   },
   "outputs": [],
   "source": []
  },
  {
   "cell_type": "code",
   "execution_count": null,
   "metadata": {
    "collapsed": true
   },
   "outputs": [],
   "source": []
  },
  {
   "cell_type": "code",
   "execution_count": null,
   "metadata": {
    "collapsed": true
   },
   "outputs": [],
   "source": [
    "client_socket = socket.socket(socket.AF_INET, socket.SOCK_STREAM) \n",
    "client_socket.connect((hostname, 80))                               \n",
    "\n",
    "client_socket.send(en)\n",
    "msg = client_socket.recv(50000)\n",
    "client_socket.close()\n",
    "decod = msg.decode('ascii')\n",
    "print (decod)"
   ]
  },
  {
   "cell_type": "code",
   "execution_count": null,
   "metadata": {
    "collapsed": true
   },
   "outputs": [],
   "source": [
    "print(decod[-200:-1])"
   ]
  },
  {
   "cell_type": "code",
   "execution_count": null,
   "metadata": {
    "collapsed": true
   },
   "outputs": [],
   "source": [
    "len(decod)"
   ]
  },
  {
   "cell_type": "code",
   "execution_count": null,
   "metadata": {
    "collapsed": true
   },
   "outputs": [],
   "source": [
    "\n",
    "# client_socket.close()\n",
    "\n",
    "# print (msg.decode('ascii'))\n"
   ]
  },
  {
   "cell_type": "code",
   "execution_count": null,
   "metadata": {
    "collapsed": true
   },
   "outputs": [],
   "source": []
  },
  {
   "cell_type": "code",
   "execution_count": null,
   "metadata": {
    "collapsed": true
   },
   "outputs": [],
   "source": [
    "for i in har_json[\"log\"][\"entries\"]:\n",
    "    url = i[\"request\"][\"url\"]\n",
    "    prefix = url[0:5]"
   ]
  },
  {
   "cell_type": "code",
   "execution_count": null,
   "metadata": {
    "collapsed": true
   },
   "outputs": [],
   "source": []
  },
  {
   "cell_type": "code",
   "execution_count": null,
   "metadata": {
    "collapsed": true
   },
   "outputs": [],
   "source": []
  },
  {
   "cell_type": "code",
   "execution_count": null,
   "metadata": {
    "collapsed": true
   },
   "outputs": [],
   "source": []
  },
  {
   "cell_type": "code",
   "execution_count": null,
   "metadata": {
    "collapsed": true
   },
   "outputs": [],
   "source": []
  },
  {
   "cell_type": "code",
   "execution_count": null,
   "metadata": {
    "collapsed": true
   },
   "outputs": [],
   "source": [
    "i"
   ]
  },
  {
   "cell_type": "code",
   "execution_count": null,
   "metadata": {
    "collapsed": true
   },
   "outputs": [],
   "source": []
  },
  {
   "cell_type": "code",
   "execution_count": null,
   "metadata": {
    "collapsed": true
   },
   "outputs": [],
   "source": [
    "import json"
   ]
  },
  {
   "cell_type": "code",
   "execution_count": null,
   "metadata": {
    "collapsed": true
   },
   "outputs": [],
   "source": [
    "a = open(\"bbc.har\")"
   ]
  },
  {
   "cell_type": "code",
   "execution_count": null,
   "metadata": {
    "collapsed": true
   },
   "outputs": [],
   "source": [
    "a = json.load(a)"
   ]
  },
  {
   "cell_type": "code",
   "execution_count": null,
   "metadata": {
    "collapsed": true
   },
   "outputs": [],
   "source": [
    "a[\"log\"].keys()"
   ]
  },
  {
   "cell_type": "code",
   "execution_count": null,
   "metadata": {
    "collapsed": true
   },
   "outputs": [],
   "source": [
    "a[\"log\"][\"pages\"]"
   ]
  },
  {
   "cell_type": "code",
   "execution_count": null,
   "metadata": {
    "collapsed": true
   },
   "outputs": [],
   "source": [
    "len(a[\"log\"][\"entries\"])"
   ]
  },
  {
   "cell_type": "code",
   "execution_count": null,
   "metadata": {
    "collapsed": true
   },
   "outputs": [],
   "source": [
    "a[\"log\"][\"entries\"][0]"
   ]
  },
  {
   "cell_type": "code",
   "execution_count": null,
   "metadata": {
    "collapsed": true,
    "scrolled": true
   },
   "outputs": [],
   "source": [
    "a[\"log\"][\"entries\"][11]"
   ]
  },
  {
   "cell_type": "code",
   "execution_count": null,
   "metadata": {
    "collapsed": true
   },
   "outputs": [],
   "source": [
    "a[\"log\"][\"entries\"][11].keys()"
   ]
  },
  {
   "cell_type": "code",
   "execution_count": null,
   "metadata": {
    "collapsed": true
   },
   "outputs": [],
   "source": [
    "type(a[\"log\"][\"entries\"][11][\"response\"][\"content\"][\"text\"])"
   ]
  },
  {
   "cell_type": "code",
   "execution_count": null,
   "metadata": {
    "collapsed": true
   },
   "outputs": [],
   "source": [
    " s = a[\"log\"][\"entries\"][11][\"response\"][\"content\"][\"text\"]"
   ]
  },
  {
   "cell_type": "code",
   "execution_count": null,
   "metadata": {
    "collapsed": true
   },
   "outputs": [],
   "source": [
    "s.decode('base64')"
   ]
  },
  {
   "cell_type": "code",
   "execution_count": null,
   "metadata": {
    "collapsed": true
   },
   "outputs": [],
   "source": [
    "import base64\n",
    "coded_string = s\n",
    "dec = base64.b64decode(coded_string)"
   ]
  },
  {
   "cell_type": "code",
   "execution_count": null,
   "metadata": {
    "collapsed": true
   },
   "outputs": [],
   "source": [
    "f = open(\"out.jpg\",\"wb\")"
   ]
  },
  {
   "cell_type": "code",
   "execution_count": null,
   "metadata": {
    "collapsed": true
   },
   "outputs": [],
   "source": [
    "f.write(dec)"
   ]
  },
  {
   "cell_type": "code",
   "execution_count": null,
   "metadata": {
    "collapsed": true
   },
   "outputs": [],
   "source": []
  },
  {
   "cell_type": "code",
   "execution_count": null,
   "metadata": {
    "collapsed": true
   },
   "outputs": [],
   "source": []
  },
  {
   "cell_type": "code",
   "execution_count": null,
   "metadata": {
    "collapsed": true
   },
   "outputs": [],
   "source": [
    "f.close()"
   ]
  },
  {
   "cell_type": "code",
   "execution_count": null,
   "metadata": {
    "collapsed": true
   },
   "outputs": [],
   "source": []
  },
  {
   "cell_type": "code",
   "execution_count": null,
   "metadata": {
    "collapsed": true
   },
   "outputs": [],
   "source": []
  }
 ],
 "metadata": {
  "kernelspec": {
   "display_name": "Python 3",
   "language": "python",
   "name": "python3"
  },
  "language_info": {
   "codemirror_mode": {
    "name": "ipython",
    "version": 3
   },
   "file_extension": ".py",
   "mimetype": "text/x-python",
   "name": "python",
   "nbconvert_exporter": "python",
   "pygments_lexer": "ipython3",
   "version": "3.6.3rc1"
  }
 },
 "nbformat": 4,
 "nbformat_minor": 2
}
