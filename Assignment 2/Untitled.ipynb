{
 "cells": [
  {
   "cell_type": "code",
   "execution_count": 1,
   "metadata": {},
   "outputs": [
    {
     "name": "stdout",
     "output_type": "stream",
     "text": [
      "bbc/www.bbc.com/\n",
      "------------------------------\n",
      "GET / HTTP/1.1\n",
      "Host: www.bbc.com\n",
      "User-Agent: Mozilla/5.0 (X11; Linux x86_64) AppleWebKit/537.36 (KHTML, like Gecko) Chrome/61.0.3163.91 Safari/537.36\n",
      "Connection: keep-alive\n",
      "\n",
      "\n",
      "------------------------------\n",
      "Hostname is  www.bbc.com\n",
      "bbc/static.bbci.co.uk/frameworks/requirejs/lib.js\n",
      "------------------------------\n",
      "GET /frameworks/requirejs/lib.js HTTP/1.0\n",
      "Host: static.bbci.co.uk\n",
      "\n",
      "\n",
      "------------------------------\n",
      "Hostname is  static.bbci.co.uk\n",
      "bbc/static.bbci.co.uk/frameworks/barlesque/3.21.28/orb/4/script/orb/api.min.js\n",
      "------------------------------\n",
      "GET /frameworks/barlesque/3.21.28/orb/4/script/orb/api.min.js HTTP/1.0\n",
      "Host: static.bbci.co.uk\n",
      "\n",
      "\n",
      "------------------------------\n",
      "Hostname is  static.bbci.co.uk\n",
      "bbc/static.bbci.co.uk/frameworks/barlesque/3.21.28/orb/4/script/orb/font.min.js\n",
      "------------------------------\n",
      "GET /frameworks/barlesque/3.21.28/orb/4/script/orb/font.min.js HTTP/1.0\n",
      "Host: static.bbci.co.uk\n",
      "\n",
      "\n",
      "------------------------------\n",
      "Hostname is  static.bbci.co.uk\n",
      "bbc/static.bbc.co.uk/id/0.37.24/modules/idcta/dist/idcta-1.min.js\n",
      "------------------------------\n",
      "GET /id/0.37.24/modules/idcta/dist/idcta-1.min.js HTTP/1.0\n",
      "Host: static.bbc.co.uk\n",
      "\n",
      "\n",
      "------------------------------\n",
      "Hostname is  static.bbc.co.uk\n",
      "bbc/static.bbci.co.uk/wwhp/1.117.0/modules/vendor/pre-built/vwo/mvt-snippet.js\n",
      "------------------------------\n",
      "GET /wwhp/1.117.0/modules/vendor/pre-built/vwo/mvt-snippet.js HTTP/1.0\n",
      "Host: static.bbci.co.uk\n",
      "\n",
      "\n",
      "------------------------------\n",
      "Hostname is  static.bbci.co.uk\n",
      "bbc/static.bbci.co.uk/wwhp/1.117.0/modules/vendor/bower/modernizr/modernizr.js\n",
      "------------------------------\n",
      "GET /wwhp/1.117.0/modules/vendor/bower/modernizr/modernizr.js HTTP/1.0\n",
      "Host: static.bbci.co.uk\n",
      "\n",
      "\n",
      "------------------------------\n",
      "Hostname is  static.bbci.co.uk\n",
      "bbc/static.bbci.co.uk/frameworks/barlesque/3.21.28/orb/4/img/bbc-blocks-light.png\n",
      "------------------------------\n",
      "GET /frameworks/barlesque/3.21.28/orb/4/img/bbc-blocks-light.png HTTP/1.0\n",
      "Host: static.bbci.co.uk\n",
      "\n",
      "\n",
      "------------------------------\n",
      "Hostname is  static.bbci.co.uk\n",
      "bbc/ichef.bbci.co.uk/wwhp/144/cpsprodpb/6A41/production/_97910272_8537fd32-733d-45c7-b00b-b741bfe01e8b.jpg\n",
      "------------------------------\n",
      "GET /wwhp/144/cpsprodpb/6A41/production/_97910272_8537fd32-733d-45c7-b00b-b741bfe01e8b.jpg HTTP/1.1\n",
      "Host: ichef.bbci.co.uk\n",
      "User-Agent: Mozilla/5.0 (X11; Linux x86_64) AppleWebKit/537.36 (KHTML, like Gecko) Chrome/61.0.3163.91 Safari/537.36\n",
      "\n",
      "\n",
      "------------------------------\n",
      "Hostname is  ichef.bbci.co.uk\n",
      "bbc/ichef.bbci.co.uk/wwhp/144/ibroadcast/images/live/p0/5g/ns/p05gns74.jpg\n",
      "------------------------------\n",
      "GET /wwhp/144/ibroadcast/images/live/p0/5g/ns/p05gns74.jpg HTTP/1.0\n",
      "Host: ichef.bbci.co.uk\n",
      "User-Agent: Mozilla/5.0 (X11; Linux x86_64) AppleWebKit/537.36 (KHTML, like Gecko) Chrome/61.0.3163.91 Safari/537.36\n",
      "\n",
      "\n",
      "------------------------------\n",
      "Hostname is  ichef.bbci.co.uk\n",
      "bbc/ichef.bbci.co.uk/wwhp/144/cpsprodpb/12F27/production/_97870677_hi041823046.jpg\n",
      "------------------------------\n",
      "GET /wwhp/144/cpsprodpb/12F27/production/_97870677_hi041823046.jpg HTTP/1.0\n",
      "Host: ichef.bbci.co.uk\n",
      "User-Agent: Mozilla/5.0 (X11; Linux x86_64) AppleWebKit/537.36 (KHTML, like Gecko) Chrome/61.0.3163.91 Safari/537.36\n",
      "\n",
      "\n",
      "------------------------------\n",
      "Hostname is  ichef.bbci.co.uk\n",
      "bbc/ichef.bbci.co.uk/wwhp/144/cpsprodpb/61E1/production/_97875052_istock-813591578.jpg\n",
      "------------------------------\n",
      "GET /wwhp/144/cpsprodpb/61E1/production/_97875052_istock-813591578.jpg HTTP/1.1\n",
      "Host: ichef.bbci.co.uk\n",
      "User-Agent: Mozilla/5.0 (X11; Linux x86_64) AppleWebKit/537.36 (KHTML, like Gecko) Chrome/61.0.3163.91 Safari/537.36\n",
      "\n",
      "\n",
      "------------------------------\n",
      "Hostname is  ichef.bbci.co.uk\n",
      "bbc/ichef.bbci.co.uk/wwhp/144/ibroadcast/images/live/p0/5g/mx/p05gmx6m.jpg\n",
      "------------------------------\n",
      "GET /wwhp/144/ibroadcast/images/live/p0/5g/mx/p05gmx6m.jpg HTTP/1.1\n",
      "Host: ichef.bbci.co.uk\n",
      "User-Agent: Mozilla/5.0 (X11; Linux x86_64) AppleWebKit/537.36 (KHTML, like Gecko) Chrome/61.0.3163.91 Safari/537.36\n",
      "\n",
      "\n",
      "------------------------------\n",
      "Hostname is  ichef.bbci.co.uk\n",
      "bbc/www.bbc.co.uk/wwscripts/flag\n",
      "------------------------------\n",
      "GET /wwscripts/flag HTTP/1.1\n",
      "Host: www.bbc.co.uk\n",
      "\n",
      "\n",
      "------------------------------\n",
      "Hostname is  www.bbc.co.uk\n",
      "bbc/static.bbci.co.uk/bbcdotcom/1.66.0/script/dist/bbcdotcom.js\n",
      "------------------------------\n",
      "GET /bbcdotcom/1.66.0/script/dist/bbcdotcom.js HTTP/1.0\n",
      "Host: static.bbci.co.uk\n",
      "\n",
      "\n",
      "------------------------------\n",
      "Hostname is  static.bbci.co.uk\n",
      "bbc/static.bbci.co.uk/wwhp/1.117.0/fonts/wwhp-icons.woff\n",
      "------------------------------\n",
      "GET /wwhp/1.117.0/fonts/wwhp-icons.woff HTTP/1.0\n",
      "Host: static.bbci.co.uk\n",
      "\n",
      "\n",
      "------------------------------\n",
      "Hostname is  static.bbci.co.uk\n",
      "bbc/static.bbci.co.uk/bbcdotcom/1.66.0/script/vendor/edr/edr.min.js\n",
      "------------------------------\n",
      "GET /bbcdotcom/1.66.0/script/vendor/edr/edr.min.js HTTP/1.0\n",
      "Host: static.bbci.co.uk\n",
      "User-Agent: Mozilla/5.0 (X11; Linux x86_64) AppleWebKit/537.36 (KHTML, like Gecko) Chrome/61.0.3163.91 Safari/537.36\n",
      "\n",
      "\n",
      "------------------------------\n",
      "Hostname is  static.bbci.co.uk\n",
      "bbc/static.bbci.co.uk/weather/0.5.284/images/icons/individual_56_icons/en_on_light_bg/14.gif\n",
      "------------------------------\n",
      "GET /weather/0.5.284/images/icons/individual_56_icons/en_on_light_bg/14.gif HTTP/1.0\n",
      "Host: static.bbci.co.uk\n",
      "\n",
      "\n",
      "------------------------------\n",
      "Hostname is  static.bbci.co.uk\n",
      "bbc/static.bbci.co.uk/weather/0.5.284/images/icons/individual_56_icons/en_on_light_bg/29.gif\n",
      "------------------------------\n",
      "GET /weather/0.5.284/images/icons/individual_56_icons/en_on_light_bg/29.gif HTTP/1.0\n",
      "Host: static.bbci.co.uk\n",
      "\n",
      "\n",
      "------------------------------\n",
      "Hostname is  static.bbci.co.uk\n",
      "bbc/ichef.bbci.co.uk/wwhp/144/cpsprodpb/158C8/production/_97846288_burundi002.jpg\n",
      "------------------------------\n",
      "GET /wwhp/144/cpsprodpb/158C8/production/_97846288_burundi002.jpg HTTP/1.1\n",
      "Host: ichef.bbci.co.uk\n",
      "User-Agent: Mozilla/5.0 (X11; Linux x86_64) AppleWebKit/537.36 (KHTML, like Gecko) Chrome/61.0.3163.91 Safari/537.36\n",
      "\n",
      "\n",
      "------------------------------\n",
      "Hostname is  ichef.bbci.co.uk\n",
      "bbc/ichef.bbci.co.uk/wwhp/144/cpsprodpb/17BDC/production/_97844279_emmys_splitgetty.jpg\n",
      "------------------------------\n",
      "GET /wwhp/144/cpsprodpb/17BDC/production/_97844279_emmys_splitgetty.jpg HTTP/1.1\n",
      "Host: ichef.bbci.co.uk\n",
      "User-Agent: Mozilla/5.0 (X11; Linux x86_64) AppleWebKit/537.36 (KHTML, like Gecko) Chrome/61.0.3163.91 Safari/537.36\n",
      "\n",
      "\n",
      "------------------------------\n",
      "Hostname is  ichef.bbci.co.uk\n",
      "bbc/ichef.bbci.co.uk/wwhp/144/cpsprodpb/F5BD/production/_97790926_therhoophiuchicloudsartemmironov.jpg\n",
      "------------------------------\n",
      "GET /wwhp/144/cpsprodpb/F5BD/production/_97790926_therhoophiuchicloudsartemmironov.jpg HTTP/1.0\n",
      "Host: ichef.bbci.co.uk\n",
      "User-Agent: Mozilla/5.0 (X11; Linux x86_64) AppleWebKit/537.36 (KHTML, like Gecko) Chrome/61.0.3163.91 Safari/537.36\n",
      "\n",
      "\n",
      "------------------------------\n",
      "Hostname is  ichef.bbci.co.uk\n",
      "bbc/ichef.bbci.co.uk/wwhp/144/cpsprodpb/16528/production/_97823419_brc_italy_marcopanzetti-lr-39.jpg\n",
      "------------------------------\n",
      "GET /wwhp/144/cpsprodpb/16528/production/_97823419_brc_italy_marcopanzetti-lr-39.jpg HTTP/1.1\n",
      "Host: ichef.bbci.co.uk\n",
      "User-Agent: Mozilla/5.0 (X11; Linux x86_64) AppleWebKit/537.36 (KHTML, like Gecko) Chrome/61.0.3163.91 Safari/537.36\n",
      "\n",
      "\n",
      "------------------------------\n",
      "Hostname is  ichef.bbci.co.uk\n",
      "bbc/ichef.bbci.co.uk/wwhp/144/cpsprodpb/13BD3/production/_97815808_parsons4getty.jpg\n",
      "------------------------------\n",
      "GET /wwhp/144/cpsprodpb/13BD3/production/_97815808_parsons4getty.jpg HTTP/1.0\n",
      "Host: ichef.bbci.co.uk\n",
      "User-Agent: Mozilla/5.0 (X11; Linux x86_64) AppleWebKit/537.36 (KHTML, like Gecko) Chrome/61.0.3163.91 Safari/537.36\n",
      "\n",
      "\n",
      "------------------------------\n",
      "Hostname is  ichef.bbci.co.uk\n",
      "bbc/static.bbci.co.uk/frameworks/barlesque/3.21.28/orb/4/script/orb.min.js\n",
      "------------------------------\n",
      "GET /frameworks/barlesque/3.21.28/orb/4/script/orb.min.js HTTP/1.0\n",
      "Host: static.bbci.co.uk\n",
      "\n",
      "\n",
      "------------------------------\n",
      "Hostname is  static.bbci.co.uk\n",
      "bbc/nav.files.bbci.co.uk/nav-analytics/0.1.0-82/js/istats-1.js\n",
      "------------------------------\n",
      "GET /nav-analytics/0.1.0-82/js/istats-1.js HTTP/1.0\n",
      "Host: nav.files.bbci.co.uk\n",
      "User-Agent: Mozilla/5.0 (X11; Linux x86_64) AppleWebKit/537.36 (KHTML, like Gecko) Chrome/61.0.3163.91 Safari/537.36\n",
      "\n",
      "\n",
      "------------------------------\n",
      "Hostname is  nav.files.bbci.co.uk\n"
     ]
    },
    {
     "name": "stdout",
     "output_type": "stream",
     "text": [
      "bbc/static.bbci.co.uk/wwhp/1.117.0/modules/compiled.js\n",
      "------------------------------\n",
      "GET /wwhp/1.117.0/modules/compiled.js HTTP/1.0\n",
      "Host: static.bbci.co.uk\n",
      "User-Agent: Mozilla/5.0 (X11; Linux x86_64) AppleWebKit/537.36 (KHTML, like Gecko) Chrome/61.0.3163.91 Safari/537.36\n",
      "\n",
      "\n",
      "------------------------------\n",
      "Hostname is  static.bbci.co.uk\n",
      "bbc/static.bbc.co.uk/id/0.37.24/svg/icon-sprite.svg\n",
      "------------------------------\n",
      "GET /id/0.37.24/svg/icon-sprite.svg HTTP/1.0\n",
      "Host: static.bbc.co.uk\n",
      "\n",
      "\n",
      "------------------------------\n",
      "Hostname is  static.bbc.co.uk\n",
      "bbc/static.bbci.co.uk/frameworks/barlesque/3.21.28/orb/4/img/orb-sprite.gif\n",
      "------------------------------\n",
      "GET /frameworks/barlesque/3.21.28/orb/4/img/orb-sprite.gif HTTP/1.0\n",
      "Host: static.bbci.co.uk\n",
      "\n",
      "\n",
      "------------------------------\n",
      "Hostname is  static.bbci.co.uk\n",
      "bbc/nav.files.bbci.co.uk/searchbox/1.0.0-133/img/gel-icon-search-light.svg\n",
      "------------------------------\n",
      "GET /searchbox/1.0.0-133/img/gel-icon-search-light.svg HTTP/1.1\n",
      "Host: nav.files.bbci.co.uk\n",
      "\n",
      "\n",
      "------------------------------\n",
      "Hostname is  nav.files.bbci.co.uk\n",
      "bbc/static.bbc.co.uk/id/0.37.24/modules/idcta/statusbar.js\n",
      "------------------------------\n",
      "GET /id/0.37.24/modules/idcta/statusbar.js HTTP/1.0\n",
      "Host: static.bbc.co.uk\n",
      "User-Agent: Mozilla/5.0 (X11; Linux x86_64) AppleWebKit/537.36 (KHTML, like Gecko) Chrome/61.0.3163.91 Safari/537.36\n",
      "\n",
      "\n",
      "------------------------------\n",
      "Hostname is  static.bbc.co.uk\n",
      "bbc/www.bbc.com/\n",
      "------------------------------\n",
      "GET /idcta/config?callback&locale=en-GB&ptrt=http: HTTP/1.1\n",
      "Host: www.bbc.co.uk\n",
      "User-Agent: Mozilla/5.0 (X11; Linux x86_64) AppleWebKit/537.36 (KHTML, like Gecko) Chrome/61.0.3163.91 Safari/537.36\n",
      "Connection: keep-alive\n",
      "\n",
      "\n",
      "------------------------------\n",
      "Hostname is  www.bbc.co.uk\n",
      "bbc/www.bbc.co.uk/idcta/translations?callback&locale=en-GB\n",
      "------------------------------\n",
      "GET /idcta/translations?callback&locale=en-GB HTTP/1.1\n",
      "Host: www.bbc.co.uk\n",
      "User-Agent: Mozilla/5.0 (X11; Linux x86_64) AppleWebKit/537.36 (KHTML, like Gecko) Chrome/61.0.3163.91 Safari/537.36\n",
      "\n",
      "\n",
      "------------------------------\n",
      "Hostname is  www.bbc.co.uk\n",
      "bbc/mybbc.files.bbci.co.uk/notification-ui/3.8.1/js/NotificationsMain.js\n",
      "------------------------------\n",
      "GET /notification-ui/3.8.1/js/NotificationsMain.js HTTP/1.0\n",
      "Host: mybbc.files.bbci.co.uk\n",
      "User-Agent: Mozilla/5.0 (X11; Linux x86_64) AppleWebKit/537.36 (KHTML, like Gecko) Chrome/61.0.3163.91 Safari/537.36\n",
      "\n",
      "\n",
      "------------------------------\n",
      "Hostname is  mybbc.files.bbci.co.uk\n",
      "bbc/search.files.bbci.co.uk/searchbox-app/1.0.19/searchboxDrawer.js\n",
      "------------------------------\n",
      "GET /searchbox-app/1.0.19/searchboxDrawer.js HTTP/1.0\n",
      "Host: search.files.bbci.co.uk\n",
      "User-Agent: Mozilla/5.0 (X11; Linux x86_64) AppleWebKit/537.36 (KHTML, like Gecko) Chrome/61.0.3163.91 Safari/537.36\n",
      "\n",
      "\n",
      "------------------------------\n",
      "Hostname is  search.files.bbci.co.uk\n",
      "bbc/nav.files.bbci.co.uk/discovery-layer/0.0.1-85.8a82c59/app.js\n",
      "------------------------------\n",
      "GET /discovery-layer/0.0.1-85.8a82c59/app.js HTTP/1.0\n",
      "Host: nav.files.bbci.co.uk\n",
      "User-Agent: Mozilla/5.0 (X11; Linux x86_64) AppleWebKit/537.36 (KHTML, like Gecko) Chrome/61.0.3163.91 Safari/537.36\n",
      "\n",
      "\n",
      "------------------------------\n",
      "Hostname is  nav.files.bbci.co.uk\n",
      "bbc/nav.files.bbci.co.uk/nav-analytics/0.1.0-82/js/megavolt-client.js\n",
      "------------------------------\n",
      "GET /nav-analytics/0.1.0-82/js/megavolt-client.js HTTP/1.0\n",
      "Host: nav.files.bbci.co.uk\n",
      "User-Agent: Mozilla/5.0 (X11; Linux x86_64) AppleWebKit/537.36 (KHTML, like Gecko) Chrome/61.0.3163.91 Safari/537.36\n",
      "\n",
      "\n",
      "------------------------------\n",
      "Hostname is  nav.files.bbci.co.uk\n",
      "bbc/static.bbci.co.uk/frameworks/jquery/0.4.1/sharedmodules/jquery-1.9.1.js\n",
      "------------------------------\n",
      "GET /frameworks/jquery/0.4.1/sharedmodules/jquery-1.9.1.js HTTP/1.0\n",
      "Host: static.bbci.co.uk\n",
      "User-Agent: Mozilla/5.0 (X11; Linux x86_64) AppleWebKit/537.36 (KHTML, like Gecko) Chrome/61.0.3163.91 Safari/537.36\n",
      "\n",
      "\n",
      "------------------------------\n",
      "Hostname is  static.bbci.co.uk\n",
      "bbc/static.bbci.co.uk/frameworks/barlesque/3.21.28/orb/4/img/bbc-blocks-dark.png\n",
      "------------------------------\n",
      "GET /frameworks/barlesque/3.21.28/orb/4/img/bbc-blocks-dark.png HTTP/1.0\n",
      "Host: static.bbci.co.uk\n",
      "\n",
      "\n",
      "------------------------------\n",
      "Hostname is  static.bbci.co.uk\n",
      "bbc/search.files.bbci.co.uk/searchbox-app/1.0.19/style/enhanced.css\n",
      "------------------------------\n",
      "GET /searchbox-app/1.0.19/style/enhanced.css HTTP/1.0\n",
      "Host: search.files.bbci.co.uk\n",
      "User-Agent: Mozilla/5.0 (X11; Linux x86_64) AppleWebKit/537.36 (KHTML, like Gecko) Chrome/61.0.3163.91 Safari/537.36\n",
      "\n",
      "\n",
      "------------------------------\n",
      "Hostname is  search.files.bbci.co.uk\n",
      "bbc/search.files.bbci.co.uk/searchbox-app/1.0.19/style/enhanced.css\n",
      "------------------------------\n",
      "GET /searchbox-app/1.0.19/style/enhanced.css HTTP/1.0\n",
      "Host: search.files.bbci.co.uk\n",
      "User-Agent: Mozilla/5.0 (X11; Linux x86_64) AppleWebKit/537.36 (KHTML, like Gecko) Chrome/61.0.3163.91 Safari/537.36\n",
      "\n",
      "\n",
      "------------------------------\n",
      "Hostname is  search.files.bbci.co.uk\n",
      "bbc/emp.bbci.co.uk/emp/bump-3/bump-3.js\n",
      "------------------------------\n",
      "GET /emp/bump-3/bump-3.js HTTP/1.0\n",
      "Host: emp.bbci.co.uk\n",
      "User-Agent: Mozilla/5.0 (X11; Linux x86_64) AppleWebKit/537.36 (KHTML, like Gecko) Chrome/61.0.3163.91 Safari/537.36\n",
      "\n",
      "\n",
      "------------------------------\n",
      "Hostname is  emp.bbci.co.uk\n",
      "bbc/ichef.bbci.co.uk/wwhp/624/cpsprodpb/6A41/production/_97910272_8537fd32-733d-45c7-b00b-b741bfe01e8b.jpg\n",
      "------------------------------\n",
      "GET /wwhp/624/cpsprodpb/6A41/production/_97910272_8537fd32-733d-45c7-b00b-b741bfe01e8b.jpg HTTP/1.1\n",
      "Host: ichef.bbci.co.uk\n",
      "User-Agent: Mozilla/5.0 (X11; Linux x86_64) AppleWebKit/537.36 (KHTML, like Gecko) Chrome/61.0.3163.91 Safari/537.36\n",
      "Connection: keep-alive\n",
      "\n",
      "\n",
      "------------------------------\n",
      "Hostname is  ichef.bbci.co.uk\n",
      "bbc/search.files.bbci.co.uk/searchbox-app/1.0.19/img/gel-icon-search.svg\n",
      "------------------------------\n",
      "GET /searchbox-app/1.0.19/img/gel-icon-search.svg HTTP/1.0\n",
      "Host: search.files.bbci.co.uk\n",
      "User-Agent: Mozilla/5.0 (X11; Linux x86_64) AppleWebKit/537.36 (KHTML, like Gecko) Chrome/61.0.3163.91 Safari/537.36\n",
      "\n",
      "\n",
      "------------------------------\n",
      "Hostname is  search.files.bbci.co.uk\n",
      "bbc/search.files.bbci.co.uk/searchbox-app/1.0.19/img/gel-icon-no.svg\n",
      "------------------------------\n",
      "GET /searchbox-app/1.0.19/img/gel-icon-no.svg HTTP/1.0\n",
      "Host: search.files.bbci.co.uk\n",
      "User-Agent: Mozilla/5.0 (X11; Linux x86_64) AppleWebKit/537.36 (KHTML, like Gecko) Chrome/61.0.3163.91 Safari/537.36\n",
      "\n",
      "\n",
      "------------------------------\n",
      "Hostname is  search.files.bbci.co.uk\n"
     ]
    }
   ],
   "source": [
    "import socket\n",
    "import json\n",
    "import base64\n",
    "import os\n",
    "import threading\n",
    "\n",
    "harfile_name = \"bbc.har\"\n",
    "foldername = harfile_name.split(\".\")[0]\n",
    "harfile = open(harfile_name,\"r\")\n",
    "har_json = json.load(harfile)\n",
    "num_requests = len(har_json[\"log\"][\"entries\"])\n",
    "for i in har_json[\"log\"][\"entries\"]:\n",
    "    url = i[\"request\"][\"url\"]\n",
    "    prefix = url[0:5]\n",
    "    # print(prefix)\n",
    "    if prefix != \"http:\":\n",
    "        continue\n",
    "    url_split = url.split(\"://\")\n",
    "    \n",
    "    content_file_path = foldername\n",
    "    content_file_path = content_file_path + \"/\" + url_split[-1]\n",
    "    if int(i[\"response\"][\"content\"][\"size\"])!=0:\n",
    "#         if not \"text\" in i[\"response\"][\"content\"].keys():\n",
    "#             continue\n",
    "        print(content_file_path)\n",
    "        if content_file_path[-1]==\"/\":\n",
    "            content_file_path = content_file_path + \"index.html\"\n",
    "        # print(os.path.dirname(right_part))\n",
    "        if not os.path.exists(os.path.dirname(content_file_path)):\n",
    "            try:\n",
    "                os.makedirs(os.path.dirname(content_file_path))\n",
    "            except: # Guard against race condition\n",
    "                print(\"Error :Race\")\n",
    "                exit(1)\n",
    "        har_req = i[\"request\"]\n",
    "        http_version = \"HTTP\" + har_req[\"httpVersion\"][4:]\n",
    "        request_str= har_req[\"method\"] + \" /\" + har_req[\"url\"].split(\"//\")[1].split(\"/\",maxsplit=1)[-1]+\" \"+ http_version + \"\\n\" \n",
    "        hostname = (har_req[\"url\"].split(\"//\")[1]).split(\"/\")[0]\n",
    "        request_str = request_str + \"Host\"+\": \" + hostname+\"\\n\"\n",
    "        for el in har_req[\"headers\"]:\n",
    "            if el[\"name\"] not in (\"User-Agent\",\"Connection\"):continue\n",
    "            request_str = request_str + el[\"name\"]+\": \" + el[\"value\"]+\"\\n\"\n",
    "#         request_str = request_str + \"Conncetion\"+\": \" + \"Close\"+\"\\n\"\n",
    "#         request_str = request_str + \"User-Agent\"+\": \" + har_req[\"headers\"]+\"\\n\"\n",
    "        request_str = request_str + \"\\n\"\n",
    "        print(\"------------------------------\")\n",
    "        print(request_str)\n",
    "        print(\"------------------------------\")\n",
    "        encoded_request = request_str.encode()\n",
    "        client_socket = socket.socket(socket.AF_INET, socket.SOCK_STREAM) \n",
    "        print(\"Hostname is \", hostname)\n",
    "        client_socket.connect((hostname, 80))\n",
    "        client_socket.send(encoded_request)\n",
    "        received_bytes = b\"\"\n",
    "        client_socket.settimeout(0.2)\n",
    "        while 1:\n",
    "            try:\n",
    "                msg = client_socket.recv(1024)\n",
    "                if(len(msg)==0):\n",
    "                    break\n",
    "                received_bytes = received_bytes + msg\n",
    "            except:\n",
    "                break\n",
    "                \n",
    "        header = received_bytes.split(b\"\\r\\n\\r\\n\")[0]\n",
    "        client_socket.close()\n",
    "        content = received_bytes.split(b\"\\r\\n\\r\\n\")[-1]\n",
    "        headerfile = open(content_file_path+\"_header\",\"wb\")\n",
    "        headerfile.write(header)\n",
    "        headerfile.close()\n",
    "        contentfile = open(content_file_path,\"wb\")\n",
    "        contentfile.write(content)\n",
    "        contentfile.close()\n",
    "        \n",
    "        \n",
    "        \n"
   ]
  },
  {
   "cell_type": "code",
   "execution_count": null,
   "metadata": {
    "collapsed": true
   },
   "outputs": [],
   "source": []
  },
  {
   "cell_type": "code",
   "execution_count": null,
   "metadata": {
    "collapsed": true
   },
   "outputs": [],
   "source": []
  },
  {
   "cell_type": "code",
   "execution_count": null,
   "metadata": {
    "collapsed": true
   },
   "outputs": [],
   "source": []
  },
  {
   "cell_type": "code",
   "execution_count": null,
   "metadata": {
    "collapsed": true
   },
   "outputs": [],
   "source": [
    "import socket\n",
    "import json\n",
    "import base64\n",
    "import os\n",
    "harfile_name = \"bbc.har\"\n",
    "foldername = harfile_name.split(\".\")[0]\n",
    "harfile = open(harfile_name,\"r\")\n",
    "har_json = json.load(harfile)\n",
    "num_requests = len(har_json[\"log\"][\"entries\"])\n",
    "\n",
    "  "
   ]
  },
  {
   "cell_type": "code",
   "execution_count": null,
   "metadata": {
    "collapsed": true
   },
   "outputs": [],
   "source": [
    "c = har_json[\"log\"][\"entries\"][11]"
   ]
  },
  {
   "cell_type": "code",
   "execution_count": null,
   "metadata": {},
   "outputs": [],
   "source": [
    "c"
   ]
  },
  {
   "cell_type": "code",
   "execution_count": null,
   "metadata": {},
   "outputs": [],
   "source": [
    "c"
   ]
  },
  {
   "cell_type": "code",
   "execution_count": null,
   "metadata": {
    "collapsed": true
   },
   "outputs": [],
   "source": [
    "r = c[\"request\"]"
   ]
  },
  {
   "cell_type": "code",
   "execution_count": null,
   "metadata": {},
   "outputs": [],
   "source": [
    "r"
   ]
  },
  {
   "cell_type": "code",
   "execution_count": null,
   "metadata": {
    "collapsed": true
   },
   "outputs": [],
   "source": []
  },
  {
   "cell_type": "code",
   "execution_count": null,
   "metadata": {
    "scrolled": true
   },
   "outputs": [],
   "source": [
    "requ = r[\"method\"] + \" /\" + r[\"url\"].split(\"//\")[1].split(\"/\",maxsplit=1)[-1]+\" \"+ r[\"httpVersion\"] + \"\\n\" "
   ]
  },
  {
   "cell_type": "code",
   "execution_count": null,
   "metadata": {},
   "outputs": [],
   "source": [
    "requ"
   ]
  },
  {
   "cell_type": "code",
   "execution_count": null,
   "metadata": {},
   "outputs": [],
   "source": [
    "requ = requ[:-9] + \"HTTP/1.1\\n\""
   ]
  },
  {
   "cell_type": "code",
   "execution_count": null,
   "metadata": {},
   "outputs": [],
   "source": [
    "r[\"url\"]"
   ]
  },
  {
   "cell_type": "code",
   "execution_count": null,
   "metadata": {},
   "outputs": [],
   "source": [
    "hostname = (r[\"url\"].split(\"//\")[1]).split(\"/\")[0]"
   ]
  },
  {
   "cell_type": "code",
   "execution_count": null,
   "metadata": {},
   "outputs": [],
   "source": [
    "hostname"
   ]
  },
  {
   "cell_type": "code",
   "execution_count": null,
   "metadata": {
    "collapsed": true
   },
   "outputs": [],
   "source": []
  },
  {
   "cell_type": "code",
   "execution_count": null,
   "metadata": {
    "collapsed": true
   },
   "outputs": [],
   "source": []
  },
  {
   "cell_type": "code",
   "execution_count": null,
   "metadata": {
    "collapsed": true
   },
   "outputs": [],
   "source": [
    "for el in r[\"headers\"]:\n",
    "    if el[\"name\"] not in (\"User-Agent\",\"Connection\"):continue\n",
    "#     if(el[\"name\"]==\"Host\"):\n",
    "#         hostname = el[\"value\"]\n",
    "\n",
    "    requ = requ + el[\"name\"]+\": \" + el[\"value\"]+\"\\n\""
   ]
  },
  {
   "cell_type": "code",
   "execution_count": null,
   "metadata": {
    "collapsed": true
   },
   "outputs": [],
   "source": [
    "requ = requ + \"Host\"+\": \" + hostname+\"\\n\""
   ]
  },
  {
   "cell_type": "code",
   "execution_count": null,
   "metadata": {},
   "outputs": [],
   "source": [
    "requ"
   ]
  },
  {
   "cell_type": "code",
   "execution_count": null,
   "metadata": {
    "collapsed": true
   },
   "outputs": [],
   "source": [
    "requ = requ+\"\\n\""
   ]
  },
  {
   "cell_type": "code",
   "execution_count": null,
   "metadata": {
    "collapsed": true
   },
   "outputs": [],
   "source": [
    "en = requ.encode()"
   ]
  },
  {
   "cell_type": "code",
   "execution_count": null,
   "metadata": {},
   "outputs": [],
   "source": [
    "hostname"
   ]
  },
  {
   "cell_type": "code",
   "execution_count": null,
   "metadata": {
    "scrolled": true
   },
   "outputs": [],
   "source": [
    "client_socket = socket.socket(socket.AF_INET, socket.SOCK_STREAM) \n",
    "client_socket.connect((hostname, 80))                               \n"
   ]
  },
  {
   "cell_type": "code",
   "execution_count": null,
   "metadata": {},
   "outputs": [],
   "source": [
    "client_socket.send(en)\n"
   ]
  },
  {
   "cell_type": "code",
   "execution_count": null,
   "metadata": {
    "collapsed": true
   },
   "outputs": [],
   "source": [
    "d = b\"\""
   ]
  },
  {
   "cell_type": "code",
   "execution_count": null,
   "metadata": {
    "collapsed": true
   },
   "outputs": [],
   "source": [
    "import re\n",
    "# substitute sequence of non-ASCII characters with single space\n",
    "# str = re.sub(r'[^\\x00-\\x7F]+',' ', str)\n"
   ]
  },
  {
   "cell_type": "code",
   "execution_count": null,
   "metadata": {},
   "outputs": [],
   "source": [
    "while 1:\n",
    "    msg = client_socket.recv(1024)\n",
    "    if len(msg)!=1024:\n",
    "        d = d + msg\n",
    "        break\n",
    "    else:\n",
    "#         msg = re.sub(r'[^\\x00-\\x7F]+',' ', msg)\n",
    "        d= d+msg\n"
   ]
  },
  {
   "cell_type": "code",
   "execution_count": null,
   "metadata": {
    "collapsed": true
   },
   "outputs": [],
   "source": []
  },
  {
   "cell_type": "code",
   "execution_count": null,
   "metadata": {},
   "outputs": [],
   "source": [
    "len(d)"
   ]
  },
  {
   "cell_type": "code",
   "execution_count": null,
   "metadata": {},
   "outputs": [],
   "source": [
    "d.split(b\"\\r\\n\\r\\n\")[-1]"
   ]
  },
  {
   "cell_type": "code",
   "execution_count": null,
   "metadata": {
    "collapsed": true
   },
   "outputs": [],
   "source": []
  },
  {
   "cell_type": "code",
   "execution_count": null,
   "metadata": {},
   "outputs": [],
   "source": [
    "d[:777]"
   ]
  },
  {
   "cell_type": "code",
   "execution_count": null,
   "metadata": {},
   "outputs": [],
   "source": [
    "dec = d.decode(\"utf8\")"
   ]
  },
  {
   "cell_type": "code",
   "execution_count": null,
   "metadata": {},
   "outputs": [],
   "source": [
    "dec"
   ]
  },
  {
   "cell_type": "code",
   "execution_count": null,
   "metadata": {},
   "outputs": [],
   "source": [
    "dec[-100:]"
   ]
  },
  {
   "cell_type": "code",
   "execution_count": null,
   "metadata": {
    "collapsed": true
   },
   "outputs": [],
   "source": []
  },
  {
   "cell_type": "code",
   "execution_count": null,
   "metadata": {
    "collapsed": true
   },
   "outputs": [],
   "source": []
  },
  {
   "cell_type": "code",
   "execution_count": null,
   "metadata": {
    "collapsed": true
   },
   "outputs": [],
   "source": [
    "    msg = client_socket.recv(1024)\n"
   ]
  },
  {
   "cell_type": "code",
   "execution_count": null,
   "metadata": {
    "collapsed": true
   },
   "outputs": [],
   "source": []
  },
  {
   "cell_type": "code",
   "execution_count": null,
   "metadata": {
    "collapsed": true
   },
   "outputs": [],
   "source": []
  },
  {
   "cell_type": "code",
   "execution_count": null,
   "metadata": {
    "collapsed": true
   },
   "outputs": [],
   "source": [
    "    msg = client_socket.recv(4096)\n",
    "    d= d+msg\n",
    "#     if not msg:\n",
    "#         break\n",
    "#     else:\n",
    "# #         msg = re.sub(r'[^\\x00-\\x7F]+',' ', msg)\n",
    "#         d= d+msg"
   ]
  },
  {
   "cell_type": "code",
   "execution_count": null,
   "metadata": {},
   "outputs": [],
   "source": [
    "msg"
   ]
  },
  {
   "cell_type": "code",
   "execution_count": null,
   "metadata": {},
   "outputs": [],
   "source": [
    "len(msg)"
   ]
  },
  {
   "cell_type": "code",
   "execution_count": null,
   "metadata": {
    "scrolled": true
   },
   "outputs": [],
   "source": [
    "type(msg)"
   ]
  },
  {
   "cell_type": "code",
   "execution_count": null,
   "metadata": {},
   "outputs": [],
   "source": [
    "print(msg.decode(\"utf8\"))"
   ]
  },
  {
   "cell_type": "code",
   "execution_count": null,
   "metadata": {
    "collapsed": true
   },
   "outputs": [],
   "source": []
  },
  {
   "cell_type": "code",
   "execution_count": null,
   "metadata": {
    "collapsed": true
   },
   "outputs": [],
   "source": [
    "d[-100:]"
   ]
  },
  {
   "cell_type": "code",
   "execution_count": null,
   "metadata": {
    "collapsed": true
   },
   "outputs": [],
   "source": []
  },
  {
   "cell_type": "code",
   "execution_count": null,
   "metadata": {
    "collapsed": true
   },
   "outputs": [],
   "source": []
  },
  {
   "cell_type": "code",
   "execution_count": null,
   "metadata": {
    "collapsed": true
   },
   "outputs": [],
   "source": []
  },
  {
   "cell_type": "code",
   "execution_count": null,
   "metadata": {
    "collapsed": true
   },
   "outputs": [],
   "source": []
  },
  {
   "cell_type": "code",
   "execution_count": null,
   "metadata": {
    "collapsed": true
   },
   "outputs": [],
   "source": []
  },
  {
   "cell_type": "code",
   "execution_count": null,
   "metadata": {
    "collapsed": true
   },
   "outputs": [],
   "source": []
  },
  {
   "cell_type": "code",
   "execution_count": null,
   "metadata": {
    "collapsed": true
   },
   "outputs": [],
   "source": []
  },
  {
   "cell_type": "code",
   "execution_count": null,
   "metadata": {},
   "outputs": [],
   "source": [
    "for dddd in range(190):\n",
    "    msg = client_socket.recv(1024)\n",
    "    if not msg:\n",
    "        break\n",
    "    else:\n",
    "#         msg = re.sub(r'[^\\x00-\\x7F]+',' ', msg)\n",
    "        d= d+msg.decode()\n"
   ]
  },
  {
   "cell_type": "code",
   "execution_count": null,
   "metadata": {
    "collapsed": true
   },
   "outputs": [],
   "source": []
  },
  {
   "cell_type": "code",
   "execution_count": null,
   "metadata": {},
   "outputs": [],
   "source": [
    "len(d)"
   ]
  },
  {
   "cell_type": "code",
   "execution_count": null,
   "metadata": {},
   "outputs": [],
   "source": [
    "print(d[-1300:])"
   ]
  },
  {
   "cell_type": "code",
   "execution_count": null,
   "metadata": {},
   "outputs": [],
   "source": [
    "len(d)"
   ]
  },
  {
   "cell_type": "code",
   "execution_count": null,
   "metadata": {},
   "outputs": [],
   "source": [
    "d [-300:]"
   ]
  },
  {
   "cell_type": "code",
   "execution_count": null,
   "metadata": {
    "collapsed": true
   },
   "outputs": [],
   "source": []
  },
  {
   "cell_type": "code",
   "execution_count": null,
   "metadata": {
    "collapsed": true
   },
   "outputs": [],
   "source": []
  },
  {
   "cell_type": "code",
   "execution_count": null,
   "metadata": {
    "collapsed": true
   },
   "outputs": [],
   "source": []
  },
  {
   "cell_type": "code",
   "execution_count": null,
   "metadata": {},
   "outputs": [],
   "source": [
    "client_socket = socket.socket(socket.AF_INET, socket.SOCK_STREAM) \n",
    "client_socket.connect((hostname, 80))                               \n",
    "\n",
    "client_socket.send(en)\n",
    "msg = client_socket.recv(50000)\n",
    "client_socket.close()\n",
    "decod = msg.decode('ascii')\n",
    "print (decod)"
   ]
  },
  {
   "cell_type": "code",
   "execution_count": null,
   "metadata": {},
   "outputs": [],
   "source": [
    "print(decod[-200:-1])"
   ]
  },
  {
   "cell_type": "code",
   "execution_count": null,
   "metadata": {},
   "outputs": [],
   "source": [
    "len(decod)"
   ]
  },
  {
   "cell_type": "code",
   "execution_count": null,
   "metadata": {
    "collapsed": true
   },
   "outputs": [],
   "source": [
    "\n",
    "# client_socket.close()\n",
    "\n",
    "# print (msg.decode('ascii'))\n"
   ]
  },
  {
   "cell_type": "code",
   "execution_count": null,
   "metadata": {
    "collapsed": true
   },
   "outputs": [],
   "source": []
  },
  {
   "cell_type": "code",
   "execution_count": null,
   "metadata": {
    "collapsed": true
   },
   "outputs": [],
   "source": [
    "for i in har_json[\"log\"][\"entries\"]:\n",
    "    url = i[\"request\"][\"url\"]\n",
    "    prefix = url[0:5]"
   ]
  },
  {
   "cell_type": "code",
   "execution_count": null,
   "metadata": {
    "collapsed": true
   },
   "outputs": [],
   "source": []
  },
  {
   "cell_type": "code",
   "execution_count": null,
   "metadata": {
    "collapsed": true
   },
   "outputs": [],
   "source": []
  },
  {
   "cell_type": "code",
   "execution_count": null,
   "metadata": {
    "collapsed": true
   },
   "outputs": [],
   "source": []
  },
  {
   "cell_type": "code",
   "execution_count": null,
   "metadata": {
    "collapsed": true
   },
   "outputs": [],
   "source": []
  },
  {
   "cell_type": "code",
   "execution_count": null,
   "metadata": {},
   "outputs": [],
   "source": [
    "i"
   ]
  },
  {
   "cell_type": "code",
   "execution_count": null,
   "metadata": {
    "collapsed": true
   },
   "outputs": [],
   "source": []
  },
  {
   "cell_type": "code",
   "execution_count": null,
   "metadata": {
    "collapsed": true
   },
   "outputs": [],
   "source": [
    "import json"
   ]
  },
  {
   "cell_type": "code",
   "execution_count": null,
   "metadata": {
    "collapsed": true
   },
   "outputs": [],
   "source": [
    "a = open(\"bbc.har\")"
   ]
  },
  {
   "cell_type": "code",
   "execution_count": null,
   "metadata": {
    "collapsed": true
   },
   "outputs": [],
   "source": [
    "a = json.load(a)"
   ]
  },
  {
   "cell_type": "code",
   "execution_count": null,
   "metadata": {},
   "outputs": [],
   "source": [
    "a[\"log\"].keys()"
   ]
  },
  {
   "cell_type": "code",
   "execution_count": null,
   "metadata": {},
   "outputs": [],
   "source": [
    "a[\"log\"][\"pages\"]"
   ]
  },
  {
   "cell_type": "code",
   "execution_count": null,
   "metadata": {},
   "outputs": [],
   "source": [
    "len(a[\"log\"][\"entries\"])"
   ]
  },
  {
   "cell_type": "code",
   "execution_count": null,
   "metadata": {},
   "outputs": [],
   "source": [
    "a[\"log\"][\"entries\"][0]"
   ]
  },
  {
   "cell_type": "code",
   "execution_count": null,
   "metadata": {
    "scrolled": true
   },
   "outputs": [],
   "source": [
    "a[\"log\"][\"entries\"][11]"
   ]
  },
  {
   "cell_type": "code",
   "execution_count": null,
   "metadata": {},
   "outputs": [],
   "source": [
    "a[\"log\"][\"entries\"][11].keys()"
   ]
  },
  {
   "cell_type": "code",
   "execution_count": null,
   "metadata": {},
   "outputs": [],
   "source": [
    "type(a[\"log\"][\"entries\"][11][\"response\"][\"content\"][\"text\"])"
   ]
  },
  {
   "cell_type": "code",
   "execution_count": null,
   "metadata": {
    "collapsed": true
   },
   "outputs": [],
   "source": [
    " s = a[\"log\"][\"entries\"][11][\"response\"][\"content\"][\"text\"]"
   ]
  },
  {
   "cell_type": "code",
   "execution_count": null,
   "metadata": {},
   "outputs": [],
   "source": [
    "s.decode('base64')"
   ]
  },
  {
   "cell_type": "code",
   "execution_count": null,
   "metadata": {
    "collapsed": true
   },
   "outputs": [],
   "source": [
    "import base64\n",
    "coded_string = s\n",
    "dec = base64.b64decode(coded_string)"
   ]
  },
  {
   "cell_type": "code",
   "execution_count": null,
   "metadata": {
    "collapsed": true
   },
   "outputs": [],
   "source": [
    "f = open(\"out.jpg\",\"wb\")"
   ]
  },
  {
   "cell_type": "code",
   "execution_count": null,
   "metadata": {},
   "outputs": [],
   "source": [
    "f.write(dec)"
   ]
  },
  {
   "cell_type": "code",
   "execution_count": null,
   "metadata": {
    "collapsed": true
   },
   "outputs": [],
   "source": []
  },
  {
   "cell_type": "code",
   "execution_count": null,
   "metadata": {
    "collapsed": true
   },
   "outputs": [],
   "source": []
  },
  {
   "cell_type": "code",
   "execution_count": null,
   "metadata": {
    "collapsed": true
   },
   "outputs": [],
   "source": [
    "f.close()"
   ]
  },
  {
   "cell_type": "code",
   "execution_count": null,
   "metadata": {
    "collapsed": true
   },
   "outputs": [],
   "source": []
  },
  {
   "cell_type": "code",
   "execution_count": null,
   "metadata": {
    "collapsed": true
   },
   "outputs": [],
   "source": []
  }
 ],
 "metadata": {
  "kernelspec": {
   "display_name": "Python 3",
   "language": "python",
   "name": "python3"
  },
  "language_info": {
   "codemirror_mode": {
    "name": "ipython",
    "version": 3
   },
   "file_extension": ".py",
   "mimetype": "text/x-python",
   "name": "python",
   "nbconvert_exporter": "python",
   "pygments_lexer": "ipython3",
   "version": "3.6.2"
  }
 },
 "nbformat": 4,
 "nbformat_minor": 2
}
