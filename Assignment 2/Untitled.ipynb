{
 "cells": [
  {
   "cell_type": "code",
   "execution_count": 1,
   "metadata": {},
   "outputs": [],
   "source": [
    "import socket\n",
    "import json\n",
    "import base64\n",
    "import time\n",
    "import os\n",
    "import threading\n",
    "numThreadsPerDomain = 3\n",
    "numObjectsPerThread = 2\n",
    "harfile_name = \"bbc.har\"\n",
    "PIPELINED = False\n",
    "foldername = harfile_name.split(\".\")[0]\n",
    "harfile = open(harfile_name,\"r\")\n",
    "har_json = json.load(harfile)\n",
    "num_requests = len(har_json[\"log\"][\"entries\"])\n",
    "domain_dict = {}\n",
    "act = threading.activeCount()\n"
   ]
  },
  {
   "cell_type": "code",
   "execution_count": 2,
   "metadata": {},
   "outputs": [],
   "source": [
    "def fetch_thread(request_small):\n",
    "    if not PIPELINED:\n",
    "        for i in request_small:\n",
    "#             print(threading.current_thread().name, \" Processed url \", i[\"request\"][\"url\"])\n",
    "            url = i[\"request\"][\"url\"]\n",
    "            prefix = url[0:5]\n",
    "            if prefix != \"http:\":\n",
    "                continue\n",
    "            url_split = url.split(\"://\")\n",
    "\n",
    "            content_file_path = foldername\n",
    "            content_file_path = content_file_path + \"/\" + url_split[-1]\n",
    "            if int(i[\"response\"][\"content\"][\"size\"])!=0:\n",
    "                if content_file_path[-1]==\"/\":\n",
    "                    content_file_path = content_file_path + \"index.html\"\n",
    "                if not os.path.exists(os.path.dirname(content_file_path)):\n",
    "                    try:\n",
    "                        os.makedirs(os.path.dirname(content_file_path))\n",
    "                    except: # Guard against race condition\n",
    "                        print(\"Error :Race\")\n",
    "                        exit(1)\n",
    "                har_req = i[\"request\"]\n",
    "                http_version = \"HTTP\" + har_req[\"httpVersion\"][4:]\n",
    "                request_str= har_req[\"method\"] + \" /\" + har_req[\"url\"].split(\"//\")[1].split(\"/\",maxsplit=1)[-1]+\" \"+ http_version + \"\\n\" \n",
    "                hostname = (har_req[\"url\"].split(\"//\")[1]).split(\"/\")[0]\n",
    "                request_str = request_str + \"Host\"+\": \" + hostname+\"\\n\"\n",
    "                for el in har_req[\"headers\"]:\n",
    "                    if el[\"name\"] not in (\"User-Agent\",\"Connection\"):continue\n",
    "                    request_str = request_str + el[\"name\"]+\": \" + el[\"value\"]+\"\\n\"\n",
    "                request_str = request_str + \"\\n\"\n",
    "        #         print(\"------------------------------\")\n",
    "        #         print(request_str)\n",
    "        #         print(\"------------------------------\")\n",
    "                encoded_request = request_str.encode()\n",
    "                client_socket = socket.socket(socket.AF_INET, socket.SOCK_STREAM) \n",
    "                print(\"Hostname is \", hostname)\n",
    "                client_socket.connect((hostname, 80))\n",
    "                client_socket.send(encoded_request)\n",
    "                received_bytes = b\"\"\n",
    "                client_socket.settimeout(0.2)\n",
    "                while 1:\n",
    "                    try:\n",
    "                        msg = client_socket.recv(1024)\n",
    "                        if(len(msg)==0):\n",
    "                            break\n",
    "                        received_bytes = received_bytes + msg\n",
    "                    except:\n",
    "                        break\n",
    "\n",
    "                header = received_bytes.split(b\"\\r\\n\\r\\n\")[0]\n",
    "                client_socket.close()\n",
    "                content = received_bytes.split(b\"\\r\\n\\r\\n\")[-1]\n",
    "                headerfile = open(content_file_path+\"_header\",\"wb\")\n",
    "                headerfile.write(header)\n",
    "                headerfile.close()\n",
    "                contentfile = open(content_file_path,\"wb\")\n",
    "                contentfile.write(content)\n",
    "                contentfile.close()\n",
    "#         else:\n",
    "#             for i in request_small:\n",
    "                \n"
   ]
  },
  {
   "cell_type": "code",
   "execution_count": 3,
   "metadata": {
    "collapsed": true
   },
   "outputs": [],
   "source": [
    "def dom_thread_fun(reqlist):\n",
    "    tl = []\n",
    "    done = 0\n",
    "    tind = 0\n",
    "    while len(reqlist) != done:\n",
    "        if len(tl) == numThreadsPerDomain:\n",
    "            while 1:\n",
    "                a = 0\n",
    "                for th in tl:\n",
    "                    if th.isAlive():\n",
    "                        a = 1\n",
    "                if a==1:\n",
    "                    continue\n",
    "                else:\n",
    "                    tl =[]\n",
    "                    break\n",
    "        tempList = reqlist[done:min(done+numObjectsPerThread, len(reqlist))]\n",
    "        done += len(tempList)\n",
    "        nt  = threading.Thread(name=threading.current_thread().name+\"fetch\"+str(tind),target=fetch_thread,args=(tempList,))\n",
    "        tl.append(nt)\n",
    "        tind+=1\n",
    "        nt.start()"
   ]
  },
  {
   "cell_type": "code",
   "execution_count": 4,
   "metadata": {},
   "outputs": [
    {
     "name": "stdout",
     "output_type": "stream",
     "text": [
      "Hostname is  Hostname is Hostname is static.bbci.co.uk  \n",
      "www.bbc.comstatic.bbci.co.uk\n",
      "\n",
      "Hostname is  Hostname is static.bbci.co.uk \n",
      "www.bbc.co.uk\n",
      "Hostname is  static.bbc.co.uk\n",
      "Hostname is  static.bbci.co.uk\n",
      "Hostname is  Hostname is Hostname is static.bbc.co.uk  Hostname is Hostname is \n",
      "static.bbci.co.uknav.files.bbci.co.uk  \n",
      "\n",
      "mybbc.files.bbci.co.uknav.files.bbci.co.uk\n",
      "\n",
      "Hostname is  Hostname is Hostname is  Hostname is  www.bbc.co.ukstatic.bbci.co.uk Hostname is nav.files.bbci.co.uk\n",
      "\n",
      "nav.files.bbci.co.uk Hostname is \n",
      " static.bbc.co.uk\n",
      "\n",
      "ichef.bbci.co.uk\n",
      "Hostname is Hostname is Hostname is   Hostname is  ichef.bbci.co.ukichef.bbci.co.uk search.files.bbci.co.uk\n",
      "\n",
      "www.bbc.co.uk\n",
      "\n",
      "Hostname is  ichef.bbci.co.uk\n",
      "Hostname is  ichef.bbci.co.uk\n",
      "Hostname is  search.files.bbci.co.uk\n",
      "Hostname is  search.files.bbci.co.uk\n",
      "Hostname is  search.files.bbci.co.uk\n",
      "Hostname is  search.files.bbci.co.uk\n",
      "Hostname is  static.bbci.co.uk\n",
      "Hostname is  static.bbci.co.uk\n",
      "Hostname is  Hostname is ichef.bbci.co.uk static.bbci.co.uk\n",
      "Hostname is \n",
      " static.bbci.co.uk\n",
      "Hostname is  static.bbci.co.uk\n",
      "Hostname is  ichef.bbci.co.uk\n",
      "Hostname is Hostname is   ichef.bbci.co.ukstatic.bbci.co.uk\n",
      "\n",
      "Hostname is  ichef.bbci.co.uk\n",
      "Hostname is  ichef.bbci.co.uk\n",
      "Hostname is  static.bbci.co.uk\n",
      "Hostname is  static.bbci.co.uk\n",
      "Hostname is  static.bbci.co.uk\n",
      "Hostname is  emp.bbci.co.uk\n",
      "Hostname is  static.bbci.co.ukHostname is \n",
      " ichef.bbci.co.uk\n",
      "Time Elasped is  3.75184965133667\n"
     ]
    }
   ],
   "source": [
    "start_time = time.time()\n",
    "for i in har_json[\"log\"][\"entries\"]:\n",
    "    domain_name = i[\"request\"][\"url\"].split(\"//\",maxsplit=1)[-1].split(\"/\")[0].split(\".\",maxsplit=1)[1]\n",
    "    if domain_name in domain_dict.keys():\n",
    "        domain_dict[domain_name].append(i)\n",
    "    else:\n",
    "        domain_dict[domain_name] = [i]\n",
    "list_of_threads = []\n",
    "for dom in domain_dict.keys():\n",
    "    t = threading.Thread(name=dom,target=dom_thread_fun,args=(domain_dict[dom],))\n",
    "    list_of_threads.append(t)\n",
    "    t.start()\n",
    "while(threading.activeCount()!=act):\n",
    "#     print(\"-\")\n",
    "    pass\n",
    "elapsed_time = time.time() - start_time\n",
    "print(\"Time Elasped is \", elapsed_time)"
   ]
  },
  {
   "cell_type": "code",
   "execution_count": null,
   "metadata": {},
   "outputs": [],
   "source": [
    "print(threading.activeCount())"
   ]
  },
  {
   "cell_type": "code",
   "execution_count": null,
   "metadata": {
    "collapsed": true
   },
   "outputs": [],
   "source": []
  },
  {
   "cell_type": "code",
   "execution_count": null,
   "metadata": {
    "scrolled": true
   },
   "outputs": [],
   "source": []
  },
  {
   "cell_type": "code",
   "execution_count": null,
   "metadata": {
    "collapsed": true
   },
   "outputs": [],
   "source": [
    "harfile = open(harfile_name,\"r\")\n"
   ]
  },
  {
   "cell_type": "code",
   "execution_count": null,
   "metadata": {},
   "outputs": [],
   "source": [
    "har_json[\"log\"][\"entries\"][2][\"request\"][\"url\"].split(\"//\",maxsplit=1)[-1].split(\"/\")[0].split(\".\",maxsplit=1)[1]"
   ]
  },
  {
   "cell_type": "code",
   "execution_count": null,
   "metadata": {
    "collapsed": true
   },
   "outputs": [],
   "source": []
  },
  {
   "cell_type": "code",
   "execution_count": null,
   "metadata": {
    "collapsed": true
   },
   "outputs": [],
   "source": []
  },
  {
   "cell_type": "code",
   "execution_count": null,
   "metadata": {
    "collapsed": true
   },
   "outputs": [],
   "source": []
  },
  {
   "cell_type": "code",
   "execution_count": null,
   "metadata": {
    "collapsed": true
   },
   "outputs": [],
   "source": []
  },
  {
   "cell_type": "code",
   "execution_count": null,
   "metadata": {
    "collapsed": true
   },
   "outputs": [],
   "source": []
  },
  {
   "cell_type": "code",
   "execution_count": null,
   "metadata": {
    "collapsed": true
   },
   "outputs": [],
   "source": []
  },
  {
   "cell_type": "code",
   "execution_count": null,
   "metadata": {
    "collapsed": true
   },
   "outputs": [],
   "source": []
  },
  {
   "cell_type": "code",
   "execution_count": null,
   "metadata": {},
   "outputs": [],
   "source": [
    "import socket\n",
    "import json\n",
    "import base64\n",
    "import os\n",
    "import threading\n",
    "\n",
    "harfile_name = \"bbc.har\"\n",
    "foldername = harfile_name.split(\".\")[0]\n",
    "harfile = open(harfile_name,\"r\")\n",
    "har_json = json.load(harfile)\n",
    "num_requests = len(har_json[\"log\"][\"entries\"])\n",
    "for i in har_json[\"log\"][\"entries\"]:\n",
    "    url = i[\"request\"][\"url\"]\n",
    "    prefix = url[0:5]\n",
    "    # print(prefix)\n",
    "    if prefix != \"http:\":\n",
    "        continue\n",
    "    url_split = url.split(\"://\")\n",
    "    \n",
    "    content_file_path = foldername\n",
    "    content_file_path = content_file_path + \"/\" + url_split[-1]\n",
    "    if int(i[\"response\"][\"content\"][\"size\"])!=0:\n",
    "#         if not \"text\" in i[\"response\"][\"content\"].keys():\n",
    "#             continue\n",
    "        print(content_file_path)\n",
    "        if content_file_path[-1]==\"/\":\n",
    "            content_file_path = content_file_path + \"index.html\"\n",
    "        # print(os.path.dirname(right_part))\n",
    "        if not os.path.exists(os.path.dirname(content_file_path)):\n",
    "            try:\n",
    "                os.makedirs(os.path.dirname(content_file_path))\n",
    "            except: # Guard against race condition\n",
    "                print(\"Error :Race\")\n",
    "                exit(1)\n",
    "        har_req = i[\"request\"]\n",
    "        http_version = \"HTTP\" + har_req[\"httpVersion\"][4:]\n",
    "        request_str= har_req[\"method\"] + \" /\" + har_req[\"url\"].split(\"//\")[1].split(\"/\",maxsplit=1)[-1]+\" \"+ http_version + \"\\n\" \n",
    "        hostname = (har_req[\"url\"].split(\"//\")[1]).split(\"/\")[0]\n",
    "        request_str = request_str + \"Host\"+\": \" + hostname+\"\\n\"\n",
    "        for el in har_req[\"headers\"]:\n",
    "            if el[\"name\"] not in (\"User-Agent\",\"Connection\"):continue\n",
    "            request_str = request_str + el[\"name\"]+\": \" + el[\"value\"]+\"\\n\"\n",
    "#         request_str = request_str + \"Conncetion\"+\": \" + \"Close\"+\"\\n\"\n",
    "#         request_str = request_str + \"User-Agent\"+\": \" + har_req[\"headers\"]+\"\\n\"\n",
    "        request_str = request_str + \"\\n\"\n",
    "        print(\"------------------------------\")\n",
    "        print(request_str)\n",
    "        print(\"------------------------------\")\n",
    "        encoded_request = request_str.encode()\n",
    "        client_socket = socket.socket(socket.AF_INET, socket.SOCK_STREAM) \n",
    "        print(\"Hostname is \", hostname)\n",
    "        client_socket.connect((hostname, 80))\n",
    "        client_socket.send(encoded_request)\n",
    "        received_bytes = b\"\"\n",
    "        client_socket.settimeout(0.2)\n",
    "        while 1:\n",
    "            try:\n",
    "                msg = client_socket.recv(1024)\n",
    "                if(len(msg)==0):\n",
    "                    break\n",
    "                received_bytes = received_bytes + msg\n",
    "            except:\n",
    "                break\n",
    "                \n",
    "        header = received_bytes.split(b\"\\r\\n\\r\\n\")[0]\n",
    "        client_socket.close()\n",
    "        content = received_bytes.split(b\"\\r\\n\\r\\n\")[-1]\n",
    "        headerfile = open(content_file_path+\"_header\",\"wb\")\n",
    "        headerfile.write(header)\n",
    "        headerfile.close()\n",
    "        contentfile = open(content_file_path,\"wb\")\n",
    "        contentfile.write(content)\n",
    "        contentfile.close()\n",
    "        \n",
    "        \n",
    "        \n"
   ]
  },
  {
   "cell_type": "code",
   "execution_count": null,
   "metadata": {
    "collapsed": true
   },
   "outputs": [],
   "source": []
  },
  {
   "cell_type": "code",
   "execution_count": null,
   "metadata": {
    "collapsed": true
   },
   "outputs": [],
   "source": []
  },
  {
   "cell_type": "code",
   "execution_count": null,
   "metadata": {
    "collapsed": true
   },
   "outputs": [],
   "source": []
  },
  {
   "cell_type": "code",
   "execution_count": null,
   "metadata": {
    "collapsed": true
   },
   "outputs": [],
   "source": [
    "import socket\n",
    "import json\n",
    "import base64\n",
    "import os\n",
    "harfile_name = \"bbc.har\"\n",
    "foldername = harfile_name.split(\".\")[0]\n",
    "harfile = open(harfile_name,\"r\")\n",
    "har_json = json.load(harfile)\n",
    "num_requests = len(har_json[\"log\"][\"entries\"])\n",
    "\n",
    "  "
   ]
  },
  {
   "cell_type": "code",
   "execution_count": null,
   "metadata": {
    "collapsed": true
   },
   "outputs": [],
   "source": [
    "c = har_json[\"log\"][\"entries\"][11]"
   ]
  },
  {
   "cell_type": "code",
   "execution_count": null,
   "metadata": {},
   "outputs": [],
   "source": [
    "c"
   ]
  },
  {
   "cell_type": "code",
   "execution_count": null,
   "metadata": {},
   "outputs": [],
   "source": [
    "c"
   ]
  },
  {
   "cell_type": "code",
   "execution_count": null,
   "metadata": {
    "collapsed": true
   },
   "outputs": [],
   "source": [
    "r = c[\"request\"]"
   ]
  },
  {
   "cell_type": "code",
   "execution_count": null,
   "metadata": {},
   "outputs": [],
   "source": [
    "r"
   ]
  },
  {
   "cell_type": "code",
   "execution_count": null,
   "metadata": {
    "collapsed": true
   },
   "outputs": [],
   "source": []
  },
  {
   "cell_type": "code",
   "execution_count": null,
   "metadata": {
    "scrolled": true
   },
   "outputs": [],
   "source": [
    "requ = r[\"method\"] + \" /\" + r[\"url\"].split(\"//\")[1].split(\"/\",maxsplit=1)[-1]+\" \"+ r[\"httpVersion\"] + \"\\n\" "
   ]
  },
  {
   "cell_type": "code",
   "execution_count": null,
   "metadata": {},
   "outputs": [],
   "source": [
    "requ"
   ]
  },
  {
   "cell_type": "code",
   "execution_count": null,
   "metadata": {},
   "outputs": [],
   "source": [
    "url\n"
   ]
  },
  {
   "cell_type": "code",
   "execution_count": null,
   "metadata": {},
   "outputs": [],
   "source": [
    "requ = requ[:-9] + \"HTTP/1.1\\n\""
   ]
  },
  {
   "cell_type": "code",
   "execution_count": null,
   "metadata": {},
   "outputs": [],
   "source": [
    "r[\"url\"]"
   ]
  },
  {
   "cell_type": "code",
   "execution_count": null,
   "metadata": {},
   "outputs": [],
   "source": [
    "hostname = (r[\"url\"].split(\"//\")[1]).split(\"/\")[0]"
   ]
  },
  {
   "cell_type": "code",
   "execution_count": null,
   "metadata": {},
   "outputs": [],
   "source": [
    "hostname"
   ]
  },
  {
   "cell_type": "code",
   "execution_count": null,
   "metadata": {},
   "outputs": [],
   "source": [
    "crauy.split(\",\",maxsplit=1)"
   ]
  },
  {
   "cell_type": "code",
   "execution_count": null,
   "metadata": {
    "collapsed": true
   },
   "outputs": [],
   "source": []
  },
  {
   "cell_type": "code",
   "execution_count": null,
   "metadata": {
    "collapsed": true
   },
   "outputs": [],
   "source": []
  },
  {
   "cell_type": "code",
   "execution_count": null,
   "metadata": {
    "collapsed": true
   },
   "outputs": [],
   "source": []
  },
  {
   "cell_type": "code",
   "execution_count": null,
   "metadata": {
    "collapsed": true
   },
   "outputs": [],
   "source": [
    "for el in r[\"headers\"]:\n",
    "    if el[\"name\"] not in (\"User-Agent\",\"Connection\"):continue\n",
    "#     if(el[\"name\"]==\"Host\"):\n",
    "#         hostname = el[\"value\"]\n",
    "\n",
    "    requ = requ + el[\"name\"]+\": \" + el[\"value\"]+\"\\n\""
   ]
  },
  {
   "cell_type": "code",
   "execution_count": null,
   "metadata": {
    "collapsed": true
   },
   "outputs": [],
   "source": [
    "requ = requ + \"Host\"+\": \" + hostname+\"\\n\""
   ]
  },
  {
   "cell_type": "code",
   "execution_count": null,
   "metadata": {},
   "outputs": [],
   "source": [
    "requ"
   ]
  },
  {
   "cell_type": "code",
   "execution_count": null,
   "metadata": {
    "collapsed": true
   },
   "outputs": [],
   "source": [
    "requ = requ+\"\\n\""
   ]
  },
  {
   "cell_type": "code",
   "execution_count": null,
   "metadata": {
    "collapsed": true
   },
   "outputs": [],
   "source": [
    "en = requ.encode()"
   ]
  },
  {
   "cell_type": "code",
   "execution_count": null,
   "metadata": {},
   "outputs": [],
   "source": [
    "hostname"
   ]
  },
  {
   "cell_type": "code",
   "execution_count": null,
   "metadata": {
    "scrolled": true
   },
   "outputs": [],
   "source": [
    "client_socket = socket.socket(socket.AF_INET, socket.SOCK_STREAM) \n",
    "client_socket.connect((hostname, 80))                               \n"
   ]
  },
  {
   "cell_type": "code",
   "execution_count": null,
   "metadata": {},
   "outputs": [],
   "source": [
    "client_socket.send(en)\n"
   ]
  },
  {
   "cell_type": "code",
   "execution_count": null,
   "metadata": {
    "collapsed": true
   },
   "outputs": [],
   "source": [
    "d = b\"\""
   ]
  },
  {
   "cell_type": "code",
   "execution_count": null,
   "metadata": {
    "collapsed": true
   },
   "outputs": [],
   "source": [
    "import re\n",
    "# substitute sequence of non-ASCII characters with single space\n",
    "# str = re.sub(r'[^\\x00-\\x7F]+',' ', str)\n"
   ]
  },
  {
   "cell_type": "code",
   "execution_count": null,
   "metadata": {},
   "outputs": [],
   "source": [
    "while 1:\n",
    "    msg = client_socket.recv(1024)\n",
    "    if len(msg)!=1024:\n",
    "        d = d + msg\n",
    "        break\n",
    "    else:\n",
    "#         msg = re.sub(r'[^\\x00-\\x7F]+',' ', msg)\n",
    "        d= d+msg\n"
   ]
  },
  {
   "cell_type": "code",
   "execution_count": null,
   "metadata": {
    "collapsed": true
   },
   "outputs": [],
   "source": []
  },
  {
   "cell_type": "code",
   "execution_count": null,
   "metadata": {},
   "outputs": [],
   "source": [
    "len(d)"
   ]
  },
  {
   "cell_type": "code",
   "execution_count": null,
   "metadata": {},
   "outputs": [],
   "source": [
    "d.split(b\"\\r\\n\\r\\n\")[-1]"
   ]
  },
  {
   "cell_type": "code",
   "execution_count": null,
   "metadata": {
    "collapsed": true
   },
   "outputs": [],
   "source": []
  },
  {
   "cell_type": "code",
   "execution_count": null,
   "metadata": {},
   "outputs": [],
   "source": [
    "d[:777]"
   ]
  },
  {
   "cell_type": "code",
   "execution_count": null,
   "metadata": {},
   "outputs": [],
   "source": [
    "dec = d.decode(\"utf8\")"
   ]
  },
  {
   "cell_type": "code",
   "execution_count": null,
   "metadata": {},
   "outputs": [],
   "source": [
    "dec"
   ]
  },
  {
   "cell_type": "code",
   "execution_count": null,
   "metadata": {},
   "outputs": [],
   "source": [
    "dec[-100:]"
   ]
  },
  {
   "cell_type": "code",
   "execution_count": null,
   "metadata": {
    "collapsed": true
   },
   "outputs": [],
   "source": []
  },
  {
   "cell_type": "code",
   "execution_count": null,
   "metadata": {
    "collapsed": true
   },
   "outputs": [],
   "source": []
  },
  {
   "cell_type": "code",
   "execution_count": null,
   "metadata": {
    "collapsed": true
   },
   "outputs": [],
   "source": [
    "    msg = client_socket.recv(1024)\n"
   ]
  },
  {
   "cell_type": "code",
   "execution_count": null,
   "metadata": {
    "collapsed": true
   },
   "outputs": [],
   "source": []
  },
  {
   "cell_type": "code",
   "execution_count": null,
   "metadata": {
    "collapsed": true
   },
   "outputs": [],
   "source": []
  },
  {
   "cell_type": "code",
   "execution_count": null,
   "metadata": {
    "collapsed": true
   },
   "outputs": [],
   "source": [
    "    msg = client_socket.recv(4096)\n",
    "    d= d+msg\n",
    "#     if not msg:\n",
    "#         break\n",
    "#     else:\n",
    "# #         msg = re.sub(r'[^\\x00-\\x7F]+',' ', msg)\n",
    "#         d= d+msg"
   ]
  },
  {
   "cell_type": "code",
   "execution_count": null,
   "metadata": {},
   "outputs": [],
   "source": [
    "msg"
   ]
  },
  {
   "cell_type": "code",
   "execution_count": null,
   "metadata": {},
   "outputs": [],
   "source": [
    "len(msg)"
   ]
  },
  {
   "cell_type": "code",
   "execution_count": null,
   "metadata": {
    "scrolled": true
   },
   "outputs": [],
   "source": [
    "type(msg)"
   ]
  },
  {
   "cell_type": "code",
   "execution_count": null,
   "metadata": {},
   "outputs": [],
   "source": [
    "print(msg.decode(\"utf8\"))"
   ]
  },
  {
   "cell_type": "code",
   "execution_count": null,
   "metadata": {
    "collapsed": true
   },
   "outputs": [],
   "source": []
  },
  {
   "cell_type": "code",
   "execution_count": null,
   "metadata": {
    "collapsed": true
   },
   "outputs": [],
   "source": [
    "d[-100:]"
   ]
  },
  {
   "cell_type": "code",
   "execution_count": null,
   "metadata": {
    "collapsed": true
   },
   "outputs": [],
   "source": []
  },
  {
   "cell_type": "code",
   "execution_count": null,
   "metadata": {
    "collapsed": true
   },
   "outputs": [],
   "source": []
  },
  {
   "cell_type": "code",
   "execution_count": null,
   "metadata": {
    "collapsed": true
   },
   "outputs": [],
   "source": []
  },
  {
   "cell_type": "code",
   "execution_count": null,
   "metadata": {
    "collapsed": true
   },
   "outputs": [],
   "source": []
  },
  {
   "cell_type": "code",
   "execution_count": null,
   "metadata": {
    "collapsed": true
   },
   "outputs": [],
   "source": []
  },
  {
   "cell_type": "code",
   "execution_count": null,
   "metadata": {
    "collapsed": true
   },
   "outputs": [],
   "source": []
  },
  {
   "cell_type": "code",
   "execution_count": null,
   "metadata": {
    "collapsed": true
   },
   "outputs": [],
   "source": []
  },
  {
   "cell_type": "code",
   "execution_count": null,
   "metadata": {},
   "outputs": [],
   "source": [
    "for dddd in range(190):\n",
    "    msg = client_socket.recv(1024)\n",
    "    if not msg:\n",
    "        break\n",
    "    else:\n",
    "#         msg = re.sub(r'[^\\x00-\\x7F]+',' ', msg)\n",
    "        d= d+msg.decode()\n"
   ]
  },
  {
   "cell_type": "code",
   "execution_count": null,
   "metadata": {
    "collapsed": true
   },
   "outputs": [],
   "source": []
  },
  {
   "cell_type": "code",
   "execution_count": null,
   "metadata": {},
   "outputs": [],
   "source": [
    "len(d)"
   ]
  },
  {
   "cell_type": "code",
   "execution_count": null,
   "metadata": {},
   "outputs": [],
   "source": [
    "print(d[-1300:])"
   ]
  },
  {
   "cell_type": "code",
   "execution_count": null,
   "metadata": {},
   "outputs": [],
   "source": [
    "len(d)"
   ]
  },
  {
   "cell_type": "code",
   "execution_count": null,
   "metadata": {},
   "outputs": [],
   "source": [
    "d [-300:]"
   ]
  },
  {
   "cell_type": "code",
   "execution_count": null,
   "metadata": {
    "collapsed": true
   },
   "outputs": [],
   "source": []
  },
  {
   "cell_type": "code",
   "execution_count": null,
   "metadata": {
    "collapsed": true
   },
   "outputs": [],
   "source": []
  },
  {
   "cell_type": "code",
   "execution_count": null,
   "metadata": {
    "collapsed": true
   },
   "outputs": [],
   "source": []
  },
  {
   "cell_type": "code",
   "execution_count": null,
   "metadata": {},
   "outputs": [],
   "source": [
    "client_socket = socket.socket(socket.AF_INET, socket.SOCK_STREAM) \n",
    "client_socket.connect((hostname, 80))                               \n",
    "\n",
    "client_socket.send(en)\n",
    "msg = client_socket.recv(50000)\n",
    "client_socket.close()\n",
    "decod = msg.decode('ascii')\n",
    "print (decod)"
   ]
  },
  {
   "cell_type": "code",
   "execution_count": null,
   "metadata": {},
   "outputs": [],
   "source": [
    "print(decod[-200:-1])"
   ]
  },
  {
   "cell_type": "code",
   "execution_count": null,
   "metadata": {},
   "outputs": [],
   "source": [
    "len(decod)"
   ]
  },
  {
   "cell_type": "code",
   "execution_count": null,
   "metadata": {
    "collapsed": true
   },
   "outputs": [],
   "source": [
    "\n",
    "# client_socket.close()\n",
    "\n",
    "# print (msg.decode('ascii'))\n"
   ]
  },
  {
   "cell_type": "code",
   "execution_count": null,
   "metadata": {
    "collapsed": true
   },
   "outputs": [],
   "source": []
  },
  {
   "cell_type": "code",
   "execution_count": null,
   "metadata": {
    "collapsed": true
   },
   "outputs": [],
   "source": [
    "for i in har_json[\"log\"][\"entries\"]:\n",
    "    url = i[\"request\"][\"url\"]\n",
    "    prefix = url[0:5]"
   ]
  },
  {
   "cell_type": "code",
   "execution_count": null,
   "metadata": {
    "collapsed": true
   },
   "outputs": [],
   "source": []
  },
  {
   "cell_type": "code",
   "execution_count": null,
   "metadata": {
    "collapsed": true
   },
   "outputs": [],
   "source": []
  },
  {
   "cell_type": "code",
   "execution_count": null,
   "metadata": {
    "collapsed": true
   },
   "outputs": [],
   "source": []
  },
  {
   "cell_type": "code",
   "execution_count": null,
   "metadata": {
    "collapsed": true
   },
   "outputs": [],
   "source": []
  },
  {
   "cell_type": "code",
   "execution_count": null,
   "metadata": {},
   "outputs": [],
   "source": [
    "i"
   ]
  },
  {
   "cell_type": "code",
   "execution_count": null,
   "metadata": {
    "collapsed": true
   },
   "outputs": [],
   "source": []
  },
  {
   "cell_type": "code",
   "execution_count": null,
   "metadata": {
    "collapsed": true
   },
   "outputs": [],
   "source": [
    "import json"
   ]
  },
  {
   "cell_type": "code",
   "execution_count": null,
   "metadata": {
    "collapsed": true
   },
   "outputs": [],
   "source": [
    "a = open(\"bbc.har\")"
   ]
  },
  {
   "cell_type": "code",
   "execution_count": null,
   "metadata": {
    "collapsed": true
   },
   "outputs": [],
   "source": [
    "a = json.load(a)"
   ]
  },
  {
   "cell_type": "code",
   "execution_count": null,
   "metadata": {},
   "outputs": [],
   "source": [
    "a[\"log\"].keys()"
   ]
  },
  {
   "cell_type": "code",
   "execution_count": null,
   "metadata": {},
   "outputs": [],
   "source": [
    "a[\"log\"][\"pages\"]"
   ]
  },
  {
   "cell_type": "code",
   "execution_count": null,
   "metadata": {},
   "outputs": [],
   "source": [
    "len(a[\"log\"][\"entries\"])"
   ]
  },
  {
   "cell_type": "code",
   "execution_count": null,
   "metadata": {},
   "outputs": [],
   "source": [
    "a[\"log\"][\"entries\"][0]"
   ]
  },
  {
   "cell_type": "code",
   "execution_count": null,
   "metadata": {
    "scrolled": true
   },
   "outputs": [],
   "source": [
    "a[\"log\"][\"entries\"][11]"
   ]
  },
  {
   "cell_type": "code",
   "execution_count": null,
   "metadata": {},
   "outputs": [],
   "source": [
    "a[\"log\"][\"entries\"][11].keys()"
   ]
  },
  {
   "cell_type": "code",
   "execution_count": null,
   "metadata": {},
   "outputs": [],
   "source": [
    "type(a[\"log\"][\"entries\"][11][\"response\"][\"content\"][\"text\"])"
   ]
  },
  {
   "cell_type": "code",
   "execution_count": null,
   "metadata": {
    "collapsed": true
   },
   "outputs": [],
   "source": [
    " s = a[\"log\"][\"entries\"][11][\"response\"][\"content\"][\"text\"]"
   ]
  },
  {
   "cell_type": "code",
   "execution_count": null,
   "metadata": {},
   "outputs": [],
   "source": [
    "s.decode('base64')"
   ]
  },
  {
   "cell_type": "code",
   "execution_count": null,
   "metadata": {
    "collapsed": true
   },
   "outputs": [],
   "source": [
    "import base64\n",
    "coded_string = s\n",
    "dec = base64.b64decode(coded_string)"
   ]
  },
  {
   "cell_type": "code",
   "execution_count": null,
   "metadata": {
    "collapsed": true
   },
   "outputs": [],
   "source": [
    "f = open(\"out.jpg\",\"wb\")"
   ]
  },
  {
   "cell_type": "code",
   "execution_count": null,
   "metadata": {},
   "outputs": [],
   "source": [
    "f.write(dec)"
   ]
  },
  {
   "cell_type": "code",
   "execution_count": null,
   "metadata": {
    "collapsed": true
   },
   "outputs": [],
   "source": []
  },
  {
   "cell_type": "code",
   "execution_count": null,
   "metadata": {
    "collapsed": true
   },
   "outputs": [],
   "source": []
  },
  {
   "cell_type": "code",
   "execution_count": null,
   "metadata": {
    "collapsed": true
   },
   "outputs": [],
   "source": [
    "f.close()"
   ]
  },
  {
   "cell_type": "code",
   "execution_count": null,
   "metadata": {
    "collapsed": true
   },
   "outputs": [],
   "source": []
  },
  {
   "cell_type": "code",
   "execution_count": null,
   "metadata": {
    "collapsed": true
   },
   "outputs": [],
   "source": []
  }
 ],
 "metadata": {
  "kernelspec": {
   "display_name": "Python 3",
   "language": "python",
   "name": "python3"
  },
  "language_info": {
   "codemirror_mode": {
    "name": "ipython",
    "version": 3
   },
   "file_extension": ".py",
   "mimetype": "text/x-python",
   "name": "python",
   "nbconvert_exporter": "python",
   "pygments_lexer": "ipython3",
   "version": "3.6.2"
  }
 },
 "nbformat": 4,
 "nbformat_minor": 2
}
