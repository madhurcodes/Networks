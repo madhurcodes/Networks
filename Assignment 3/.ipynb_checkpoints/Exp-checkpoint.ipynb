{
 "cells": [
  {
   "cell_type": "code",
   "execution_count": 229,
   "metadata": {},
   "outputs": [],
   "source": [
    "import csv\n",
    "import numpy as np\n",
    "import pandas as pd\n",
    "import random"
   ]
  },
  {
   "cell_type": "code",
   "execution_count": 39,
   "metadata": {
    "collapsed": true
   },
   "outputs": [],
   "source": [
    "f = open(\"proximityedgestimestamps.csv\",\"r\")"
   ]
  },
  {
   "cell_type": "code",
   "execution_count": 40,
   "metadata": {},
   "outputs": [],
   "source": [
    "t = pd.read_csv(f,header=None,delimiter=\";\",names=[\"Timestamp\",\"Device 1\",\"Device 2\"], dtype=np.int32 )"
   ]
  },
  {
   "cell_type": "code",
   "execution_count": 530,
   "metadata": {
    "collapsed": true
   },
   "outputs": [],
   "source": [
    "f.close()"
   ]
  },
  {
   "cell_type": "code",
   "execution_count": 45,
   "metadata": {},
   "outputs": [
    {
     "data": {
      "text/html": [
       "<div>\n",
       "<style>\n",
       "    .dataframe thead tr:only-child th {\n",
       "        text-align: right;\n",
       "    }\n",
       "\n",
       "    .dataframe thead th {\n",
       "        text-align: left;\n",
       "    }\n",
       "\n",
       "    .dataframe tbody tr th {\n",
       "        vertical-align: top;\n",
       "    }\n",
       "</style>\n",
       "<table border=\"1\" class=\"dataframe\">\n",
       "  <thead>\n",
       "    <tr style=\"text-align: right;\">\n",
       "      <th></th>\n",
       "      <th>Timestamp</th>\n",
       "      <th>Device 1</th>\n",
       "      <th>Device 2</th>\n",
       "    </tr>\n",
       "  </thead>\n",
       "  <tbody>\n",
       "    <tr>\n",
       "      <th>0</th>\n",
       "      <td>21</td>\n",
       "      <td>26</td>\n",
       "      <td>5844</td>\n",
       "    </tr>\n",
       "    <tr>\n",
       "      <th>1</th>\n",
       "      <td>21</td>\n",
       "      <td>26</td>\n",
       "      <td>588</td>\n",
       "    </tr>\n",
       "    <tr>\n",
       "      <th>2</th>\n",
       "      <td>29</td>\n",
       "      <td>27</td>\n",
       "      <td>321</td>\n",
       "    </tr>\n",
       "    <tr>\n",
       "      <th>3</th>\n",
       "      <td>30</td>\n",
       "      <td>32</td>\n",
       "      <td>3</td>\n",
       "    </tr>\n",
       "    <tr>\n",
       "      <th>4</th>\n",
       "      <td>30</td>\n",
       "      <td>32</td>\n",
       "      <td>533</td>\n",
       "    </tr>\n",
       "    <tr>\n",
       "      <th>5</th>\n",
       "      <td>30</td>\n",
       "      <td>32</td>\n",
       "      <td>836</td>\n",
       "    </tr>\n",
       "    <tr>\n",
       "      <th>6</th>\n",
       "      <td>30</td>\n",
       "      <td>32</td>\n",
       "      <td>837</td>\n",
       "    </tr>\n",
       "    <tr>\n",
       "      <th>7</th>\n",
       "      <td>31</td>\n",
       "      <td>31</td>\n",
       "      <td>548</td>\n",
       "    </tr>\n",
       "    <tr>\n",
       "      <th>8</th>\n",
       "      <td>41</td>\n",
       "      <td>25</td>\n",
       "      <td>1172</td>\n",
       "    </tr>\n",
       "    <tr>\n",
       "      <th>9</th>\n",
       "      <td>41</td>\n",
       "      <td>25</td>\n",
       "      <td>572</td>\n",
       "    </tr>\n",
       "  </tbody>\n",
       "</table>\n",
       "</div>"
      ],
      "text/plain": [
       "   Timestamp  Device 1  Device 2\n",
       "0         21        26      5844\n",
       "1         21        26       588\n",
       "2         29        27       321\n",
       "3         30        32         3\n",
       "4         30        32       533\n",
       "5         30        32       836\n",
       "6         30        32       837\n",
       "7         31        31       548\n",
       "8         41        25      1172\n",
       "9         41        25       572"
      ]
     },
     "execution_count": 45,
     "metadata": {},
     "output_type": "execute_result"
    }
   ],
   "source": [
    "t[:10]"
   ]
  },
  {
   "cell_type": "markdown",
   "metadata": {},
   "source": [
    "Preliminary analysis shows that device id's are in the range **1 to 11934** and time is in range **21 to 349811**"
   ]
  },
  {
   "cell_type": "code",
   "execution_count": 46,
   "metadata": {
    "scrolled": false
   },
   "outputs": [
    {
     "data": {
      "text/html": [
       "<div>\n",
       "<style>\n",
       "    .dataframe thead tr:only-child th {\n",
       "        text-align: right;\n",
       "    }\n",
       "\n",
       "    .dataframe thead th {\n",
       "        text-align: left;\n",
       "    }\n",
       "\n",
       "    .dataframe tbody tr th {\n",
       "        vertical-align: top;\n",
       "    }\n",
       "</style>\n",
       "<table border=\"1\" class=\"dataframe\">\n",
       "  <thead>\n",
       "    <tr style=\"text-align: right;\">\n",
       "      <th></th>\n",
       "      <th>Timestamp</th>\n",
       "      <th>Device 1</th>\n",
       "      <th>Device 2</th>\n",
       "    </tr>\n",
       "  </thead>\n",
       "  <tbody>\n",
       "    <tr>\n",
       "      <th>count</th>\n",
       "      <td>272165.000000</td>\n",
       "      <td>272165.000000</td>\n",
       "      <td>272165.000000</td>\n",
       "    </tr>\n",
       "    <tr>\n",
       "      <th>mean</th>\n",
       "      <td>102423.374111</td>\n",
       "      <td>39.241651</td>\n",
       "      <td>836.406088</td>\n",
       "    </tr>\n",
       "    <tr>\n",
       "      <th>std</th>\n",
       "      <td>71762.366982</td>\n",
       "      <td>21.911135</td>\n",
       "      <td>1792.371328</td>\n",
       "    </tr>\n",
       "    <tr>\n",
       "      <th>min</th>\n",
       "      <td>21.000000</td>\n",
       "      <td>1.000000</td>\n",
       "      <td>1.000000</td>\n",
       "    </tr>\n",
       "    <tr>\n",
       "      <th>25%</th>\n",
       "      <td>32441.000000</td>\n",
       "      <td>19.000000</td>\n",
       "      <td>76.000000</td>\n",
       "    </tr>\n",
       "    <tr>\n",
       "      <th>50%</th>\n",
       "      <td>100237.000000</td>\n",
       "      <td>39.000000</td>\n",
       "      <td>547.000000</td>\n",
       "    </tr>\n",
       "    <tr>\n",
       "      <th>75%</th>\n",
       "      <td>179755.000000</td>\n",
       "      <td>60.000000</td>\n",
       "      <td>585.000000</td>\n",
       "    </tr>\n",
       "    <tr>\n",
       "      <th>max</th>\n",
       "      <td>349811.000000</td>\n",
       "      <td>76.000000</td>\n",
       "      <td>11934.000000</td>\n",
       "    </tr>\n",
       "  </tbody>\n",
       "</table>\n",
       "</div>"
      ],
      "text/plain": [
       "           Timestamp       Device 1       Device 2\n",
       "count  272165.000000  272165.000000  272165.000000\n",
       "mean   102423.374111      39.241651     836.406088\n",
       "std     71762.366982      21.911135    1792.371328\n",
       "min        21.000000       1.000000       1.000000\n",
       "25%     32441.000000      19.000000      76.000000\n",
       "50%    100237.000000      39.000000     547.000000\n",
       "75%    179755.000000      60.000000     585.000000\n",
       "max    349811.000000      76.000000   11934.000000"
      ]
     },
     "execution_count": 46,
     "metadata": {},
     "output_type": "execute_result"
    }
   ],
   "source": [
    "t.describe()"
   ]
  },
  {
   "cell_type": "code",
   "execution_count": 92,
   "metadata": {
    "collapsed": true
   },
   "outputs": [],
   "source": [
    "device_set = set()"
   ]
  },
  {
   "cell_type": "code",
   "execution_count": 93,
   "metadata": {},
   "outputs": [],
   "source": [
    "for idx,row in t.iterrows():\n",
    "    device_set.add(row[1])\n",
    "    device_set.add(row[2])"
   ]
  },
  {
   "cell_type": "code",
   "execution_count": 94,
   "metadata": {},
   "outputs": [
    {
     "data": {
      "text/plain": [
       "1723"
      ]
     },
     "execution_count": 94,
     "metadata": {},
     "output_type": "execute_result"
    }
   ],
   "source": [
    "len(device_set)"
   ]
  },
  {
   "cell_type": "markdown",
   "metadata": {},
   "source": [
    "So we get 1723 device IDs"
   ]
  },
  {
   "cell_type": "code",
   "execution_count": 95,
   "metadata": {
    "collapsed": true
   },
   "outputs": [],
   "source": [
    "device_list = list(device_set)"
   ]
  },
  {
   "cell_type": "markdown",
   "metadata": {},
   "source": [
    "## Part 1"
   ]
  },
  {
   "cell_type": "code",
   "execution_count": 216,
   "metadata": {
    "collapsed": true
   },
   "outputs": [],
   "source": [
    "num_received = 1"
   ]
  },
  {
   "cell_type": "code",
   "execution_count": 217,
   "metadata": {
    "collapsed": true
   },
   "outputs": [],
   "source": [
    "K = 45"
   ]
  },
  {
   "cell_type": "code",
   "execution_count": 218,
   "metadata": {
    "collapsed": true
   },
   "outputs": [],
   "source": [
    "num_total_devices = len(device_list)"
   ]
  },
  {
   "cell_type": "code",
   "execution_count": 219,
   "metadata": {
    "collapsed": true
   },
   "outputs": [],
   "source": [
    "percent_devices_received = num_received / num_total_devices"
   ]
  },
  {
   "cell_type": "code",
   "execution_count": 220,
   "metadata": {
    "collapsed": true
   },
   "outputs": [],
   "source": [
    "end_timestep = 0"
   ]
  },
  {
   "cell_type": "code",
   "execution_count": 221,
   "metadata": {
    "collapsed": true
   },
   "outputs": [],
   "source": [
    "class Device_1:\n",
    "    def __init__(self,id,has_chunk,num_forwards_initial):\n",
    "        self.idx = id\n",
    "        self.has_chunk = has_chunk\n",
    "        self.num_forwards = num_forwards_initial\n",
    "#       self.transmitted_to = set()\n",
    "    def try_forward(self,target_device):\n",
    "        global num_received\n",
    "        global percent_devices_received\n",
    "        if(self.has_chunk and (not target_device.has_chunk) and (self.num_forwards>0)):\n",
    "            self.num_forwards = self.num_forwards - 1\n",
    "            target_device.has_chunk = True\n",
    "            num_received = num_received + 1\n",
    "            percent_devices_recieved = num_received / num_total_devices\n",
    "    def __str__(self):\n",
    "        s = \"\"\n",
    "        s = s + \"Device with ID \" + str(self.idx)\n",
    "        if self.has_chunk:s = s + \". I have the chunk and have \"+ str(self.num_forwards) + \" forwards remaining\"\n",
    "        else:s = s + \". I don't have the chunk and have \"+ str(self.num_forwards)+\" forwards remaining\"  \n",
    "        return s\n"
   ]
  },
  {
   "cell_type": "code",
   "execution_count": 222,
   "metadata": {
    "collapsed": true
   },
   "outputs": [],
   "source": [
    "dict_devices = {}"
   ]
  },
  {
   "cell_type": "code",
   "execution_count": 223,
   "metadata": {},
   "outputs": [],
   "source": [
    "for dev in device_list:\n",
    "    dict_devices[dev] = Device_1(dev,False,K)"
   ]
  },
  {
   "cell_type": "code",
   "execution_count": 224,
   "metadata": {
    "collapsed": true
   },
   "outputs": [],
   "source": [
    "dict_devices[26].has_chunk = True"
   ]
  },
  {
   "cell_type": "code",
   "execution_count": 225,
   "metadata": {},
   "outputs": [
    {
     "name": "stdout",
     "output_type": "stream",
     "text": [
      "Device with ID 577. I don't have the chunk and have 45 forwards remaining\n"
     ]
    }
   ],
   "source": [
    "print(dict_devices[577])"
   ]
  },
  {
   "cell_type": "code",
   "execution_count": 226,
   "metadata": {},
   "outputs": [],
   "source": [
    "for ii, row in t.iterrows():\n",
    "    timestep = row[0]\n",
    "    device_1 = dict_devices[row[1]]\n",
    "    device_2 = dict_devices[row[2]]\n",
    "    device_1.try_forward(device_2)\n",
    "    device_2.try_forward(device_1)\n",
    "    if percent_devices_received > 0.90:\n",
    "        end_timestep = timestep\n",
    "        break"
   ]
  },
  {
   "cell_type": "code",
   "execution_count": 227,
   "metadata": {},
   "outputs": [
    {
     "data": {
      "text/plain": [
       "0"
      ]
     },
     "execution_count": 227,
     "metadata": {},
     "output_type": "execute_result"
    }
   ],
   "source": [
    "end_timestep"
   ]
  },
  {
   "cell_type": "code",
   "execution_count": 228,
   "metadata": {
    "scrolled": true
   },
   "outputs": [
    {
     "data": {
      "text/plain": [
       "1521"
      ]
     },
     "execution_count": 228,
     "metadata": {},
     "output_type": "execute_result"
    }
   ],
   "source": [
    "num_received"
   ]
  },
  {
   "cell_type": "code",
   "execution_count": null,
   "metadata": {
    "collapsed": true
   },
   "outputs": [],
   "source": []
  },
  {
   "cell_type": "code",
   "execution_count": null,
   "metadata": {
    "collapsed": true
   },
   "outputs": [],
   "source": []
  },
  {
   "cell_type": "code",
   "execution_count": null,
   "metadata": {
    "collapsed": true
   },
   "outputs": [],
   "source": []
  },
  {
   "cell_type": "code",
   "execution_count": null,
   "metadata": {
    "collapsed": true
   },
   "outputs": [],
   "source": []
  },
  {
   "cell_type": "markdown",
   "metadata": {},
   "source": [
    "## Part 2"
   ]
  },
  {
   "cell_type": "code",
   "execution_count": 506,
   "metadata": {
    "collapsed": true
   },
   "outputs": [],
   "source": [
    "num_received = 1\n",
    "K = 50\n",
    "num_total_devices = len(device_list)\n",
    "percent_devices_received = num_received / num_total_devices\n",
    "end_timestep = 0"
   ]
  },
  {
   "cell_type": "code",
   "execution_count": 507,
   "metadata": {
    "collapsed": true
   },
   "outputs": [],
   "source": [
    "super_node_percentile = 5 # from top\n",
    "least_mobile_percentile = 70 # from bottom"
   ]
  },
  {
   "cell_type": "code",
   "execution_count": 508,
   "metadata": {
    "collapsed": true
   },
   "outputs": [],
   "source": [
    "super_node_prob = 0.5\n",
    "normal_node_prob = 1 - super_node_prob # arbitrary assumption"
   ]
  },
  {
   "cell_type": "code",
   "execution_count": 509,
   "metadata": {
    "collapsed": true
   },
   "outputs": [],
   "source": [
    "class Device_2:\n",
    "    def __init__(self,idx,degree,has_chunk,num_forwards_initial,is_super_node,is_least_mobile_node,\n",
    "                super_transmit_prob,normal_transmit_prob,least_transmit_prob=1):\n",
    "        self.idx = idx\n",
    "        self.degree = degree\n",
    "        self.num_transmissions_done = 0\n",
    "        self.has_chunk = has_chunk\n",
    "        self.num_forwards_remaining = num_forwards_initial\n",
    "        self.is_super_node = is_super_node\n",
    "        self.is_least_mobile_node = is_least_mobile_node\n",
    "        self.super_transmit_prob = super_transmit_prob\n",
    "        self.normal_transmit_prob = normal_transmit_prob\n",
    "        self.least_transmit_prob = least_transmit_prob\n",
    "        assert not (is_least_mobile_node and is_super_node)\n",
    "#       self.transmitted_to = set()\n",
    "    def try_forward(self,target_device):\n",
    "        if(self.has_chunk and (not target_device.has_chunk) and (self.num_forwards_remaining>0)):\n",
    "            if target_device.is_least_mobile_node:\n",
    "                if random.random() < self.least_transmit_prob:\n",
    "                    self.do_forward(target_device)\n",
    "            elif target_device.is_super_node:\n",
    "                if random.random() < self.super_transmit_prob:\n",
    "                    self.do_forward(target_device)\n",
    "            else:\n",
    "                if random.random() < self.normal_transmit_prob:\n",
    "                    self.do_forward(target_device)\n",
    "    def do_forward(self,target_device):\n",
    "        global num_received\n",
    "        global percent_devices_received\n",
    "        self.num_forwards_remaining = self.num_forwards_remaining - 1\n",
    "        target_device.has_chunk = True\n",
    "        num_received = num_received + 1\n",
    "        self.num_transmissions_done = self.num_transmissions_done + 1\n",
    "        percent_devices_received = num_received / num_total_devices\n",
    "\n",
    "    def __str__(self):\n",
    "        s = \"\"\n",
    "        s = s + \"I am device with ID \" + str(self.idx) + \" and degree \"+ str(self.degree)+\" \"\n",
    "        if self.is_super_node: s = s + \" (am super node) \"\n",
    "        if self.is_least_mobile_node: s = s + \" (am least mobile node) \"\n",
    "        if self.has_chunk:s = s + \". I have the chunk and have \"+ str(self.num_forwards_remaining) + \" forwards remaining.\"\n",
    "        else:s = s + \". I don't have the chunk and have \"+ str(self.num_forwards_remaining)+\" forwards remaining.\"  \n",
    "        return s"
   ]
  },
  {
   "cell_type": "code",
   "execution_count": 510,
   "metadata": {
    "collapsed": true
   },
   "outputs": [],
   "source": [
    "degree_dict = {}\n",
    "for i in device_list:\n",
    "    degree_dict[i] = 0"
   ]
  },
  {
   "cell_type": "code",
   "execution_count": 511,
   "metadata": {
    "collapsed": true
   },
   "outputs": [],
   "source": [
    "for idx,row in t.iterrows():\n",
    "    degree_dict[row[1]] += 1\n",
    "    degree_dict[row[2]] += 1"
   ]
  },
  {
   "cell_type": "code",
   "execution_count": 512,
   "metadata": {
    "collapsed": true
   },
   "outputs": [],
   "source": [
    "degree_list = list(degree_dict.values())"
   ]
  },
  {
   "cell_type": "code",
   "execution_count": 513,
   "metadata": {
    "scrolled": true
   },
   "outputs": [],
   "source": [
    "super_node_cutoff = np.percentile(degree_list,100-super_node_percentile)\n",
    "least_mobile_cutoff = np.percentile(degree_list,least_mobile_percentile)"
   ]
  },
  {
   "cell_type": "code",
   "execution_count": 514,
   "metadata": {},
   "outputs": [
    {
     "data": {
      "text/plain": [
       "2165.6999999999871"
      ]
     },
     "execution_count": 514,
     "metadata": {},
     "output_type": "execute_result"
    }
   ],
   "source": [
    "super_node_cutoff"
   ]
  },
  {
   "cell_type": "code",
   "execution_count": 515,
   "metadata": {},
   "outputs": [
    {
     "data": {
      "text/plain": [
       "13.0"
      ]
     },
     "execution_count": 515,
     "metadata": {},
     "output_type": "execute_result"
    }
   ],
   "source": [
    "least_mobile_cutoff"
   ]
  },
  {
   "cell_type": "code",
   "execution_count": 516,
   "metadata": {
    "collapsed": true
   },
   "outputs": [],
   "source": [
    "dict_devices = {}"
   ]
  },
  {
   "cell_type": "code",
   "execution_count": 517,
   "metadata": {
    "collapsed": true
   },
   "outputs": [],
   "source": [
    "for dev in device_list:\n",
    "    if(degree_dict[dev]<least_mobile_cutoff):\n",
    "        dict_devices[dev] = Device_2(dev,degree_dict[dev],False,K,False,True,super_node_prob,normal_node_prob)\n",
    "    elif(degree_dict[dev]>super_node_cutoff):\n",
    "        dict_devices[dev] = Device_2(dev,degree_dict[dev],False,K,True,False,super_node_prob,normal_node_prob)\n",
    "    else:\n",
    "        dict_devices[dev] = Device_2(dev,degree_dict[dev],False,K,False,False,super_node_prob,normal_node_prob)"
   ]
  },
  {
   "cell_type": "code",
   "execution_count": 518,
   "metadata": {
    "collapsed": true
   },
   "outputs": [],
   "source": [
    "dict_devices[26].has_chunk = True"
   ]
  },
  {
   "cell_type": "code",
   "execution_count": 519,
   "metadata": {},
   "outputs": [
    {
     "name": "stdout",
     "output_type": "stream",
     "text": [
      "I am device with ID 577 and degree 469 . I don't have the chunk and have 50 forwards remaining.\n"
     ]
    }
   ],
   "source": [
    "print(dict_devices[577])"
   ]
  },
  {
   "cell_type": "code",
   "execution_count": 520,
   "metadata": {},
   "outputs": [],
   "source": [
    "for ii, row in t.iterrows():\n",
    "    timestep = row[0]\n",
    "    device_1 = dict_devices[row[1]]\n",
    "    device_2 = dict_devices[row[2]]\n",
    "    device_1.try_forward(device_2)\n",
    "    device_2.try_forward(device_1)\n",
    "    if percent_devices_received > 0.90:\n",
    "        end_timestep = timestep\n",
    "        break"
   ]
  },
  {
   "cell_type": "code",
   "execution_count": 521,
   "metadata": {},
   "outputs": [
    {
     "data": {
      "text/plain": [
       "260712"
      ]
     },
     "execution_count": 521,
     "metadata": {},
     "output_type": "execute_result"
    }
   ],
   "source": [
    "end_timestep"
   ]
  },
  {
   "cell_type": "code",
   "execution_count": 522,
   "metadata": {},
   "outputs": [
    {
     "data": {
      "text/plain": [
       "1551"
      ]
     },
     "execution_count": 522,
     "metadata": {},
     "output_type": "execute_result"
    }
   ],
   "source": [
    "num_received"
   ]
  },
  {
   "cell_type": "code",
   "execution_count": null,
   "metadata": {
    "collapsed": true
   },
   "outputs": [],
   "source": []
  },
  {
   "cell_type": "code",
   "execution_count": null,
   "metadata": {
    "collapsed": true
   },
   "outputs": [],
   "source": []
  },
  {
   "cell_type": "code",
   "execution_count": null,
   "metadata": {
    "collapsed": true
   },
   "outputs": [],
   "source": []
  },
  {
   "cell_type": "code",
   "execution_count": null,
   "metadata": {
    "collapsed": true
   },
   "outputs": [],
   "source": []
  },
  {
   "cell_type": "markdown",
   "metadata": {},
   "source": [
    "# Part 3"
   ]
  },
  {
   "cell_type": "code",
   "execution_count": null,
   "metadata": {
    "collapsed": true
   },
   "outputs": [],
   "source": []
  },
  {
   "cell_type": "code",
   "execution_count": 554,
   "metadata": {
    "collapsed": true
   },
   "outputs": [],
   "source": [
    "num_received = 1\n",
    "K = 50\n",
    "num_total_devices = len(device_list)\n",
    "percent_devices_received = num_received / num_total_devices\n",
    "end_timestep = 0"
   ]
  },
  {
   "cell_type": "code",
   "execution_count": 555,
   "metadata": {
    "collapsed": true
   },
   "outputs": [],
   "source": [
    "inter_community_transmit_probability = 0.8\n",
    "intra_community_transmit_probability = 1 - inter_community_transmit_probability"
   ]
  },
  {
   "cell_type": "code",
   "execution_count": 556,
   "metadata": {
    "collapsed": true
   },
   "outputs": [],
   "source": [
    "class Device_3:\n",
    "    def __init__(self,idx,has_chunk,num_forwards_initial,community,\n",
    "                 intra_comm_transmit_prob,inter_comm_transmit_prob):\n",
    "        self.idx = idx\n",
    "        self.num_transmissions_done = 0\n",
    "        self.has_chunk = has_chunk\n",
    "        self.num_forwards_remaining = num_forwards_initial\n",
    "        self.community = community\n",
    "        self.intra_comm_transmit_prob = intra_comm_transmit_prob\n",
    "        self.inter_comm_transmit_prob = inter_comm_transmit_prob\n",
    "    def try_forward(self,target_device):\n",
    "        if(self.has_chunk and (not target_device.has_chunk) and (self.num_forwards_remaining>0)):\n",
    "            if target_device.community == self.community:\n",
    "                if random.random() < self.intra_comm_transmit_prob:\n",
    "                    self.do_forward(target_device)\n",
    "            else:\n",
    "                if random.random() < self.inter_comm_transmit_prob:\n",
    "                    self.do_forward(target_device)\n",
    "    def do_forward(self,target_device):\n",
    "        global num_received\n",
    "        global percent_devices_received\n",
    "        self.num_forwards_remaining = self.num_forwards_remaining - 1\n",
    "        target_device.has_chunk = True\n",
    "        num_received = num_received + 1\n",
    "        self.num_transmissions_done = self.num_transmissions_done + 1\n",
    "        percent_devices_received = num_received / num_total_devices\n",
    "\n",
    "    def __str__(self):\n",
    "        s = \"\"\n",
    "        s = s + \"I am device with ID \" + str(self.idx)\n",
    "        if self.has_chunk:s = s + \". I have the chunk and have \"+ str(self.num_forwards_remaining) + \" forwards remaining.\"\n",
    "        else:s = s + \". I don't have the chunk and have \"+ str(self.num_forwards_remaining)+\" forwards remaining.\"  \n",
    "        return s"
   ]
  },
  {
   "cell_type": "code",
   "execution_count": 557,
   "metadata": {
    "collapsed": true
   },
   "outputs": [],
   "source": [
    "comm_file = open(\"modularityclass.csv\",\"r\")"
   ]
  },
  {
   "cell_type": "code",
   "execution_count": 558,
   "metadata": {},
   "outputs": [],
   "source": [
    "comm_table = pd.read_csv(comm_file,header=None,\n",
    "                         delimiter=\";\",names=[\"Device ID\",\"Community\"], dtype=np.int32)"
   ]
  },
  {
   "cell_type": "code",
   "execution_count": 559,
   "metadata": {
    "collapsed": true
   },
   "outputs": [],
   "source": [
    "comm_file.close()"
   ]
  },
  {
   "cell_type": "code",
   "execution_count": 560,
   "metadata": {
    "collapsed": true
   },
   "outputs": [],
   "source": [
    "device_comm_dict = {}"
   ]
  },
  {
   "cell_type": "code",
   "execution_count": 561,
   "metadata": {},
   "outputs": [],
   "source": [
    "for ii, row in comm_table.iterrows():\n",
    "    device_comm_dict[row[0]] = row[1]"
   ]
  },
  {
   "cell_type": "code",
   "execution_count": 563,
   "metadata": {},
   "outputs": [
    {
     "name": "stdout",
     "output_type": "stream",
     "text": [
      "I am device with ID 577. I don't have the chunk and have 50 forwards remaining.\n"
     ]
    }
   ],
   "source": [
    "dict_devices = {}\n",
    "for dev in device_list:\n",
    "    dict_devices[dev] = Device_3(dev,False,K,device_comm_dict[dev],\n",
    "                                 intra_community_transmit_probability,\n",
    "                                 inter_community_transmit_probability)\n",
    "dict_devices[26].has_chunk = True\n",
    "print(dict_devices[577])"
   ]
  },
  {
   "cell_type": "code",
   "execution_count": 565,
   "metadata": {},
   "outputs": [
    {
     "name": "stdout",
     "output_type": "stream",
     "text": [
      "Timestamp      21\n",
      "Device 1       26\n",
      "Device 2     5844\n",
      "Name: 0, dtype: int32\n"
     ]
    }
   ],
   "source": [
    "for ii, row in t.iterrows():\n",
    "    timestep = row[0]\n",
    "    print(row)\n",
    "    device_1 = dict_devices[row[1]]\n",
    "    device_2 = dict_devices[row[2]]\n",
    "    device_1.try_forward(device_2)\n",
    "    device_2.try_forward(device_1)\n",
    "    if percent_devices_received > 0.90:\n",
    "        end_timestep = timestep\n",
    "        break"
   ]
  },
  {
   "cell_type": "code",
   "execution_count": 566,
   "metadata": {},
   "outputs": [
    {
     "data": {
      "text/plain": [
       "0.0005803830528148578"
      ]
     },
     "execution_count": 566,
     "metadata": {},
     "output_type": "execute_result"
    }
   ],
   "source": [
    "percent_devices_received"
   ]
  },
  {
   "cell_type": "code",
   "execution_count": null,
   "metadata": {
    "collapsed": true
   },
   "outputs": [],
   "source": []
  }
 ],
 "metadata": {
  "kernelspec": {
   "display_name": "Python 3",
   "language": "python",
   "name": "python3"
  },
  "language_info": {
   "codemirror_mode": {
    "name": "ipython",
    "version": 3
   },
   "file_extension": ".py",
   "mimetype": "text/x-python",
   "name": "python",
   "nbconvert_exporter": "python",
   "pygments_lexer": "ipython3",
   "version": "3.6.3rc1"
  }
 },
 "nbformat": 4,
 "nbformat_minor": 2
}
