{
 "cells": [
  {
   "cell_type": "code",
   "execution_count": 1,
   "metadata": {
    "collapsed": true
   },
   "outputs": [],
   "source": [
    "import csv\n",
    "import numpy as np\n",
    "import pandas as pd\n",
    "import random"
   ]
  },
  {
   "cell_type": "code",
   "execution_count": 2,
   "metadata": {
    "collapsed": true
   },
   "outputs": [],
   "source": [
    "import matplotlib.pyplot as plt\n",
    "import seaborn as sns\n",
    "%matplotlib inline"
   ]
  },
  {
   "cell_type": "code",
   "execution_count": 3,
   "metadata": {
    "collapsed": true
   },
   "outputs": [],
   "source": [
    "import threading"
   ]
  },
  {
   "cell_type": "code",
   "execution_count": 4,
   "metadata": {
    "collapsed": true
   },
   "outputs": [],
   "source": [
    "f = open(\"proximityedgestimestamps.csv\",\"r\")"
   ]
  },
  {
   "cell_type": "code",
   "execution_count": 5,
   "metadata": {
    "collapsed": true
   },
   "outputs": [],
   "source": [
    "t = pd.read_csv(f,header=None,delimiter=\";\",names=[\"Timestamp\",\"Device 1\",\"Device 2\"], dtype=np.int32 )"
   ]
  },
  {
   "cell_type": "code",
   "execution_count": 27,
   "metadata": {},
   "outputs": [],
   "source": [
    "nu_data =  t.as_matrix()"
   ]
  },
  {
   "cell_type": "code",
   "execution_count": 28,
   "metadata": {
    "scrolled": true
   },
   "outputs": [
    {
     "data": {
      "text/plain": [
       "(272165, 3)"
      ]
     },
     "execution_count": 28,
     "metadata": {},
     "output_type": "execute_result"
    }
   ],
   "source": [
    "nu_data.shape"
   ]
  },
  {
   "cell_type": "code",
   "execution_count": 6,
   "metadata": {
    "collapsed": true
   },
   "outputs": [],
   "source": [
    "f.close()"
   ]
  },
  {
   "cell_type": "code",
   "execution_count": 7,
   "metadata": {},
   "outputs": [
    {
     "data": {
      "text/html": [
       "<div>\n",
       "<style>\n",
       "    .dataframe thead tr:only-child th {\n",
       "        text-align: right;\n",
       "    }\n",
       "\n",
       "    .dataframe thead th {\n",
       "        text-align: left;\n",
       "    }\n",
       "\n",
       "    .dataframe tbody tr th {\n",
       "        vertical-align: top;\n",
       "    }\n",
       "</style>\n",
       "<table border=\"1\" class=\"dataframe\">\n",
       "  <thead>\n",
       "    <tr style=\"text-align: right;\">\n",
       "      <th></th>\n",
       "      <th>Timestamp</th>\n",
       "      <th>Device 1</th>\n",
       "      <th>Device 2</th>\n",
       "    </tr>\n",
       "  </thead>\n",
       "  <tbody>\n",
       "    <tr>\n",
       "      <th>0</th>\n",
       "      <td>21</td>\n",
       "      <td>26</td>\n",
       "      <td>5844</td>\n",
       "    </tr>\n",
       "    <tr>\n",
       "      <th>1</th>\n",
       "      <td>21</td>\n",
       "      <td>26</td>\n",
       "      <td>588</td>\n",
       "    </tr>\n",
       "    <tr>\n",
       "      <th>2</th>\n",
       "      <td>29</td>\n",
       "      <td>27</td>\n",
       "      <td>321</td>\n",
       "    </tr>\n",
       "    <tr>\n",
       "      <th>3</th>\n",
       "      <td>30</td>\n",
       "      <td>32</td>\n",
       "      <td>3</td>\n",
       "    </tr>\n",
       "    <tr>\n",
       "      <th>4</th>\n",
       "      <td>30</td>\n",
       "      <td>32</td>\n",
       "      <td>533</td>\n",
       "    </tr>\n",
       "    <tr>\n",
       "      <th>5</th>\n",
       "      <td>30</td>\n",
       "      <td>32</td>\n",
       "      <td>836</td>\n",
       "    </tr>\n",
       "    <tr>\n",
       "      <th>6</th>\n",
       "      <td>30</td>\n",
       "      <td>32</td>\n",
       "      <td>837</td>\n",
       "    </tr>\n",
       "    <tr>\n",
       "      <th>7</th>\n",
       "      <td>31</td>\n",
       "      <td>31</td>\n",
       "      <td>548</td>\n",
       "    </tr>\n",
       "    <tr>\n",
       "      <th>8</th>\n",
       "      <td>41</td>\n",
       "      <td>25</td>\n",
       "      <td>1172</td>\n",
       "    </tr>\n",
       "    <tr>\n",
       "      <th>9</th>\n",
       "      <td>41</td>\n",
       "      <td>25</td>\n",
       "      <td>572</td>\n",
       "    </tr>\n",
       "  </tbody>\n",
       "</table>\n",
       "</div>"
      ],
      "text/plain": [
       "   Timestamp  Device 1  Device 2\n",
       "0         21        26      5844\n",
       "1         21        26       588\n",
       "2         29        27       321\n",
       "3         30        32         3\n",
       "4         30        32       533\n",
       "5         30        32       836\n",
       "6         30        32       837\n",
       "7         31        31       548\n",
       "8         41        25      1172\n",
       "9         41        25       572"
      ]
     },
     "execution_count": 7,
     "metadata": {},
     "output_type": "execute_result"
    }
   ],
   "source": [
    "t[:10]"
   ]
  },
  {
   "cell_type": "markdown",
   "metadata": {},
   "source": [
    "Preliminary analysis shows that device id's are in the range **1 to 11934** and time is in range **21 to 349811**"
   ]
  },
  {
   "cell_type": "code",
   "execution_count": 8,
   "metadata": {
    "scrolled": false
   },
   "outputs": [
    {
     "data": {
      "text/html": [
       "<div>\n",
       "<style>\n",
       "    .dataframe thead tr:only-child th {\n",
       "        text-align: right;\n",
       "    }\n",
       "\n",
       "    .dataframe thead th {\n",
       "        text-align: left;\n",
       "    }\n",
       "\n",
       "    .dataframe tbody tr th {\n",
       "        vertical-align: top;\n",
       "    }\n",
       "</style>\n",
       "<table border=\"1\" class=\"dataframe\">\n",
       "  <thead>\n",
       "    <tr style=\"text-align: right;\">\n",
       "      <th></th>\n",
       "      <th>Timestamp</th>\n",
       "      <th>Device 1</th>\n",
       "      <th>Device 2</th>\n",
       "    </tr>\n",
       "  </thead>\n",
       "  <tbody>\n",
       "    <tr>\n",
       "      <th>count</th>\n",
       "      <td>272165.000000</td>\n",
       "      <td>272165.000000</td>\n",
       "      <td>272165.000000</td>\n",
       "    </tr>\n",
       "    <tr>\n",
       "      <th>mean</th>\n",
       "      <td>102423.374111</td>\n",
       "      <td>39.241651</td>\n",
       "      <td>836.406088</td>\n",
       "    </tr>\n",
       "    <tr>\n",
       "      <th>std</th>\n",
       "      <td>71762.366982</td>\n",
       "      <td>21.911135</td>\n",
       "      <td>1792.371328</td>\n",
       "    </tr>\n",
       "    <tr>\n",
       "      <th>min</th>\n",
       "      <td>21.000000</td>\n",
       "      <td>1.000000</td>\n",
       "      <td>1.000000</td>\n",
       "    </tr>\n",
       "    <tr>\n",
       "      <th>25%</th>\n",
       "      <td>32441.000000</td>\n",
       "      <td>19.000000</td>\n",
       "      <td>76.000000</td>\n",
       "    </tr>\n",
       "    <tr>\n",
       "      <th>50%</th>\n",
       "      <td>100237.000000</td>\n",
       "      <td>39.000000</td>\n",
       "      <td>547.000000</td>\n",
       "    </tr>\n",
       "    <tr>\n",
       "      <th>75%</th>\n",
       "      <td>179755.000000</td>\n",
       "      <td>60.000000</td>\n",
       "      <td>585.000000</td>\n",
       "    </tr>\n",
       "    <tr>\n",
       "      <th>max</th>\n",
       "      <td>349811.000000</td>\n",
       "      <td>76.000000</td>\n",
       "      <td>11934.000000</td>\n",
       "    </tr>\n",
       "  </tbody>\n",
       "</table>\n",
       "</div>"
      ],
      "text/plain": [
       "           Timestamp       Device 1       Device 2\n",
       "count  272165.000000  272165.000000  272165.000000\n",
       "mean   102423.374111      39.241651     836.406088\n",
       "std     71762.366982      21.911135    1792.371328\n",
       "min        21.000000       1.000000       1.000000\n",
       "25%     32441.000000      19.000000      76.000000\n",
       "50%    100237.000000      39.000000     547.000000\n",
       "75%    179755.000000      60.000000     585.000000\n",
       "max    349811.000000      76.000000   11934.000000"
      ]
     },
     "execution_count": 8,
     "metadata": {},
     "output_type": "execute_result"
    }
   ],
   "source": [
    "t.describe()"
   ]
  },
  {
   "cell_type": "code",
   "execution_count": 9,
   "metadata": {
    "collapsed": true
   },
   "outputs": [],
   "source": [
    "device_set = set()"
   ]
  },
  {
   "cell_type": "code",
   "execution_count": 10,
   "metadata": {
    "collapsed": true
   },
   "outputs": [],
   "source": [
    "for idx,row in t.iterrows():\n",
    "    device_set.add(row[1])\n",
    "    device_set.add(row[2])"
   ]
  },
  {
   "cell_type": "code",
   "execution_count": 11,
   "metadata": {},
   "outputs": [
    {
     "data": {
      "text/plain": [
       "1723"
      ]
     },
     "execution_count": 11,
     "metadata": {},
     "output_type": "execute_result"
    }
   ],
   "source": [
    "len(device_set)"
   ]
  },
  {
   "cell_type": "markdown",
   "metadata": {},
   "source": [
    "So we get 1723 device IDs"
   ]
  },
  {
   "cell_type": "code",
   "execution_count": 12,
   "metadata": {
    "collapsed": true
   },
   "outputs": [],
   "source": [
    "device_list = list(device_set)"
   ]
  },
  {
   "cell_type": "code",
   "execution_count": 13,
   "metadata": {
    "collapsed": true
   },
   "outputs": [],
   "source": [
    "device_list.sort()"
   ]
  },
  {
   "cell_type": "markdown",
   "metadata": {},
   "source": [
    "## Part 1"
   ]
  },
  {
   "cell_type": "code",
   "execution_count": 44,
   "metadata": {
    "collapsed": true
   },
   "outputs": [],
   "source": [
    "class Device_1:\n",
    "    def __init__(self,id,has_chunk,num_forwards_initial):\n",
    "        self.idx = id\n",
    "        self.has_chunk = has_chunk\n",
    "        self.num_forwards = num_forwards_initial\n",
    "#       self.transmitted_to = set()\n",
    "    def try_forward(self,target_device):\n",
    "        if(self.has_chunk and (not target_device.has_chunk) and (self.num_forwards>0)):\n",
    "            self.num_forwards = self.num_forwards - 1\n",
    "            target_device.has_chunk = True\n",
    "            return 1\n",
    "        return 0\n",
    "    def __str__(self):\n",
    "        s = \"\"\n",
    "        s = s + \"Device with ID \" + str(self.idx)\n",
    "        if self.has_chunk:s = s + \". I have the chunk and have \"+ str(self.num_forwards) + \" forwards remaining\"\n",
    "        else:s = s + \". I don't have the chunk and have \"+ str(self.num_forwards)+\" forwards remaining\"  \n",
    "        return s\n"
   ]
  },
  {
   "cell_type": "code",
   "execution_count": 100,
   "metadata": {},
   "outputs": [],
   "source": [
    "def do_exp1(K,list_to_append_to,thresh=0.90,device_list=device_list,data=nu_data,start_node=26):\n",
    "    num_received = 1\n",
    "    num_total_devices = len(device_list)\n",
    "    percent_devices_received = num_received / num_total_devices\n",
    "    end_timestep = 0\n",
    "    dict_devices = {}\n",
    "    for dev in device_list:\n",
    "        dict_devices[dev] = Device_1(dev,False,K)\n",
    "    dict_devices[start_node].has_chunk = True\n",
    "    reached_thresh = False\n",
    "    for row in nu_data:\n",
    "        timestep = row[0]\n",
    "        device_1 = dict_devices[row[1]]\n",
    "        device_2 = dict_devices[row[2]]\n",
    "        num_received += device_1.try_forward(device_2)\n",
    "        num_received += device_2.try_forward(device_1)\n",
    "        percent_devices_received = num_received / num_total_devices\n",
    "        if percent_devices_received > thresh:\n",
    "            end_timestep = timestep\n",
    "            reached_thresh = True\n",
    "            break\n",
    "    list_to_append_to.append( (K,reached_thresh,num_received,end_timestep))"
   ]
  },
  {
   "cell_type": "code",
   "execution_count": 101,
   "metadata": {
    "collapsed": true
   },
   "outputs": [],
   "source": [
    "import time"
   ]
  },
  {
   "cell_type": "code",
   "execution_count": 83,
   "metadata": {
    "scrolled": true
   },
   "outputs": [
    {
     "name": "stdout",
     "output_type": "stream",
     "text": [
      "24.232991218566895\n"
     ]
    }
   ],
   "source": [
    "start = time.time()\n",
    "thl = []\n",
    "list_of_results = []\n",
    "for K in range(1,91):\n",
    "    nt = threading.Thread(target=do_exp1,args=(K,list_of_results))\n",
    "    thl.append(nt)\n",
    "    nt.start()\n",
    "for ele in thl:\n",
    "    ele.join()\n",
    "print(time.time() - start)"
   ]
  },
  {
   "cell_type": "code",
   "execution_count": 84,
   "metadata": {
    "collapsed": true
   },
   "outputs": [],
   "source": [
    "list_of_results.sort(key=lambda x: x[0])"
   ]
  },
  {
   "cell_type": "code",
   "execution_count": 86,
   "metadata": {
    "collapsed": true
   },
   "outputs": [],
   "source": [
    "results_not_reached_thresh = []\n",
    "results_reached_thresh = []\n",
    "for res in list_of_results:\n",
    "    if not res[1]:\n",
    "        results_not_reached_thresh.append([res[0],res[2]])\n",
    "    else:\n",
    "        results_reached_thresh.append([res[0],res[3]])"
   ]
  },
  {
   "cell_type": "code",
   "execution_count": 87,
   "metadata": {
    "collapsed": true
   },
   "outputs": [],
   "source": [
    "n_df = pd.DataFrame(results_not_reached_thresh,columns=[\"K\",\"Number_Received\"])\n",
    "y_df = pd.DataFrame(results_reached_thresh,columns=[\"K\",\"Time_Taken\"])"
   ]
  },
  {
   "cell_type": "code",
   "execution_count": 88,
   "metadata": {},
   "outputs": [
    {
     "data": {
      "text/plain": [
       "<seaborn.axisgrid.FacetGrid at 0x1505be913c8>"
      ]
     },
     "execution_count": 88,
     "metadata": {},
     "output_type": "execute_result"
    },
    {
     "data": {
      "image/png": "[encoded data removed]",
      "text/plain": [
       "<matplotlib.figure.Figure at 0x1505be914a8>"
      ]
     },
     "metadata": {},
     "output_type": "display_data"
    }
   ],
   "source": [
    "sns.lmplot(x=\"K\",y=\"Number_Received\",data=n_df,fit_reg=False)"
   ]
  },
  {
   "cell_type": "code",
   "execution_count": 89,
   "metadata": {},
   "outputs": [
    {
     "data": {
      "text/plain": [
       "<seaborn.axisgrid.FacetGrid at 0x1505bd9f7b8>"
      ]
     },
     "execution_count": 89,
     "metadata": {},
     "output_type": "execute_result"
    },
    {
     "data": {
      "image/png": "[encoded data removed]",
      "text/plain": [
       "<matplotlib.figure.Figure at 0x1505e4a0860>"
      ]
     },
     "metadata": {},
     "output_type": "display_data"
    }
   ],
   "source": [
    "sns.lmplot(x=\"K\",y=\"Time_Taken\",data=y_df,fit_reg=False)"
   ]
  },
  {
   "cell_type": "markdown",
   "metadata": {},
   "source": [
    "**(a)** These two plots represent what happens to the _distribution of chunks_ with changing K values. We see that from **K = 1 to K = 48 the chunks don't reach** the necessary 90% of nodes and we plot the number of nodes that have received the chunk at the end. For **K = 50 to K = 90** (and beyond) the chunks do reach 90% of the nodes and we plot the time taken to reach 90% nodes. The relationships can be easily seen. In the earlier case the number of nodes getting the messages increases with increasing K (in a logarithmic fashion), while in the latter example the time taken decreases with increasing K, finally saturating at **t = 205775 reached first at K = 80**."
   ]
  },
  {
   "cell_type": "markdown",
   "metadata": {},
   "source": [
    "**(b)** The number of copies of the chunk made equals the number of nodes that have received the broadcast."
   ]
  },
  {
   "cell_type": "code",
   "execution_count": 91,
   "metadata": {
    "collapsed": true
   },
   "outputs": [],
   "source": [
    "import random\n",
    "random.seed = 208"
   ]
  },
  {
   "cell_type": "code",
   "execution_count": 92,
   "metadata": {
    "collapsed": true
   },
   "outputs": [],
   "source": [
    "random_sample = random.sample(device_list,100)"
   ]
  },
  {
   "cell_type": "code",
   "execution_count": 102,
   "metadata": {},
   "outputs": [
    {
     "name": "stdout",
     "output_type": "stream",
     "text": [
      "2402.8082268238068\n"
     ]
    }
   ],
   "source": [
    "start = time.time()\n",
    "thl = []\n",
    "dict_of_results = {}\n",
    "for K in range(1,91):\n",
    "    dict_of_results[K] = []\n",
    "    for start_device in random_sample:\n",
    "        nt = threading.Thread(target=do_exp1,args=(K,dict_of_results[K]),kwargs={\"start_node\": start_device})\n",
    "        thl.append(nt)\n",
    "        nt.start()\n",
    "for ele in thl:\n",
    "    ele.join()\n",
    "print(time.time() - start)"
   ]
  },
  {
   "cell_type": "code",
   "execution_count": 104,
   "metadata": {
    "collapsed": true
   },
   "outputs": [],
   "source": [
    "import pickle\n",
    "with open(\"exp1_res\", \"wb\") as f:\n",
    "    pickle.dump(dict_of_results, f, pickle.HIGHEST_PROTOCOL)\n",
    "# with open(\"super.file\", \"rb\") as f:\n",
    "#     dump = pickle.load(f)"
   ]
  },
  {
   "cell_type": "code",
   "execution_count": 118,
   "metadata": {
    "collapsed": true
   },
   "outputs": [],
   "source": [
    "l = []\n",
    "for key,el in dict_of_results.items():\n",
    "    ll = []\n",
    "    for tup in el:\n",
    "        ll.append(tup[2])\n",
    "    l.append(ll)"
   ]
  },
  {
   "cell_type": "code",
   "execution_count": 175,
   "metadata": {},
   "outputs": [],
   "source": [
    "nd = np.asarray(l)\n",
    "means = nd.mean(axis=1)\n",
    "stds = nd.std(axis=1)\n",
    "vals = np.asarray(range(1,91))\n",
    "means = means.squeeze()\n",
    "stds = stds.squeeze()\n",
    "res_df = pd.DataFrame(data={\"K\":vals,\"Mean\":means,\"Std Dev\":stds}) "
   ]
  },
  {
   "cell_type": "code",
   "execution_count": 192,
   "metadata": {},
   "outputs": [
    {
     "data": {
      "text/plain": [
       "<matplotlib.text.Text at 0x1505ed5d8d0>"
      ]
     },
     "execution_count": 192,
     "metadata": {},
     "output_type": "execute_result"
    },
    {
     "data": {
      "image/png": "[encoded data removed]",
      "text/plain": [
       "<matplotlib.figure.Figure at 0x1506020f0f0>"
      ]
     },
     "metadata": {},
     "output_type": "display_data"
    }
   ],
   "source": [
    "plt.errorbar(vals,means,yerr=stds,ecolor=\"red\")\n",
    "plt.xlabel(\"K\")\n",
    "plt.ylabel(\"Nodes Received\")"
   ]
  },
  {
   "cell_type": "markdown",
   "metadata": {},
   "source": [
    "Here we have plotted the nodes that received the transmissions as a function of K for **100 starting nodes **with mean and error bars. After some steps is the time taken plot."
   ]
  },
  {
   "cell_type": "code",
   "execution_count": 199,
   "metadata": {
    "collapsed": true
   },
   "outputs": [],
   "source": [
    "l = []"
   ]
  },
  {
   "cell_type": "code",
   "execution_count": 200,
   "metadata": {
    "collapsed": true
   },
   "outputs": [],
   "source": [
    "for key,el in dict_of_results.items():\n",
    "    ll = []\n",
    "    for tup in el:\n",
    "        if tup[1]:\n",
    "            ll.append(tup[3])\n",
    "    l.append(ll)"
   ]
  },
  {
   "cell_type": "markdown",
   "metadata": {},
   "source": [
    "Starting from K = 47"
   ]
  },
  {
   "cell_type": "code",
   "execution_count": 211,
   "metadata": {},
   "outputs": [],
   "source": [
    "l = [el for el in l if el!=[]]"
   ]
  },
  {
   "cell_type": "code",
   "execution_count": 228,
   "metadata": {},
   "outputs": [],
   "source": [
    "means = [np.mean(i) for i in l ]\n",
    "stds = [np.std(i) for i in l ]"
   ]
  },
  {
   "cell_type": "code",
   "execution_count": 229,
   "metadata": {
    "collapsed": true
   },
   "outputs": [],
   "source": [
    "vals = [i for i in range(47,91)]"
   ]
  },
  {
   "cell_type": "code",
   "execution_count": 232,
   "metadata": {
    "collapsed": true
   },
   "outputs": [],
   "source": [
    "res_df = pd.DataFrame(data={\"K\":vals,\"Mean\":means,\"Std Dev\":stds}) "
   ]
  },
  {
   "cell_type": "code",
   "execution_count": 233,
   "metadata": {
    "scrolled": true
   },
   "outputs": [
    {
     "data": {
      "text/plain": [
       "<matplotlib.text.Text at 0x1506057fa20>"
      ]
     },
     "execution_count": 233,
     "metadata": {},
     "output_type": "execute_result"
    },
    {
     "data": {
      "image/png": "[encoded data removed]",
      "text/plain": [
       "<matplotlib.figure.Figure at 0x1505ee68358>"
      ]
     },
     "metadata": {},
     "output_type": "display_data"
    }
   ],
   "source": [
    "plt.errorbar(vals,means,yerr=stds,ecolor=\"red\")\n",
    "plt.xlabel(\"K\")\n",
    "plt.ylabel(\"Time Taken\")"
   ]
  },
  {
   "cell_type": "markdown",
   "metadata": {},
   "source": [
    "**(c)** This is the plot of time taken with K, computed as mean over 100 starting nodes. Only starting nodes where we reach 90% are considered in taking the average. We also plot the standard deviation as error bars. We can see that the trend observed earlier is observed here too, specifically **time taken reduces with increasing K**. Near the end a small bump is observed which could be beacause by increasing K we are getting some more nodes into the average (due to them hitting the threshold), thereby increasing the average time taken."
   ]
  },
  {
   "cell_type": "code",
   "execution_count": null,
   "metadata": {
    "collapsed": true
   },
   "outputs": [],
   "source": []
  },
  {
   "cell_type": "markdown",
   "metadata": {},
   "source": [
    "## Part 2"
   ]
  },
  {
   "cell_type": "code",
   "execution_count": 263,
   "metadata": {
    "collapsed": true
   },
   "outputs": [],
   "source": [
    "class Device_2:\n",
    "    def __init__(self,idx,degree,has_chunk,is_super_node,is_least_mobile_node,\n",
    "                super_transmit_prob,normal_transmit_prob,least_transmit_prob=1):\n",
    "        self.idx = idx\n",
    "        self.degree = degree\n",
    "        self.num_transmissions_done = 0\n",
    "        self.has_chunk = has_chunk\n",
    "        self.is_super_node = is_super_node\n",
    "        self.is_least_mobile_node = is_least_mobile_node\n",
    "        self.super_transmit_prob = super_transmit_prob\n",
    "        self.normal_transmit_prob = normal_transmit_prob\n",
    "        self.least_transmit_prob = least_transmit_prob\n",
    "        assert not (is_least_mobile_node and is_super_node)\n",
    "    def try_forward(self,target_device):\n",
    "        if(self.has_chunk and (not target_device.has_chunk)):\n",
    "            if target_device.is_least_mobile_node:\n",
    "                if random.random() < self.least_transmit_prob:\n",
    "                    return self.do_forward(target_device)\n",
    "            elif target_device.is_super_node:\n",
    "                if random.random() < self.super_transmit_prob:\n",
    "                    return self.do_forward(target_device)\n",
    "            else:\n",
    "                if random.random() < self.normal_transmit_prob:\n",
    "                    return self.do_forward(target_device)\n",
    "        return 0\n",
    "    def do_forward(self,target_device):\n",
    "        target_device.has_chunk = True\n",
    "        self.num_transmissions_done = self.num_transmissions_done + 1\n",
    "        return 1\n",
    "\n",
    "    def __str__(self):\n",
    "        s = \"\"\n",
    "        s = s + \"I am device with ID \" + str(self.idx) + \" and degree \"+ str(self.degree)+\" \"\n",
    "        if self.is_super_node: s = s + \" (am super node) \"\n",
    "        if self.is_least_mobile_node: s = s + \" (am least mobile node) \"\n",
    "        if self.has_chunk:s = s + \". I have the chunk\"\n",
    "        else:s = s + \". I don't have the chunk.\"\n",
    "        return s"
   ]
  },
  {
   "cell_type": "code",
   "execution_count": 264,
   "metadata": {
    "collapsed": true
   },
   "outputs": [],
   "source": [
    "degree_dict = {}\n",
    "for i in device_list:\n",
    "    degree_dict[i] = 0"
   ]
  },
  {
   "cell_type": "code",
   "execution_count": 265,
   "metadata": {},
   "outputs": [],
   "source": [
    "for row in nu_data:\n",
    "    degree_dict[row[1]] += 1\n",
    "    degree_dict[row[2]] += 1"
   ]
  },
  {
   "cell_type": "code",
   "execution_count": 275,
   "metadata": {},
   "outputs": [],
   "source": [
    "def do_exp2(list_to_append_to, super_node_percentile=0.5,least_mobile_percentile=70,super_node_prob=0.5,normal_node_prob=0.5\n",
    "            ,thresh=0.90,degree_dict=degree_dict,\n",
    "            device_list=device_list,data=nu_data,start_node=26):\n",
    "\n",
    "    num_received = 1\n",
    "    num_total_devices = len(device_list)\n",
    "    percent_devices_received = num_received / num_total_devices\n",
    "    end_timestep = 0\n",
    "    \n",
    "    super_node_percentile = super_node_percentile # from top\n",
    "    least_mobile_percentile = least_mobile_percentile # from bottom\n",
    "\n",
    "    super_node_prob = super_node_prob\n",
    "    normal_node_prob = normal_node_prob # arbitrary assumption\n",
    "    \n",
    "    degree_list = list(degree_dict.values())\n",
    "    super_node_cutoff = np.percentile(degree_list,100-super_node_percentile)\n",
    "    least_mobile_cutoff = np.percentile(degree_list,least_mobile_percentile)\n",
    "    \n",
    "    dict_devices = {}\n",
    "\n",
    "    for dev in device_list:\n",
    "        if(degree_dict[dev]<least_mobile_cutoff):\n",
    "            dict_devices[dev] = Device_2(dev,degree_dict[dev],False,False,True,super_node_prob,normal_node_prob)\n",
    "        elif(degree_dict[dev]>super_node_cutoff):\n",
    "            dict_devices[dev] = Device_2(dev,degree_dict[dev],False,True,False,super_node_prob,normal_node_prob)\n",
    "        else:\n",
    "            dict_devices[dev] = Device_2(dev,degree_dict[dev],False,False,False,super_node_prob,normal_node_prob)\n",
    "    \n",
    "    dict_devices[start_node].has_chunk = True\n",
    "    reached_thresh = False\n",
    "    \n",
    "    for row in nu_data:\n",
    "        timestep = row[0]\n",
    "        device_1 = dict_devices[row[1]]\n",
    "        device_2 = dict_devices[row[2]]\n",
    "        num_received += device_1.try_forward(device_2)\n",
    "        num_received += device_2.try_forward(device_1)\n",
    "        percent_devices_received = num_received / num_total_devices\n",
    "        if percent_devices_received > thresh:\n",
    "            end_timestep = timestep\n",
    "            reached_thresh = True\n",
    "            break\n",
    "\n",
    "    num_normal = 0\n",
    "    num_super = 0\n",
    "    num_least = 0\n",
    "    \n",
    "    tot_normal = 0\n",
    "    tot_super = 0\n",
    "    tot_least = 0\n",
    "    \n",
    "    for (iden,device) in dict_devices.items():\n",
    "        if device.is_super_node:\n",
    "            num_super += 1\n",
    "            tot_super += device.num_transmissions_done\n",
    "            assert not device.is_least_mobile_node\n",
    "        elif device.is_least_mobile_node:\n",
    "            num_least += 1\n",
    "            tot_least += device.num_transmissions_done\n",
    "            assert not device.is_super_node\n",
    "        else:\n",
    "            num_normal += 1\n",
    "            tot_normal += device.num_transmissions_done\n",
    "            assert not device.is_super_node\n",
    "            assert not device.is_least_mobile_node\n",
    "    \n",
    "    mean_normal = tot_normal / num_normal\n",
    "    mean_super = tot_super / num_super\n",
    "    mean_least = tot_least / num_least\n",
    "    \n",
    "    list_to_append_to.append( (super_node_prob,reached_thresh,num_received,end_timestep,mean_normal,mean_super,mean_least))"
   ]
  },
  {
   "cell_type": "code",
   "execution_count": 267,
   "metadata": {},
   "outputs": [],
   "source": [
    "tl = []\n",
    "do_exp2(tl)"
   ]
  },
  {
   "cell_type": "code",
   "execution_count": 268,
   "metadata": {
    "scrolled": true
   },
   "outputs": [
    {
     "data": {
      "text/plain": [
       "[(True,\n",
       "  1551,\n",
       "  206150,\n",
       "  2.4247104247104247,\n",
       "  32.55555555555556,\n",
       "  0.0008361204013377926)]"
      ]
     },
     "execution_count": 268,
     "metadata": {},
     "output_type": "execute_result"
    }
   ],
   "source": [
    "tl"
   ]
  },
  {
   "cell_type": "code",
   "execution_count": 278,
   "metadata": {
    "collapsed": true
   },
   "outputs": [],
   "source": [
    "probs = np.linspace(0,1,num=100)"
   ]
  },
  {
   "cell_type": "code",
   "execution_count": 280,
   "metadata": {},
   "outputs": [
    {
     "name": "stdout",
     "output_type": "stream",
     "text": [
      "26.20712947845459\n"
     ]
    }
   ],
   "source": [
    "start = time.time()\n",
    "thl = []\n",
    "list_of_results = []\n",
    "for p in probs:\n",
    "    nt = threading.Thread(target=do_exp2,args=(list_of_results,),kwargs={\"super_node_prob\":p,\"normal_node_prob\": 1- p})\n",
    "    thl.append(nt)\n",
    "    nt.start()\n",
    "for ele in thl:\n",
    "    ele.join()\n",
    "print(time.time() - start)"
   ]
  },
  {
   "cell_type": "code",
   "execution_count": 283,
   "metadata": {
    "collapsed": true
   },
   "outputs": [],
   "source": [
    "res = pd.DataFrame(list_of_results,columns=[\"Super Node Probability\",\"Reached Threshold\",\"Nodes Reached\",\"Time Taken\",\n",
    "                                            \"Mean Normal Transmissions\",\"Mean Super Transmissions\",\n",
    "                                            \"Mean Least Mobile Transmissions\"])\n",
    "    "
   ]
  },
  {
   "cell_type": "code",
   "execution_count": 293,
   "metadata": {},
   "outputs": [
    {
     "data": {
      "text/html": [
       "<div>\n",
       "<style>\n",
       "    .dataframe thead tr:only-child th {\n",
       "        text-align: right;\n",
       "    }\n",
       "\n",
       "    .dataframe thead th {\n",
       "        text-align: left;\n",
       "    }\n",
       "\n",
       "    .dataframe tbody tr th {\n",
       "        vertical-align: top;\n",
       "    }\n",
       "</style>\n",
       "<table border=\"1\" class=\"dataframe\">\n",
       "  <thead>\n",
       "    <tr style=\"text-align: right;\">\n",
       "      <th></th>\n",
       "      <th>Super Node Probability</th>\n",
       "      <th>Reached Threshold</th>\n",
       "      <th>Nodes Reached</th>\n",
       "      <th>Time Taken</th>\n",
       "      <th>Mean Normal Transmissions</th>\n",
       "      <th>Mean Super Transmissions</th>\n",
       "      <th>Mean Least Mobile Transmissions</th>\n",
       "    </tr>\n",
       "  </thead>\n",
       "  <tbody>\n",
       "    <tr>\n",
       "      <th>0</th>\n",
       "      <td>0.010101</td>\n",
       "      <td>True</td>\n",
       "      <td>1551</td>\n",
       "      <td>205775</td>\n",
       "      <td>2.488417</td>\n",
       "      <td>28.888889</td>\n",
       "      <td>0.000836</td>\n",
       "    </tr>\n",
       "    <tr>\n",
       "      <th>1</th>\n",
       "      <td>0.040404</td>\n",
       "      <td>True</td>\n",
       "      <td>1551</td>\n",
       "      <td>205775</td>\n",
       "      <td>2.484556</td>\n",
       "      <td>29.111111</td>\n",
       "      <td>0.000836</td>\n",
       "    </tr>\n",
       "    <tr>\n",
       "      <th>2</th>\n",
       "      <td>0.060606</td>\n",
       "      <td>True</td>\n",
       "      <td>1551</td>\n",
       "      <td>205775</td>\n",
       "      <td>2.480695</td>\n",
       "      <td>29.333333</td>\n",
       "      <td>0.000836</td>\n",
       "    </tr>\n",
       "    <tr>\n",
       "      <th>3</th>\n",
       "      <td>0.000000</td>\n",
       "      <td>True</td>\n",
       "      <td>1551</td>\n",
       "      <td>297963</td>\n",
       "      <td>2.990347</td>\n",
       "      <td>0.000000</td>\n",
       "      <td>0.000836</td>\n",
       "    </tr>\n",
       "    <tr>\n",
       "      <th>4</th>\n",
       "      <td>0.030303</td>\n",
       "      <td>True</td>\n",
       "      <td>1551</td>\n",
       "      <td>205775</td>\n",
       "      <td>2.478764</td>\n",
       "      <td>29.444444</td>\n",
       "      <td>0.000836</td>\n",
       "    </tr>\n",
       "  </tbody>\n",
       "</table>\n",
       "</div>"
      ],
      "text/plain": [
       "   Super Node Probability  Reached Threshold  Nodes Reached  Time Taken  \\\n",
       "0                0.010101               True           1551      205775   \n",
       "1                0.040404               True           1551      205775   \n",
       "2                0.060606               True           1551      205775   \n",
       "3                0.000000               True           1551      297963   \n",
       "4                0.030303               True           1551      205775   \n",
       "\n",
       "   Mean Normal Transmissions  Mean Super Transmissions  \\\n",
       "0                   2.488417                 28.888889   \n",
       "1                   2.484556                 29.111111   \n",
       "2                   2.480695                 29.333333   \n",
       "3                   2.990347                  0.000000   \n",
       "4                   2.478764                 29.444444   \n",
       "\n",
       "   Mean Least Mobile Transmissions  \n",
       "0                         0.000836  \n",
       "1                         0.000836  \n",
       "2                         0.000836  \n",
       "3                         0.000836  \n",
       "4                         0.000836  "
      ]
     },
     "execution_count": 293,
     "metadata": {},
     "output_type": "execute_result"
    }
   ],
   "source": [
    "res[:5]"
   ]
  },
  {
   "cell_type": "code",
   "execution_count": 294,
   "metadata": {},
   "outputs": [
    {
     "data": {
      "text/html": [
       "<div>\n",
       "<style>\n",
       "    .dataframe thead tr:only-child th {\n",
       "        text-align: right;\n",
       "    }\n",
       "\n",
       "    .dataframe thead th {\n",
       "        text-align: left;\n",
       "    }\n",
       "\n",
       "    .dataframe tbody tr th {\n",
       "        vertical-align: top;\n",
       "    }\n",
       "</style>\n",
       "<table border=\"1\" class=\"dataframe\">\n",
       "  <thead>\n",
       "    <tr style=\"text-align: right;\">\n",
       "      <th></th>\n",
       "      <th>Super Node Probability</th>\n",
       "      <th>Reached Threshold</th>\n",
       "      <th>Nodes Reached</th>\n",
       "      <th>Time Taken</th>\n",
       "      <th>Mean Normal Transmissions</th>\n",
       "      <th>Mean Super Transmissions</th>\n",
       "      <th>Mean Least Mobile Transmissions</th>\n",
       "    </tr>\n",
       "  </thead>\n",
       "  <tbody>\n",
       "    <tr>\n",
       "      <th>95</th>\n",
       "      <td>0.949495</td>\n",
       "      <td>True</td>\n",
       "      <td>1551</td>\n",
       "      <td>225252</td>\n",
       "      <td>2.444015</td>\n",
       "      <td>31.333333</td>\n",
       "      <td>0.001672</td>\n",
       "    </tr>\n",
       "    <tr>\n",
       "      <th>96</th>\n",
       "      <td>0.959596</td>\n",
       "      <td>True</td>\n",
       "      <td>1551</td>\n",
       "      <td>228241</td>\n",
       "      <td>2.401544</td>\n",
       "      <td>33.888889</td>\n",
       "      <td>0.000836</td>\n",
       "    </tr>\n",
       "    <tr>\n",
       "      <th>97</th>\n",
       "      <td>0.979798</td>\n",
       "      <td>False</td>\n",
       "      <td>1521</td>\n",
       "      <td>0</td>\n",
       "      <td>2.378378</td>\n",
       "      <td>32.000000</td>\n",
       "      <td>0.000000</td>\n",
       "    </tr>\n",
       "    <tr>\n",
       "      <th>98</th>\n",
       "      <td>0.989899</td>\n",
       "      <td>False</td>\n",
       "      <td>1470</td>\n",
       "      <td>0</td>\n",
       "      <td>2.281853</td>\n",
       "      <td>31.777778</td>\n",
       "      <td>0.000836</td>\n",
       "    </tr>\n",
       "    <tr>\n",
       "      <th>99</th>\n",
       "      <td>1.000000</td>\n",
       "      <td>False</td>\n",
       "      <td>344</td>\n",
       "      <td>0</td>\n",
       "      <td>0.011583</td>\n",
       "      <td>37.444444</td>\n",
       "      <td>0.000000</td>\n",
       "    </tr>\n",
       "  </tbody>\n",
       "</table>\n",
       "</div>"
      ],
      "text/plain": [
       "    Super Node Probability  Reached Threshold  Nodes Reached  Time Taken  \\\n",
       "95                0.949495               True           1551      225252   \n",
       "96                0.959596               True           1551      228241   \n",
       "97                0.979798              False           1521           0   \n",
       "98                0.989899              False           1470           0   \n",
       "99                1.000000              False            344           0   \n",
       "\n",
       "    Mean Normal Transmissions  Mean Super Transmissions  \\\n",
       "95                   2.444015                 31.333333   \n",
       "96                   2.401544                 33.888889   \n",
       "97                   2.378378                 32.000000   \n",
       "98                   2.281853                 31.777778   \n",
       "99                   0.011583                 37.444444   \n",
       "\n",
       "    Mean Least Mobile Transmissions  \n",
       "95                         0.001672  \n",
       "96                         0.000836  \n",
       "97                         0.000000  \n",
       "98                         0.000836  \n",
       "99                         0.000000  "
      ]
     },
     "execution_count": 294,
     "metadata": {},
     "output_type": "execute_result"
    }
   ],
   "source": [
    "res[-5:]"
   ]
  },
  {
   "cell_type": "markdown",
   "metadata": {},
   "source": [
    "As we see only when Super node probability becomes very large ( >0.96 ), normal node probability decreases very much and therefore we are not able to reach the threshold in the given time"
   ]
  },
  {
   "cell_type": "code",
   "execution_count": 312,
   "metadata": {
    "scrolled": true
   },
   "outputs": [
    {
     "data": {
      "text/plain": [
       "<seaborn.axisgrid.FacetGrid at 0x150604dbe80>"
      ]
     },
     "execution_count": 312,
     "metadata": {},
     "output_type": "execute_result"
    },
    {
     "data": {
      "image/png": "[encoded data removed]",
      "text/plain": [
       "<matplotlib.figure.Figure at 0x15060306550>"
      ]
     },
     "metadata": {},
     "output_type": "display_data"
    },
    {
     "data": {
      "image/png": "[encoded data removed]",
      "text/plain": [
       "<matplotlib.figure.Figure at 0x1506044f4e0>"
      ]
     },
     "metadata": {},
     "output_type": "display_data"
    },
    {
     "data": {
      "image/png": "[encoded data removed]",
      "text/plain": [
       "<matplotlib.figure.Figure at 0x1505ebfb1d0>"
      ]
     },
     "metadata": {},
     "output_type": "display_data"
    },
    {
     "data": {
      "image/png": "[encoded data removed]",
      "text/plain": [
       "<matplotlib.figure.Figure at 0x150630ba240>"
      ]
     },
     "metadata": {},
     "output_type": "display_data"
    }
   ],
   "source": [
    "sns.lmplot(x=\"Super Node Probability\",y=\"Time Taken\", data=res[:-3],fit_reg=True) # ignoring where we don't reach thresh\n",
    "sns.lmplot(x=\"Super Node Probability\",y=\"Mean Super Transmissions\", data=res,fit_reg=True)\n",
    "sns.lmplot(x=\"Super Node Probability\",y=\"Mean Normal Transmissions\", data=res,fit_reg=True)\n",
    "sns.lmplot(x=\"Super Node Probability\",y=\"Mean Least Mobile Transmissions\", data=res,fit_reg=True)"
   ]
  },
  {
   "cell_type": "markdown",
   "metadata": {},
   "source": [
    "**(a)** The plots show the time taken and the mean number of transmissions by different categories of devices plotted with respect to the super node transmission probability. Note that **normal node probability is one minus the super node probability**.  \n",
    "A clear upward trend in mean super node transmissions with increasing super node transmission probability and a reverse trend in mean normal node transmisson is observed. This is as expected since we shift the **burden of transmission towards the super nodes** when we increase their transmission probability. Below we use the _GINI coefficient_ to compare inequality in the distribution of transmissions.\n"
   ]
  },
  {
   "cell_type": "code",
   "execution_count": null,
   "metadata": {
    "collapsed": true
   },
   "outputs": [],
   "source": []
  },
  {
   "cell_type": "code",
   "execution_count": null,
   "metadata": {
    "collapsed": true
   },
   "outputs": [],
   "source": []
  },
  {
   "cell_type": "code",
   "execution_count": null,
   "metadata": {
    "collapsed": true
   },
   "outputs": [],
   "source": []
  },
  {
   "cell_type": "code",
   "execution_count": null,
   "metadata": {
    "collapsed": true
   },
   "outputs": [],
   "source": []
  },
  {
   "cell_type": "code",
   "execution_count": null,
   "metadata": {
    "collapsed": true
   },
   "outputs": [],
   "source": []
  },
  {
   "cell_type": "markdown",
   "metadata": {},
   "source": [
    "# Part 3"
   ]
  },
  {
   "cell_type": "code",
   "execution_count": null,
   "metadata": {
    "collapsed": true
   },
   "outputs": [],
   "source": []
  },
  {
   "cell_type": "code",
   "execution_count": null,
   "metadata": {
    "collapsed": true
   },
   "outputs": [],
   "source": [
    "num_received = 1\n",
    "K = 5\n",
    "num_total_devices = len(device_list)\n",
    "percent_devices_received = num_received / num_total_devices\n",
    "end_timestep = 0"
   ]
  },
  {
   "cell_type": "code",
   "execution_count": null,
   "metadata": {
    "collapsed": true
   },
   "outputs": [],
   "source": []
  },
  {
   "cell_type": "code",
   "execution_count": null,
   "metadata": {
    "collapsed": true
   },
   "outputs": [],
   "source": [
    "inter_community_transmit_probability = 0.7\n",
    "intra_community_transmit_probability = 1 - inter_community_transmit_probability"
   ]
  },
  {
   "cell_type": "code",
   "execution_count": null,
   "metadata": {
    "collapsed": true
   },
   "outputs": [],
   "source": [
    "inter_community_transmit_probability = 0.99\n",
    "intra_community_transmit_probability = 0.2"
   ]
  },
  {
   "cell_type": "code",
   "execution_count": null,
   "metadata": {
    "collapsed": true
   },
   "outputs": [],
   "source": [
    "inter_community_transmit_probability = 1\n",
    "intra_community_transmit_probability = 1"
   ]
  },
  {
   "cell_type": "code",
   "execution_count": null,
   "metadata": {
    "collapsed": true
   },
   "outputs": [],
   "source": [
    "class Device_3:\n",
    "    def __init__(self,idx,has_chunk,num_forwards_initial,community,\n",
    "                 intra_comm_transmit_prob,inter_comm_transmit_prob):\n",
    "        self.idx = idx\n",
    "        self.num_transmissions_done = 0\n",
    "        self.has_chunk = has_chunk\n",
    "        self.num_forwards_remaining = num_forwards_initial\n",
    "        self.community = community\n",
    "        self.intra_comm_transmit_prob = intra_comm_transmit_prob\n",
    "        self.inter_comm_transmit_prob = inter_comm_transmit_prob\n",
    "    def try_forward(self,target_device):\n",
    "        if(self.has_chunk and (not target_device.has_chunk) and (self.num_forwards_remaining>0)):\n",
    "            if target_device.community == self.community:\n",
    "                if random.random() < self.intra_comm_transmit_prob:\n",
    "                    self.do_forward(target_device)\n",
    "            else:\n",
    "                if random.random() < self.inter_comm_transmit_prob:\n",
    "                    self.do_forward(target_device)\n",
    "    def do_forward(self,target_device):\n",
    "        global num_received\n",
    "        global percent_devices_received\n",
    "        self.num_forwards_remaining = self.num_forwards_remaining - 1\n",
    "        target_device.has_chunk = True\n",
    "        num_received = num_received + 1\n",
    "        self.num_transmissions_done = self.num_transmissions_done + 1\n",
    "        percent_devices_received = num_received / num_total_devices\n",
    "\n",
    "    def __str__(self):\n",
    "        s = \"\"\n",
    "        s = s + \"I am device with ID \" + str(self.idx)\n",
    "        if self.has_chunk:s = s + \". I have the chunk and have \"+ str(self.num_forwards_remaining) + \" forwards remaining.\"\n",
    "        else:s = s + \". I don't have the chunk and have \"+ str(self.num_forwards_remaining)+\" forwards remaining.\"  \n",
    "        return s"
   ]
  },
  {
   "cell_type": "code",
   "execution_count": null,
   "metadata": {
    "collapsed": true
   },
   "outputs": [],
   "source": [
    "comm_file = open(\"modularityclass.csv\",\"r\")"
   ]
  },
  {
   "cell_type": "code",
   "execution_count": null,
   "metadata": {
    "collapsed": true
   },
   "outputs": [],
   "source": [
    "comm_table = pd.read_csv(comm_file,header=None,\n",
    "                         delimiter=\";\",names=[\"Device ID\",\"Community\"], dtype=np.int32)"
   ]
  },
  {
   "cell_type": "code",
   "execution_count": null,
   "metadata": {
    "collapsed": true
   },
   "outputs": [],
   "source": [
    "comm_file.close()"
   ]
  },
  {
   "cell_type": "code",
   "execution_count": null,
   "metadata": {
    "collapsed": true
   },
   "outputs": [],
   "source": [
    "device_comm_dict = {}"
   ]
  },
  {
   "cell_type": "code",
   "execution_count": null,
   "metadata": {
    "collapsed": true
   },
   "outputs": [],
   "source": [
    "for ii, row in comm_table.iterrows():\n",
    "    device_comm_dict[row[0]] = row[1]"
   ]
  },
  {
   "cell_type": "code",
   "execution_count": null,
   "metadata": {},
   "outputs": [],
   "source": [
    "dict_devices = {}\n",
    "for dev in device_list:\n",
    "    dict_devices[dev] = Device_3(dev,False,K,device_comm_dict[dev],\n",
    "                                 intra_community_transmit_probability,\n",
    "                                 inter_community_transmit_probability)\n",
    "dict_devices[26].has_chunk = True\n",
    "print(dict_devices[577])"
   ]
  },
  {
   "cell_type": "code",
   "execution_count": null,
   "metadata": {
    "collapsed": true
   },
   "outputs": [],
   "source": [
    "for ii, row in t.iterrows():\n",
    "    timestep = row[0]\n",
    "    device_1 = dict_devices[row[1]]\n",
    "    device_2 = dict_devices[row[2]]\n",
    "    device_1.try_forward(device_2)\n",
    "    device_2.try_forward(device_1)\n",
    "    if percent_devices_received > 0.90:\n",
    "        end_timestep = timestep\n",
    "        break"
   ]
  },
  {
   "cell_type": "code",
   "execution_count": null,
   "metadata": {},
   "outputs": [],
   "source": [
    "end_timestep"
   ]
  },
  {
   "cell_type": "code",
   "execution_count": null,
   "metadata": {},
   "outputs": [],
   "source": [
    "num_received"
   ]
  },
  {
   "cell_type": "code",
   "execution_count": null,
   "metadata": {},
   "outputs": [],
   "source": [
    "print(dict_devices[2])"
   ]
  },
  {
   "cell_type": "code",
   "execution_count": null,
   "metadata": {
    "collapsed": true
   },
   "outputs": [],
   "source": []
  },
  {
   "cell_type": "code",
   "execution_count": null,
   "metadata": {
    "collapsed": true
   },
   "outputs": [],
   "source": []
  }
 ],
 "metadata": {
  "kernelspec": {
   "display_name": "Python 3",
   "language": "python",
   "name": "python3"
  },
  "language_info": {
   "codemirror_mode": {
    "name": "ipython",
    "version": 3
   },
   "file_extension": ".py",
   "mimetype": "text/x-python",
   "name": "python",
   "nbconvert_exporter": "python",
   "pygments_lexer": "ipython3",
   "version": "3.5.2"
  }
 },
 "nbformat": 4,
 "nbformat_minor": 2
}
