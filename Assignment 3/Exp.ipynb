{
 "cells": [
  {
   "cell_type": "code",
   "execution_count": 229,
   "metadata": {},
   "outputs": [],
   "source": [
    "import csv\n",
    "import numpy as np\n",
    "import pandas as pd\n",
    "import random"
   ]
  },
  {
   "cell_type": "code",
   "execution_count": 39,
   "metadata": {
    "collapsed": true
   },
   "outputs": [],
   "source": [
    "f = open(\"proximityedgestimestamps.csv\",\"r\")"
   ]
  },
  {
   "cell_type": "code",
   "execution_count": 40,
   "metadata": {},
   "outputs": [],
   "source": [
    "t = pd.read_csv(f,header=None,delimiter=\";\",names=[\"Timestamp\",\"Device 1\",\"Device 2\"], dtype=np.int32 )"
   ]
  },
  {
   "cell_type": "code",
   "execution_count": 530,
   "metadata": {
    "collapsed": true
   },
   "outputs": [],
   "source": [
    "f.close()"
   ]
  },
  {
   "cell_type": "code",
   "execution_count": 45,
   "metadata": {},
   "outputs": [
    {
     "data": {
      "text/html": [
       "<div>\n",
       "<style>\n",
       "    .dataframe thead tr:only-child th {\n",
       "        text-align: right;\n",
       "    }\n",
       "\n",
       "    .dataframe thead th {\n",
       "        text-align: left;\n",
       "    }\n",
       "\n",
       "    .dataframe tbody tr th {\n",
       "        vertical-align: top;\n",
       "    }\n",
       "</style>\n",
       "<table border=\"1\" class=\"dataframe\">\n",
       "  <thead>\n",
       "    <tr style=\"text-align: right;\">\n",
       "      <th></th>\n",
       "      <th>Timestamp</th>\n",
       "      <th>Device 1</th>\n",
       "      <th>Device 2</th>\n",
       "    </tr>\n",
       "  </thead>\n",
       "  <tbody>\n",
       "    <tr>\n",
       "      <th>0</th>\n",
       "      <td>21</td>\n",
       "      <td>26</td>\n",
       "      <td>5844</td>\n",
       "    </tr>\n",
       "    <tr>\n",
       "      <th>1</th>\n",
       "      <td>21</td>\n",
       "      <td>26</td>\n",
       "      <td>588</td>\n",
       "    </tr>\n",
       "    <tr>\n",
       "      <th>2</th>\n",
       "      <td>29</td>\n",
       "      <td>27</td>\n",
       "      <td>321</td>\n",
       "    </tr>\n",
       "    <tr>\n",
       "      <th>3</th>\n",
       "      <td>30</td>\n",
       "      <td>32</td>\n",
       "      <td>3</td>\n",
       "    </tr>\n",
       "    <tr>\n",
       "      <th>4</th>\n",
       "      <td>30</td>\n",
       "      <td>32</td>\n",
       "      <td>533</td>\n",
       "    </tr>\n",
       "    <tr>\n",
       "      <th>5</th>\n",
       "      <td>30</td>\n",
       "      <td>32</td>\n",
       "      <td>836</td>\n",
       "    </tr>\n",
       "    <tr>\n",
       "      <th>6</th>\n",
       "      <td>30</td>\n",
       "      <td>32</td>\n",
       "      <td>837</td>\n",
       "    </tr>\n",
       "    <tr>\n",
       "      <th>7</th>\n",
       "      <td>31</td>\n",
       "      <td>31</td>\n",
       "      <td>548</td>\n",
       "    </tr>\n",
       "    <tr>\n",
       "      <th>8</th>\n",
       "      <td>41</td>\n",
       "      <td>25</td>\n",
       "      <td>1172</td>\n",
       "    </tr>\n",
       "    <tr>\n",
       "      <th>9</th>\n",
       "      <td>41</td>\n",
       "      <td>25</td>\n",
       "      <td>572</td>\n",
       "    </tr>\n",
       "  </tbody>\n",
       "</table>\n",
       "</div>"
      ],
      "text/plain": [
       "   Timestamp  Device 1  Device 2\n",
       "0         21        26      5844\n",
       "1         21        26       588\n",
       "2         29        27       321\n",
       "3         30        32         3\n",
       "4         30        32       533\n",
       "5         30        32       836\n",
       "6         30        32       837\n",
       "7         31        31       548\n",
       "8         41        25      1172\n",
       "9         41        25       572"
      ]
     },
     "execution_count": 45,
     "metadata": {},
     "output_type": "execute_result"
    }
   ],
   "source": [
    "t[:10]"
   ]
  },
  {
   "cell_type": "markdown",
   "metadata": {},
   "source": [
    "Preliminary analysis shows that device id's are in the range **1 to 11934** and time is in range **21 to 349811**"
   ]
  },
  {
   "cell_type": "code",
   "execution_count": 46,
   "metadata": {
    "scrolled": false
   },
   "outputs": [
    {
     "data": {
      "text/html": [
       "<div>\n",
       "<style>\n",
       "    .dataframe thead tr:only-child th {\n",
       "        text-align: right;\n",
       "    }\n",
       "\n",
       "    .dataframe thead th {\n",
       "        text-align: left;\n",
       "    }\n",
       "\n",
       "    .dataframe tbody tr th {\n",
       "        vertical-align: top;\n",
       "    }\n",
       "</style>\n",
       "<table border=\"1\" class=\"dataframe\">\n",
       "  <thead>\n",
       "    <tr style=\"text-align: right;\">\n",
       "      <th></th>\n",
       "      <th>Timestamp</th>\n",
       "      <th>Device 1</th>\n",
       "      <th>Device 2</th>\n",
       "    </tr>\n",
       "  </thead>\n",
       "  <tbody>\n",
       "    <tr>\n",
       "      <th>count</th>\n",
       "      <td>272165.000000</td>\n",
       "      <td>272165.000000</td>\n",
       "      <td>272165.000000</td>\n",
       "    </tr>\n",
       "    <tr>\n",
       "      <th>mean</th>\n",
       "      <td>102423.374111</td>\n",
       "      <td>39.241651</td>\n",
       "      <td>836.406088</td>\n",
       "    </tr>\n",
       "    <tr>\n",
       "      <th>std</th>\n",
       "      <td>71762.366982</td>\n",
       "      <td>21.911135</td>\n",
       "      <td>1792.371328</td>\n",
       "    </tr>\n",
       "    <tr>\n",
       "      <th>min</th>\n",
       "      <td>21.000000</td>\n",
       "      <td>1.000000</td>\n",
       "      <td>1.000000</td>\n",
       "    </tr>\n",
       "    <tr>\n",
       "      <th>25%</th>\n",
       "      <td>32441.000000</td>\n",
       "      <td>19.000000</td>\n",
       "      <td>76.000000</td>\n",
       "    </tr>\n",
       "    <tr>\n",
       "      <th>50%</th>\n",
       "      <td>100237.000000</td>\n",
       "      <td>39.000000</td>\n",
       "      <td>547.000000</td>\n",
       "    </tr>\n",
       "    <tr>\n",
       "      <th>75%</th>\n",
       "      <td>179755.000000</td>\n",
       "      <td>60.000000</td>\n",
       "      <td>585.000000</td>\n",
       "    </tr>\n",
       "    <tr>\n",
       "      <th>max</th>\n",
       "      <td>349811.000000</td>\n",
       "      <td>76.000000</td>\n",
       "      <td>11934.000000</td>\n",
       "    </tr>\n",
       "  </tbody>\n",
       "</table>\n",
       "</div>"
      ],
      "text/plain": [
       "           Timestamp       Device 1       Device 2\n",
       "count  272165.000000  272165.000000  272165.000000\n",
       "mean   102423.374111      39.241651     836.406088\n",
       "std     71762.366982      21.911135    1792.371328\n",
       "min        21.000000       1.000000       1.000000\n",
       "25%     32441.000000      19.000000      76.000000\n",
       "50%    100237.000000      39.000000     547.000000\n",
       "75%    179755.000000      60.000000     585.000000\n",
       "max    349811.000000      76.000000   11934.000000"
      ]
     },
     "execution_count": 46,
     "metadata": {},
     "output_type": "execute_result"
    }
   ],
   "source": [
    "t.describe()"
   ]
  },
  {
   "cell_type": "code",
   "execution_count": 92,
   "metadata": {
    "collapsed": true
   },
   "outputs": [],
   "source": [
    "device_set = set()"
   ]
  },
  {
   "cell_type": "code",
   "execution_count": 93,
   "metadata": {},
   "outputs": [],
   "source": [
    "for idx,row in t.iterrows():\n",
    "    device_set.add(row[1])\n",
    "    device_set.add(row[2])"
   ]
  },
  {
   "cell_type": "code",
   "execution_count": 94,
   "metadata": {},
   "outputs": [
    {
     "data": {
      "text/plain": [
       "1723"
      ]
     },
     "execution_count": 94,
     "metadata": {},
     "output_type": "execute_result"
    }
   ],
   "source": [
    "len(device_set)"
   ]
  },
  {
   "cell_type": "markdown",
   "metadata": {},
   "source": [
    "So we get 1723 device IDs"
   ]
  },
  {
   "cell_type": "code",
   "execution_count": 95,
   "metadata": {
    "collapsed": true
   },
   "outputs": [],
   "source": [
    "device_list = list(device_set)"
   ]
  },
  {
   "cell_type": "markdown",
   "metadata": {},
   "source": [
    "## Part 1"
   ]
  },
  {
   "cell_type": "code",
   "execution_count": 216,
   "metadata": {
    "collapsed": true
   },
   "outputs": [],
   "source": [
    "num_received = 1"
   ]
  },
  {
   "cell_type": "code",
   "execution_count": 217,
   "metadata": {
    "collapsed": true
   },
   "outputs": [],
   "source": [
    "K = 45"
   ]
  },
  {
   "cell_type": "code",
   "execution_count": 218,
   "metadata": {
    "collapsed": true
   },
   "outputs": [],
   "source": [
    "num_total_devices = len(device_list)"
   ]
  },
  {
   "cell_type": "code",
   "execution_count": 219,
   "metadata": {
    "collapsed": true
   },
   "outputs": [],
   "source": [
    "percent_devices_received = num_received / num_total_devices"
   ]
  },
  {
   "cell_type": "code",
   "execution_count": 220,
   "metadata": {
    "collapsed": true
   },
   "outputs": [],
   "source": [
    "end_timestep = 0"
   ]
  },
  {
   "cell_type": "code",
   "execution_count": 221,
   "metadata": {
    "collapsed": true
   },
   "outputs": [],
   "source": [
    "class Device_1:\n",
    "    def __init__(self,id,has_chunk,num_forwards_initial):\n",
    "        self.idx = id\n",
    "        self.has_chunk = has_chunk\n",
    "        self.num_forwards = num_forwards_initial\n",
    "#       self.transmitted_to = set()\n",
    "    def try_forward(self,target_device):\n",
    "        global num_received\n",
    "        global percent_devices_received\n",
    "        if(self.has_chunk and (not target_device.has_chunk) and (self.num_forwards>0)):\n",
    "            self.num_forwards = self.num_forwards - 1\n",
    "            target_device.has_chunk = True\n",
    "            num_received = num_received + 1\n",
    "            percent_devices_recieved = num_received / num_total_devices\n",
    "    def __str__(self):\n",
    "        s = \"\"\n",
    "        s = s + \"Device with ID \" + str(self.idx)\n",
    "        if self.has_chunk:s = s + \". I have the chunk and have \"+ str(self.num_forwards) + \" forwards remaining\"\n",
    "        else:s = s + \". I don't have the chunk and have \"+ str(self.num_forwards)+\" forwards remaining\"  \n",
    "        return s\n"
   ]
  },
  {
   "cell_type": "code",
   "execution_count": 222,
   "metadata": {
    "collapsed": true
   },
   "outputs": [],
   "source": [
    "dict_devices = {}"
   ]
  },
  {
   "cell_type": "code",
   "execution_count": 223,
   "metadata": {},
   "outputs": [],
   "source": [
    "for dev in device_list:\n",
    "    dict_devices[dev] = Device_1(dev,False,K)"
   ]
  },
  {
   "cell_type": "code",
   "execution_count": 224,
   "metadata": {
    "collapsed": true
   },
   "outputs": [],
   "source": [
    "dict_devices[26].has_chunk = True"
   ]
  },
  {
   "cell_type": "code",
   "execution_count": 225,
   "metadata": {},
   "outputs": [
    {
     "name": "stdout",
     "output_type": "stream",
     "text": [
      "Device with ID 577. I don't have the chunk and have 45 forwards remaining\n"
     ]
    }
   ],
   "source": [
    "print(dict_devices[577])"
   ]
  },
  {
   "cell_type": "code",
   "execution_count": 226,
   "metadata": {},
   "outputs": [],
   "source": [
    "for ii, row in t.iterrows():\n",
    "    timestep = row[0]\n",
    "    device_1 = dict_devices[row[1]]\n",
    "    device_2 = dict_devices[row[2]]\n",
    "    device_1.try_forward(device_2)\n",
    "    device_2.try_forward(device_1)\n",
    "    if percent_devices_received > 0.90:\n",
    "        end_timestep = timestep\n",
    "        break"
   ]
  },
  {
   "cell_type": "code",
   "execution_count": 227,
   "metadata": {},
   "outputs": [
    {
     "data": {
      "text/plain": [
       "0"
      ]
     },
     "execution_count": 227,
     "metadata": {},
     "output_type": "execute_result"
    }
   ],
   "source": [
    "end_timestep"
   ]
  },
  {
   "cell_type": "code",
   "execution_count": 228,
   "metadata": {
    "scrolled": true
   },
   "outputs": [
    {
     "data": {
      "text/plain": [
       "1521"
      ]
     },
     "execution_count": 228,
     "metadata": {},
     "output_type": "execute_result"
    }
   ],
   "source": [
    "num_received"
   ]
  },
  {
   "cell_type": "code",
   "execution_count": 602,
   "metadata": {},
   "outputs": [
    {
     "ename": "SyntaxError",
     "evalue": "invalid syntax (<ipython-input-602-8e77d4eaeb4d>, line 1)",
     "output_type": "error",
     "traceback": [
      "\u001b[0;36m  File \u001b[0;32m\"<ipython-input-602-8e77d4eaeb4d>\"\u001b[0;36m, line \u001b[0;32m1\u001b[0m\n\u001b[0;31m    part1_res = #  Starting from 26\u001b[0m\n\u001b[0m                                   ^\u001b[0m\n\u001b[0;31mSyntaxError\u001b[0m\u001b[0;31m:\u001b[0m invalid syntax\n"
     ]
    }
   ],
   "source": [
    "#  Starting from 26\n",
    "#  K, end_time,num_reached\n",
    "res = [(1, -1, 2),\n",
    " (2, -1, 208),\n",
    " (3, -1, 276),\n",
    " (4, -1, 342),\n",
    " (5, -1, 399),\n",
    " (6, -1, 459),\n",
    " (7, -1, 518),\n",
    " (8, -1, 571),\n",
    " (9, -1, 620),\n",
    " (10, -1, 666),\n",
    " (11, -1, 712),\n",
    " (12, -1, 757),\n",
    " (13, -1, 802),\n",
    " (14, -1, 843),\n",
    " (15, -1, 885),\n",
    " (16, -1, 927),\n",
    " (17, -1, 959),\n",
    " (18, -1, 991),\n",
    " (19, -1, 1023),\n",
    " (20, -1, 1054),\n",
    " (21, -1, 1087),\n",
    " (22, -1, 1122),\n",
    " (23, -1, 1155),\n",
    " (24, -1, 1183),\n",
    " (25, -1, 1206),\n",
    " (26, -1, 1228),\n",
    " (27, -1, 1252),\n",
    " (28, -1, 1273),\n",
    " (29, -1, 1291),\n",
    " (30, -1, 1310),\n",
    " (31, -1, 1329),\n",
    " (32, -1, 1345),\n",
    " (33, -1, 1361),\n",
    " (34, -1, 1374),\n",
    " (35, -1, 1392),\n",
    " (36, -1, 1410),\n",
    " (37, -1, 1424),\n",
    " (38, -1, 1441),\n",
    " (39, -1, 1457),\n",
    " (40, -1, 1472),\n",
    " (41, -1, 1483),\n",
    " (42, -1, 1494),\n",
    " (43, -1, 1503),\n",
    " (44, -1, 1514),\n",
    " (45, -1, 1521),\n",
    " (46, -1, 1530),\n",
    " (47, -1, 1539),\n",
    " (48, -1, 1549),\n",
    " (49, 306768, 1551),\n",
    " (50, 298098, 1551),\n",
    " (51, 277353, 1551),\n",
    " (52, 233749, 1551),\n",
    " (53, 223960, 1551),\n",
    " (54, 218424, 1551),\n",
    " (55, 216496, 1551),\n",
    " (56, 216337, 1551),\n",
    " (57, 216091, 1551),\n",
    " (58, 212695, 1551),\n",
    " (59, 210777, 1551),\n",
    " (60, 209114, 1551),\n",
    " (61, 209114, 1551),\n",
    " (62, 208746, 1551),\n",
    " (63, 207733, 1551),\n",
    " (64, 205901, 1551),\n",
    " (65, 205901, 1551),\n",
    " (66, 205901, 1551),\n",
    " (67, 205901, 1551),\n",
    " (68, 205901, 1551),\n",
    " (69, 205901, 1551),\n",
    " (70, 205901, 1551),\n",
    " (71, 205901, 1551),\n",
    " (72, 205901, 1551),\n",
    " (73, 205901, 1551),\n",
    " (74, 205901, 1551),\n",
    " (75, 205901, 1551),\n",
    " (76, 205901, 1551),\n",
    " (77, 205901, 1551),\n",
    " (78, 205901, 1551),\n",
    " (79, 205901, 1551),\n",
    " (80, 205775, 1551),\n",
    " (81, 205775, 1551),\n",
    " (82, 205775, 1551),\n",
    " (83, 205775, 1551),\n",
    " (84, 205775, 1551),\n",
    " (85, 205775, 1551),\n",
    " (86, 205775, 1551),\n",
    " (87, 205775, 1551),\n",
    " (88, 205775, 1551),\n",
    " (89, 205775, 1551),\n",
    " (90, 205775, 1551),\n",
    " (91, 205775, 1551),\n",
    " (92, 205775, 1551),\n",
    " (93, 205775, 1551),\n",
    " (94, 205775, 1551),\n",
    " (95, 205775, 1551),\n",
    " (96, 205775, 1551),\n",
    " (97, 205775, 1551),\n",
    " (98, 205775, 1551),\n",
    " (99, 205775, 1551),\n",
    " (100, 205775, 1551),\n",
    " (101, 205775, 1551),\n",
    " (102, 205775, 1551),\n",
    " (103, 205775, 1551),\n",
    " (104, 205775, 1551),\n",
    " (105, 205775, 1551),\n",
    " (106, 205775, 1551),\n",
    " (107, 205775, 1551),\n",
    " (108, 205775, 1551),\n",
    " (109, 205775, 1551),\n",
    " (110, 205775, 1551),\n",
    " (111, 205775, 1551),\n",
    " (112, 205775, 1551),\n",
    " (113, 205775, 1551),\n",
    " (114, 205775, 1551),\n",
    " (115, 205775, 1551),\n",
    " (116, 205775, 1551),\n",
    " (117, 205775, 1551),\n",
    " (118, 205775, 1551),\n",
    " (119, 205775, 1551),\n",
    " (120, 205775, 1551),\n",
    " (121, 205775, 1551),\n",
    " (122, 205775, 1551),\n",
    " (123, 205775, 1551),\n",
    " (124, 205775, 1551),\n",
    " (125, 205775, 1551),\n",
    " (126, 205775, 1551),\n",
    " (127, 205775, 1551),\n",
    " (128, 205775, 1551),\n",
    " (129, 205775, 1551),\n",
    " (130, 205775, 1551),\n",
    " (131, 205775, 1551),\n",
    " (132, 205775, 1551),\n",
    " (133, 205775, 1551),\n",
    " (134, 205775, 1551),\n",
    " (135, 205775, 1551),\n",
    " (136, 205775, 1551),\n",
    " (137, 205775, 1551),\n",
    " (138, 205775, 1551),\n",
    " (139, 205775, 1551),\n",
    " (140, 205775, 1551),\n",
    " (141, 205775, 1551),\n",
    " (142, 205775, 1551),\n",
    " (143, 205775, 1551),\n",
    " (144, 205775, 1551),\n",
    " (145, 205775, 1551),\n",
    " (146, 205775, 1551),\n",
    " (147, 205775, 1551),\n",
    " (148, 205775, 1551),\n",
    " (149, 205775, 1551)]"
   ]
  },
  {
   "cell_type": "code",
   "execution_count": null,
   "metadata": {
    "collapsed": true
   },
   "outputs": [],
   "source": []
  },
  {
   "cell_type": "code",
   "execution_count": null,
   "metadata": {
    "collapsed": true
   },
   "outputs": [],
   "source": []
  },
  {
   "cell_type": "code",
   "execution_count": null,
   "metadata": {
    "collapsed": true
   },
   "outputs": [],
   "source": []
  },
  {
   "cell_type": "markdown",
   "metadata": {},
   "source": [
    "## Part 2"
   ]
  },
  {
   "cell_type": "code",
   "execution_count": 506,
   "metadata": {
    "collapsed": true
   },
   "outputs": [],
   "source": [
    "num_received = 1\n",
    "K = 50\n",
    "num_total_devices = len(device_list)\n",
    "percent_devices_received = num_received / num_total_devices\n",
    "end_timestep = 0"
   ]
  },
  {
   "cell_type": "code",
   "execution_count": 507,
   "metadata": {
    "collapsed": true
   },
   "outputs": [],
   "source": [
    "super_node_percentile = 5 # from top\n",
    "least_mobile_percentile = 70 # from bottom"
   ]
  },
  {
   "cell_type": "code",
   "execution_count": 508,
   "metadata": {
    "collapsed": true
   },
   "outputs": [],
   "source": [
    "super_node_prob = 0.5\n",
    "normal_node_prob = 1 - super_node_prob # arbitrary assumption"
   ]
  },
  {
   "cell_type": "code",
   "execution_count": 509,
   "metadata": {
    "collapsed": true
   },
   "outputs": [],
   "source": [
    "class Device_2:\n",
    "    def __init__(self,idx,degree,has_chunk,num_forwards_initial,is_super_node,is_least_mobile_node,\n",
    "                super_transmit_prob,normal_transmit_prob,least_transmit_prob=1):\n",
    "        self.idx = idx\n",
    "        self.degree = degree\n",
    "        self.num_transmissions_done = 0\n",
    "        self.has_chunk = has_chunk\n",
    "        self.num_forwards_remaining = num_forwards_initial\n",
    "        self.is_super_node = is_super_node\n",
    "        self.is_least_mobile_node = is_least_mobile_node\n",
    "        self.super_transmit_prob = super_transmit_prob\n",
    "        self.normal_transmit_prob = normal_transmit_prob\n",
    "        self.least_transmit_prob = least_transmit_prob\n",
    "        assert not (is_least_mobile_node and is_super_node)\n",
    "#       self.transmitted_to = set()\n",
    "    def try_forward(self,target_device):\n",
    "        if(self.has_chunk and (not target_device.has_chunk) and (self.num_forwards_remaining>0)):\n",
    "            if target_device.is_least_mobile_node:\n",
    "                if random.random() < self.least_transmit_prob:\n",
    "                    self.do_forward(target_device)\n",
    "            elif target_device.is_super_node:\n",
    "                if random.random() < self.super_transmit_prob:\n",
    "                    self.do_forward(target_device)\n",
    "            else:\n",
    "                if random.random() < self.normal_transmit_prob:\n",
    "                    self.do_forward(target_device)\n",
    "    def do_forward(self,target_device):\n",
    "        global num_received\n",
    "        global percent_devices_received\n",
    "        self.num_forwards_remaining = self.num_forwards_remaining - 1\n",
    "        target_device.has_chunk = True\n",
    "        num_received = num_received + 1\n",
    "        self.num_transmissions_done = self.num_transmissions_done + 1\n",
    "        percent_devices_received = num_received / num_total_devices\n",
    "\n",
    "    def __str__(self):\n",
    "        s = \"\"\n",
    "        s = s + \"I am device with ID \" + str(self.idx) + \" and degree \"+ str(self.degree)+\" \"\n",
    "        if self.is_super_node: s = s + \" (am super node) \"\n",
    "        if self.is_least_mobile_node: s = s + \" (am least mobile node) \"\n",
    "        if self.has_chunk:s = s + \". I have the chunk and have \"+ str(self.num_forwards_remaining) + \" forwards remaining.\"\n",
    "        else:s = s + \". I don't have the chunk and have \"+ str(self.num_forwards_remaining)+\" forwards remaining.\"  \n",
    "        return s"
   ]
  },
  {
   "cell_type": "code",
   "execution_count": 510,
   "metadata": {
    "collapsed": true
   },
   "outputs": [],
   "source": [
    "degree_dict = {}\n",
    "for i in device_list:\n",
    "    degree_dict[i] = 0"
   ]
  },
  {
   "cell_type": "code",
   "execution_count": 511,
   "metadata": {
    "collapsed": true
   },
   "outputs": [],
   "source": [
    "for idx,row in t.iterrows():\n",
    "    degree_dict[row[1]] += 1\n",
    "    degree_dict[row[2]] += 1"
   ]
  },
  {
   "cell_type": "code",
   "execution_count": 512,
   "metadata": {
    "collapsed": true
   },
   "outputs": [],
   "source": [
    "degree_list = list(degree_dict.values())"
   ]
  },
  {
   "cell_type": "code",
   "execution_count": 513,
   "metadata": {
    "scrolled": true
   },
   "outputs": [],
   "source": [
    "super_node_cutoff = np.percentile(degree_list,100-super_node_percentile)\n",
    "least_mobile_cutoff = np.percentile(degree_list,least_mobile_percentile)"
   ]
  },
  {
   "cell_type": "code",
   "execution_count": 514,
   "metadata": {},
   "outputs": [
    {
     "data": {
      "text/plain": [
       "2165.6999999999871"
      ]
     },
     "execution_count": 514,
     "metadata": {},
     "output_type": "execute_result"
    }
   ],
   "source": [
    "super_node_cutoff"
   ]
  },
  {
   "cell_type": "code",
   "execution_count": 515,
   "metadata": {},
   "outputs": [
    {
     "data": {
      "text/plain": [
       "13.0"
      ]
     },
     "execution_count": 515,
     "metadata": {},
     "output_type": "execute_result"
    }
   ],
   "source": [
    "least_mobile_cutoff"
   ]
  },
  {
   "cell_type": "code",
   "execution_count": 516,
   "metadata": {
    "collapsed": true
   },
   "outputs": [],
   "source": [
    "dict_devices = {}"
   ]
  },
  {
   "cell_type": "code",
   "execution_count": 517,
   "metadata": {
    "collapsed": true
   },
   "outputs": [],
   "source": [
    "for dev in device_list:\n",
    "    if(degree_dict[dev]<least_mobile_cutoff):\n",
    "        dict_devices[dev] = Device_2(dev,degree_dict[dev],False,K,False,True,super_node_prob,normal_node_prob)\n",
    "    elif(degree_dict[dev]>super_node_cutoff):\n",
    "        dict_devices[dev] = Device_2(dev,degree_dict[dev],False,K,True,False,super_node_prob,normal_node_prob)\n",
    "    else:\n",
    "        dict_devices[dev] = Device_2(dev,degree_dict[dev],False,K,False,False,super_node_prob,normal_node_prob)"
   ]
  },
  {
   "cell_type": "code",
   "execution_count": 518,
   "metadata": {
    "collapsed": true
   },
   "outputs": [],
   "source": [
    "dict_devices[26].has_chunk = True"
   ]
  },
  {
   "cell_type": "code",
   "execution_count": 519,
   "metadata": {},
   "outputs": [
    {
     "name": "stdout",
     "output_type": "stream",
     "text": [
      "I am device with ID 577 and degree 469 . I don't have the chunk and have 50 forwards remaining.\n"
     ]
    }
   ],
   "source": [
    "print(dict_devices[577])"
   ]
  },
  {
   "cell_type": "code",
   "execution_count": 520,
   "metadata": {},
   "outputs": [],
   "source": [
    "for ii, row in t.iterrows():\n",
    "    timestep = row[0]\n",
    "    device_1 = dict_devices[row[1]]\n",
    "    device_2 = dict_devices[row[2]]\n",
    "    device_1.try_forward(device_2)\n",
    "    device_2.try_forward(device_1)\n",
    "    if percent_devices_received > 0.90:\n",
    "        end_timestep = timestep\n",
    "        break"
   ]
  },
  {
   "cell_type": "code",
   "execution_count": 521,
   "metadata": {},
   "outputs": [
    {
     "data": {
      "text/plain": [
       "260712"
      ]
     },
     "execution_count": 521,
     "metadata": {},
     "output_type": "execute_result"
    }
   ],
   "source": [
    "end_timestep"
   ]
  },
  {
   "cell_type": "code",
   "execution_count": 522,
   "metadata": {},
   "outputs": [
    {
     "data": {
      "text/plain": [
       "1551"
      ]
     },
     "execution_count": 522,
     "metadata": {},
     "output_type": "execute_result"
    }
   ],
   "source": [
    "num_received"
   ]
  },
  {
   "cell_type": "code",
   "execution_count": null,
   "metadata": {
    "collapsed": true
   },
   "outputs": [],
   "source": []
  },
  {
   "cell_type": "code",
   "execution_count": null,
   "metadata": {
    "collapsed": true
   },
   "outputs": [],
   "source": []
  },
  {
   "cell_type": "code",
   "execution_count": null,
   "metadata": {
    "collapsed": true
   },
   "outputs": [],
   "source": []
  },
  {
   "cell_type": "code",
   "execution_count": null,
   "metadata": {
    "collapsed": true
   },
   "outputs": [],
   "source": []
  },
  {
   "cell_type": "markdown",
   "metadata": {},
   "source": [
    "# Part 3"
   ]
  },
  {
   "cell_type": "code",
   "execution_count": null,
   "metadata": {
    "collapsed": true
   },
   "outputs": [],
   "source": []
  },
  {
   "cell_type": "code",
   "execution_count": 725,
   "metadata": {
    "collapsed": true
   },
   "outputs": [],
   "source": [
    "num_received = 1\n",
    "K = 5\n",
    "num_total_devices = len(device_list)\n",
    "percent_devices_received = num_received / num_total_devices\n",
    "end_timestep = 0"
   ]
  },
  {
   "cell_type": "code",
   "execution_count": null,
   "metadata": {
    "collapsed": true
   },
   "outputs": [],
   "source": []
  },
  {
   "cell_type": "code",
   "execution_count": 673,
   "metadata": {
    "collapsed": true
   },
   "outputs": [],
   "source": [
    "inter_community_transmit_probability = 0.7\n",
    "intra_community_transmit_probability = 1 - inter_community_transmit_probability"
   ]
  },
  {
   "cell_type": "code",
   "execution_count": 726,
   "metadata": {
    "collapsed": true
   },
   "outputs": [],
   "source": [
    "inter_community_transmit_probability = 0.99#0.7\n",
    "intra_community_transmit_probability = 0.2#1 - inter_community_transmit_probability"
   ]
  },
  {
   "cell_type": "code",
   "execution_count": 712,
   "metadata": {
    "collapsed": true
   },
   "outputs": [],
   "source": [
    "inter_community_transmit_probability = 1#0.7\n",
    "intra_community_transmit_probability = 1#1 - inter_community_transmit_probability"
   ]
  },
  {
   "cell_type": "code",
   "execution_count": 727,
   "metadata": {
    "collapsed": true
   },
   "outputs": [],
   "source": [
    "class Device_3:\n",
    "    def __init__(self,idx,has_chunk,num_forwards_initial,community,\n",
    "                 intra_comm_transmit_prob,inter_comm_transmit_prob):\n",
    "        self.idx = idx\n",
    "        self.num_transmissions_done = 0\n",
    "        self.has_chunk = has_chunk\n",
    "        self.num_forwards_remaining = num_forwards_initial\n",
    "        self.community = community\n",
    "        self.intra_comm_transmit_prob = intra_comm_transmit_prob\n",
    "        self.inter_comm_transmit_prob = inter_comm_transmit_prob\n",
    "    def try_forward(self,target_device):\n",
    "        if(self.has_chunk and (not target_device.has_chunk) and (self.num_forwards_remaining>0)):\n",
    "            if target_device.community == self.community:\n",
    "                if random.random() < self.intra_comm_transmit_prob:\n",
    "                    self.do_forward(target_device)\n",
    "            else:\n",
    "                if random.random() < self.inter_comm_transmit_prob:\n",
    "                    self.do_forward(target_device)\n",
    "    def do_forward(self,target_device):\n",
    "        global num_received\n",
    "        global percent_devices_received\n",
    "        self.num_forwards_remaining = self.num_forwards_remaining - 1\n",
    "        target_device.has_chunk = True\n",
    "        num_received = num_received + 1\n",
    "        self.num_transmissions_done = self.num_transmissions_done + 1\n",
    "        percent_devices_received = num_received / num_total_devices\n",
    "\n",
    "    def __str__(self):\n",
    "        s = \"\"\n",
    "        s = s + \"I am device with ID \" + str(self.idx)\n",
    "        if self.has_chunk:s = s + \". I have the chunk and have \"+ str(self.num_forwards_remaining) + \" forwards remaining.\"\n",
    "        else:s = s + \". I don't have the chunk and have \"+ str(self.num_forwards_remaining)+\" forwards remaining.\"  \n",
    "        return s"
   ]
  },
  {
   "cell_type": "code",
   "execution_count": 728,
   "metadata": {
    "collapsed": true
   },
   "outputs": [],
   "source": [
    "comm_file = open(\"modularityclass.csv\",\"r\")"
   ]
  },
  {
   "cell_type": "code",
   "execution_count": 729,
   "metadata": {},
   "outputs": [],
   "source": [
    "comm_table = pd.read_csv(comm_file,header=None,\n",
    "                         delimiter=\";\",names=[\"Device ID\",\"Community\"], dtype=np.int32)"
   ]
  },
  {
   "cell_type": "code",
   "execution_count": 730,
   "metadata": {
    "collapsed": true
   },
   "outputs": [],
   "source": [
    "comm_file.close()"
   ]
  },
  {
   "cell_type": "code",
   "execution_count": 731,
   "metadata": {
    "collapsed": true
   },
   "outputs": [],
   "source": [
    "device_comm_dict = {}"
   ]
  },
  {
   "cell_type": "code",
   "execution_count": 732,
   "metadata": {},
   "outputs": [],
   "source": [
    "for ii, row in comm_table.iterrows():\n",
    "    device_comm_dict[row[0]] = row[1]"
   ]
  },
  {
   "cell_type": "code",
   "execution_count": 733,
   "metadata": {},
   "outputs": [
    {
     "name": "stdout",
     "output_type": "stream",
     "text": [
      "I am device with ID 577. I don't have the chunk and have 5 forwards remaining.\n"
     ]
    }
   ],
   "source": [
    "dict_devices = {}\n",
    "for dev in device_list:\n",
    "    dict_devices[dev] = Device_3(dev,False,K,device_comm_dict[dev],\n",
    "                                 intra_community_transmit_probability,\n",
    "                                 inter_community_transmit_probability)\n",
    "dict_devices[26].has_chunk = True\n",
    "print(dict_devices[577])"
   ]
  },
  {
   "cell_type": "code",
   "execution_count": 734,
   "metadata": {},
   "outputs": [],
   "source": [
    "for ii, row in t.iterrows():\n",
    "    timestep = row[0]\n",
    "    device_1 = dict_devices[row[1]]\n",
    "    device_2 = dict_devices[row[2]]\n",
    "    device_1.try_forward(device_2)\n",
    "    device_2.try_forward(device_1)\n",
    "    if percent_devices_received > 0.90:\n",
    "        end_timestep = timestep\n",
    "        break"
   ]
  },
  {
   "cell_type": "code",
   "execution_count": 735,
   "metadata": {},
   "outputs": [
    {
     "data": {
      "text/plain": [
       "0"
      ]
     },
     "execution_count": 735,
     "metadata": {},
     "output_type": "execute_result"
    }
   ],
   "source": [
    "end_timestep"
   ]
  },
  {
   "cell_type": "code",
   "execution_count": 736,
   "metadata": {},
   "outputs": [
    {
     "data": {
      "text/plain": [
       "398"
      ]
     },
     "execution_count": 736,
     "metadata": {},
     "output_type": "execute_result"
    }
   ],
   "source": [
    "num_received"
   ]
  },
  {
   "cell_type": "code",
   "execution_count": 737,
   "metadata": {},
   "outputs": [
    {
     "name": "stdout",
     "output_type": "stream",
     "text": [
      "I am device with ID 2. I have the chunk and have 0 forwards remaining.\n"
     ]
    }
   ],
   "source": [
    "print(dict_devices[2])"
   ]
  },
  {
   "cell_type": "code",
   "execution_count": null,
   "metadata": {
    "collapsed": true
   },
   "outputs": [],
   "source": []
  },
  {
   "cell_type": "code",
   "execution_count": null,
   "metadata": {
    "collapsed": true
   },
   "outputs": [],
   "source": []
  }
 ],
 "metadata": {
  "kernelspec": {
   "display_name": "Python 3",
   "language": "python",
   "name": "python3"
  },
  "language_info": {
   "codemirror_mode": {
    "name": "ipython",
    "version": 3
   },
   "file_extension": ".py",
   "mimetype": "text/x-python",
   "name": "python",
   "nbconvert_exporter": "python",
   "pygments_lexer": "ipython3",
   "version": "3.6.3rc1"
  }
 },
 "nbformat": 4,
 "nbformat_minor": 2
}
