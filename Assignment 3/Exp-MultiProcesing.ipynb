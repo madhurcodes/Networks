{
 "cells": [
  {
   "cell_type": "code",
   "execution_count": 1,
   "metadata": {
    "collapsed": true
   },
   "outputs": [],
   "source": [
    "import csv\n",
    "import numpy as np\n",
    "import pandas as pd\n",
    "import random"
   ]
  },
  {
   "cell_type": "code",
   "execution_count": 2,
   "metadata": {
    "collapsed": true
   },
   "outputs": [],
   "source": [
    "import matplotlib.pyplot as plt\n",
    "import seaborn as sns\n",
    "%matplotlib inline"
   ]
  },
  {
   "cell_type": "code",
   "execution_count": 3,
   "metadata": {
    "collapsed": true
   },
   "outputs": [],
   "source": [
    "import threading"
   ]
  },
  {
   "cell_type": "code",
   "execution_count": 4,
   "metadata": {
    "collapsed": true
   },
   "outputs": [],
   "source": [
    "import random\n",
    "import time\n",
    "random.seed = 208"
   ]
  },
  {
   "cell_type": "code",
   "execution_count": 5,
   "metadata": {
    "collapsed": true
   },
   "outputs": [],
   "source": [
    "f = open(\"proximityedgestimestamps.csv\", \"r\")"
   ]
  },
  {
   "cell_type": "code",
   "execution_count": 6,
   "metadata": {
    "collapsed": true
   },
   "outputs": [],
   "source": [
    "t = pd.read_csv(\n",
    "    f,\n",
    "    header=None,\n",
    "    delimiter=\";\",\n",
    "    names=[\"Timestamp\", \"Device 1\", \"Device 2\"],\n",
    "    dtype=np.int32)"
   ]
  },
  {
   "cell_type": "code",
   "execution_count": 7,
   "metadata": {
    "collapsed": true
   },
   "outputs": [],
   "source": [
    "nu_data = t.as_matrix()"
   ]
  },
  {
   "cell_type": "code",
   "execution_count": 8,
   "metadata": {
    "scrolled": true
   },
   "outputs": [
    {
     "data": {
      "text/plain": [
       "(272165, 3)"
      ]
     },
     "execution_count": 8,
     "metadata": {},
     "output_type": "execute_result"
    }
   ],
   "source": [
    "nu_data.shape"
   ]
  },
  {
   "cell_type": "code",
   "execution_count": 9,
   "metadata": {
    "collapsed": true
   },
   "outputs": [],
   "source": [
    "f.close()"
   ]
  },
  {
   "cell_type": "code",
   "execution_count": 10,
   "metadata": {},
   "outputs": [
    {
     "data": {
      "text/html": [
       "<div>\n",
       "<style>\n",
       "    .dataframe thead tr:only-child th {\n",
       "        text-align: right;\n",
       "    }\n",
       "\n",
       "    .dataframe thead th {\n",
       "        text-align: left;\n",
       "    }\n",
       "\n",
       "    .dataframe tbody tr th {\n",
       "        vertical-align: top;\n",
       "    }\n",
       "</style>\n",
       "<table border=\"1\" class=\"dataframe\">\n",
       "  <thead>\n",
       "    <tr style=\"text-align: right;\">\n",
       "      <th></th>\n",
       "      <th>Timestamp</th>\n",
       "      <th>Device 1</th>\n",
       "      <th>Device 2</th>\n",
       "    </tr>\n",
       "  </thead>\n",
       "  <tbody>\n",
       "    <tr>\n",
       "      <th>0</th>\n",
       "      <td>21</td>\n",
       "      <td>26</td>\n",
       "      <td>5844</td>\n",
       "    </tr>\n",
       "    <tr>\n",
       "      <th>1</th>\n",
       "      <td>21</td>\n",
       "      <td>26</td>\n",
       "      <td>588</td>\n",
       "    </tr>\n",
       "    <tr>\n",
       "      <th>2</th>\n",
       "      <td>29</td>\n",
       "      <td>27</td>\n",
       "      <td>321</td>\n",
       "    </tr>\n",
       "    <tr>\n",
       "      <th>3</th>\n",
       "      <td>30</td>\n",
       "      <td>32</td>\n",
       "      <td>3</td>\n",
       "    </tr>\n",
       "    <tr>\n",
       "      <th>4</th>\n",
       "      <td>30</td>\n",
       "      <td>32</td>\n",
       "      <td>533</td>\n",
       "    </tr>\n",
       "    <tr>\n",
       "      <th>5</th>\n",
       "      <td>30</td>\n",
       "      <td>32</td>\n",
       "      <td>836</td>\n",
       "    </tr>\n",
       "    <tr>\n",
       "      <th>6</th>\n",
       "      <td>30</td>\n",
       "      <td>32</td>\n",
       "      <td>837</td>\n",
       "    </tr>\n",
       "    <tr>\n",
       "      <th>7</th>\n",
       "      <td>31</td>\n",
       "      <td>31</td>\n",
       "      <td>548</td>\n",
       "    </tr>\n",
       "    <tr>\n",
       "      <th>8</th>\n",
       "      <td>41</td>\n",
       "      <td>25</td>\n",
       "      <td>1172</td>\n",
       "    </tr>\n",
       "    <tr>\n",
       "      <th>9</th>\n",
       "      <td>41</td>\n",
       "      <td>25</td>\n",
       "      <td>572</td>\n",
       "    </tr>\n",
       "  </tbody>\n",
       "</table>\n",
       "</div>"
      ],
      "text/plain": [
       "   Timestamp  Device 1  Device 2\n",
       "0         21        26      5844\n",
       "1         21        26       588\n",
       "2         29        27       321\n",
       "3         30        32         3\n",
       "4         30        32       533\n",
       "5         30        32       836\n",
       "6         30        32       837\n",
       "7         31        31       548\n",
       "8         41        25      1172\n",
       "9         41        25       572"
      ]
     },
     "execution_count": 10,
     "metadata": {},
     "output_type": "execute_result"
    }
   ],
   "source": [
    "t[:10]"
   ]
  },
  {
   "cell_type": "markdown",
   "metadata": {},
   "source": [
    "Preliminary analysis shows that device id's are in the range **1 to 11934** and time is in range **21 to 349811**"
   ]
  },
  {
   "cell_type": "code",
   "execution_count": 11,
   "metadata": {
    "scrolled": false
   },
   "outputs": [
    {
     "data": {
      "text/html": [
       "<div>\n",
       "<style>\n",
       "    .dataframe thead tr:only-child th {\n",
       "        text-align: right;\n",
       "    }\n",
       "\n",
       "    .dataframe thead th {\n",
       "        text-align: left;\n",
       "    }\n",
       "\n",
       "    .dataframe tbody tr th {\n",
       "        vertical-align: top;\n",
       "    }\n",
       "</style>\n",
       "<table border=\"1\" class=\"dataframe\">\n",
       "  <thead>\n",
       "    <tr style=\"text-align: right;\">\n",
       "      <th></th>\n",
       "      <th>Timestamp</th>\n",
       "      <th>Device 1</th>\n",
       "      <th>Device 2</th>\n",
       "    </tr>\n",
       "  </thead>\n",
       "  <tbody>\n",
       "    <tr>\n",
       "      <th>count</th>\n",
       "      <td>272165.000000</td>\n",
       "      <td>272165.000000</td>\n",
       "      <td>272165.000000</td>\n",
       "    </tr>\n",
       "    <tr>\n",
       "      <th>mean</th>\n",
       "      <td>102423.374111</td>\n",
       "      <td>39.241651</td>\n",
       "      <td>836.406088</td>\n",
       "    </tr>\n",
       "    <tr>\n",
       "      <th>std</th>\n",
       "      <td>71762.366982</td>\n",
       "      <td>21.911135</td>\n",
       "      <td>1792.371328</td>\n",
       "    </tr>\n",
       "    <tr>\n",
       "      <th>min</th>\n",
       "      <td>21.000000</td>\n",
       "      <td>1.000000</td>\n",
       "      <td>1.000000</td>\n",
       "    </tr>\n",
       "    <tr>\n",
       "      <th>25%</th>\n",
       "      <td>32441.000000</td>\n",
       "      <td>19.000000</td>\n",
       "      <td>76.000000</td>\n",
       "    </tr>\n",
       "    <tr>\n",
       "      <th>50%</th>\n",
       "      <td>100237.000000</td>\n",
       "      <td>39.000000</td>\n",
       "      <td>547.000000</td>\n",
       "    </tr>\n",
       "    <tr>\n",
       "      <th>75%</th>\n",
       "      <td>179755.000000</td>\n",
       "      <td>60.000000</td>\n",
       "      <td>585.000000</td>\n",
       "    </tr>\n",
       "    <tr>\n",
       "      <th>max</th>\n",
       "      <td>349811.000000</td>\n",
       "      <td>76.000000</td>\n",
       "      <td>11934.000000</td>\n",
       "    </tr>\n",
       "  </tbody>\n",
       "</table>\n",
       "</div>"
      ],
      "text/plain": [
       "           Timestamp       Device 1       Device 2\n",
       "count  272165.000000  272165.000000  272165.000000\n",
       "mean   102423.374111      39.241651     836.406088\n",
       "std     71762.366982      21.911135    1792.371328\n",
       "min        21.000000       1.000000       1.000000\n",
       "25%     32441.000000      19.000000      76.000000\n",
       "50%    100237.000000      39.000000     547.000000\n",
       "75%    179755.000000      60.000000     585.000000\n",
       "max    349811.000000      76.000000   11934.000000"
      ]
     },
     "execution_count": 11,
     "metadata": {},
     "output_type": "execute_result"
    }
   ],
   "source": [
    "t.describe()"
   ]
  },
  {
   "cell_type": "code",
   "execution_count": 12,
   "metadata": {
    "collapsed": true
   },
   "outputs": [],
   "source": [
    "device_set = set()"
   ]
  },
  {
   "cell_type": "code",
   "execution_count": 13,
   "metadata": {
    "collapsed": true
   },
   "outputs": [],
   "source": [
    "for idx, row in t.iterrows():\n",
    "    device_set.add(row[1])\n",
    "    device_set.add(row[2])"
   ]
  },
  {
   "cell_type": "markdown",
   "metadata": {},
   "source": [
    "So we get 1723 device IDs"
   ]
  },
  {
   "cell_type": "code",
   "execution_count": 14,
   "metadata": {
    "collapsed": true
   },
   "outputs": [],
   "source": [
    "device_list = list(device_set)"
   ]
  },
  {
   "cell_type": "code",
   "execution_count": 15,
   "metadata": {
    "collapsed": true
   },
   "outputs": [],
   "source": [
    "device_list.sort()"
   ]
  },
  {
   "cell_type": "code",
   "execution_count": 16,
   "metadata": {
    "collapsed": true
   },
   "outputs": [],
   "source": [
    "random_sample = random.sample(device_list, 100)"
   ]
  },
  {
   "cell_type": "markdown",
   "metadata": {},
   "source": [
    "## Part 1"
   ]
  },
  {
   "cell_type": "code",
   "execution_count": null,
   "metadata": {
    "code_folding": [
     0
    ],
    "collapsed": true
   },
   "outputs": [],
   "source": [
    "class Device_1:\n",
    "    def __init__(self, id, has_chunk, num_forwards_initial):\n",
    "        self.idx = id\n",
    "        self.has_chunk = has_chunk\n",
    "        self.num_forwards = num_forwards_initial\n",
    "\n",
    "\n",
    "#       self.transmitted_to = set()\n",
    "\n",
    "    def try_forward(self, target_device):\n",
    "        if (self.has_chunk and (not target_device.has_chunk)\n",
    "                and (self.num_forwards > 0)):\n",
    "            self.num_forwards = self.num_forwards - 1\n",
    "            target_device.has_chunk = True\n",
    "            return 1\n",
    "        return 0\n",
    "\n",
    "    def __str__(self):\n",
    "        s = \"\"\n",
    "        s = s + \"Device with ID \" + str(self.idx)\n",
    "        if self.has_chunk:\n",
    "            s = s + \". I have the chunk and have \" + str(\n",
    "                self.num_forwards) + \" forwards remaining\"\n",
    "        else:\n",
    "            s = s + \". I don't have the chunk and have \" + str(\n",
    "                self.num_forwards) + \" forwards remaining\"\n",
    "        return s"
   ]
  },
  {
   "cell_type": "code",
   "execution_count": null,
   "metadata": {
    "code_folding": [
     0
    ],
    "collapsed": true
   },
   "outputs": [],
   "source": [
    "def do_exp1(K,\n",
    "            list_to_append_to,\n",
    "            thresh=0.90,\n",
    "            device_list=device_list,\n",
    "            data=nu_data,\n",
    "            start_node=26):\n",
    "    num_received = 1\n",
    "    num_total_devices = len(device_list)\n",
    "    percent_devices_received = num_received / num_total_devices\n",
    "    end_timestep = 0\n",
    "    dict_devices = {}\n",
    "    for dev in device_list:\n",
    "        dict_devices[dev] = Device_1(dev, False, K)\n",
    "    dict_devices[start_node].has_chunk = True\n",
    "    reached_thresh = False\n",
    "    for row in nu_data:\n",
    "        timestep = row[0]\n",
    "        device_1 = dict_devices[row[1]]\n",
    "        device_2 = dict_devices[row[2]]\n",
    "        num_received += device_1.try_forward(device_2)\n",
    "        num_received += device_2.try_forward(device_1)\n",
    "        percent_devices_received = num_received / num_total_devices\n",
    "        if percent_devices_received > thresh:\n",
    "            end_timestep = timestep\n",
    "            reached_thresh = True\n",
    "            break\n",
    "    list_to_append_to.append((K, reached_thresh, num_received, end_timestep))"
   ]
  },
  {
   "cell_type": "code",
   "execution_count": null,
   "metadata": {
    "code_folding": [],
    "collapsed": true,
    "scrolled": true
   },
   "outputs": [],
   "source": [
    "start = time.time()\n",
    "thl = []\n",
    "list_of_results = []\n",
    "for K in range(1, 91):\n",
    "    nt = threading.Thread(target=do_exp1, args=(K, list_of_results))\n",
    "    thl.append(nt)\n",
    "    nt.start()\n",
    "for ele in thl:\n",
    "    ele.join()\n",
    "print(time.time() - start)"
   ]
  },
  {
   "cell_type": "code",
   "execution_count": null,
   "metadata": {
    "collapsed": true
   },
   "outputs": [],
   "source": [
    "list_of_results.sort(key=lambda x: x[0])"
   ]
  },
  {
   "cell_type": "code",
   "execution_count": null,
   "metadata": {
    "collapsed": true
   },
   "outputs": [],
   "source": [
    "results_not_reached_thresh = []\n",
    "results_reached_thresh = []\n",
    "for res in list_of_results:\n",
    "    if not res[1]:\n",
    "        results_not_reached_thresh.append([res[0], res[2]])\n",
    "    else:\n",
    "        results_reached_thresh.append([res[0], res[3]])"
   ]
  },
  {
   "cell_type": "code",
   "execution_count": null,
   "metadata": {
    "collapsed": true
   },
   "outputs": [],
   "source": [
    "n_df = pd.DataFrame(\n",
    "    results_not_reached_thresh, columns=[\"K\", \"Number_Received\"])\n",
    "y_df = pd.DataFrame(results_reached_thresh, columns=[\"K\", \"Time_Taken\"])"
   ]
  },
  {
   "cell_type": "code",
   "execution_count": null,
   "metadata": {
    "collapsed": true
   },
   "outputs": [],
   "source": [
    "sns.lmplot(x=\"K\", y=\"Number_Received\", data=n_df, fit_reg=False)"
   ]
  },
  {
   "cell_type": "code",
   "execution_count": null,
   "metadata": {
    "collapsed": true
   },
   "outputs": [],
   "source": [
    "sns.lmplot(x=\"K\", y=\"Time_Taken\", data=y_df, fit_reg=False)"
   ]
  },
  {
   "cell_type": "markdown",
   "metadata": {},
   "source": [
    "**(a)** These two plots represent what happens to the _distribution of chunks_ with changing K values. We see that from **K = 1 to K = 48 the chunks don't reach** the necessary 90% of nodes and we plot the number of nodes that have received the chunk at the end. For **K = 50 to K = 90** (and beyond) the chunks do reach 90% of the nodes and we plot the time taken to reach 90% nodes. The relationships can be easily seen. In the earlier case the number of nodes getting the messages increases with increasing K (in a logarithmic fashion), while in the latter example the time taken decreases with increasing K, finally saturating at **t = 205775 reached first at K = 80**."
   ]
  },
  {
   "cell_type": "markdown",
   "metadata": {},
   "source": [
    "**(b)** The number of copies of the chunk made equals the number of nodes that have received the broadcast."
   ]
  },
  {
   "cell_type": "code",
   "execution_count": null,
   "metadata": {
    "code_folding": [],
    "collapsed": true
   },
   "outputs": [],
   "source": [
    "start = time.time()\n",
    "thl = []\n",
    "dict_of_results = {}\n",
    "for K in range(1, 91):\n",
    "    dict_of_results[K] = []\n",
    "    for start_device in random_sample:\n",
    "        nt = threading.Thread(\n",
    "            target=do_exp1,\n",
    "            args=(K, dict_of_results[K]),\n",
    "            kwargs={\n",
    "                \"start_node\": start_device\n",
    "            })\n",
    "        thl.append(nt)\n",
    "        nt.start()\n",
    "for ele in thl:\n",
    "    ele.join()\n",
    "print(time.time() - start)"
   ]
  },
  {
   "cell_type": "code",
   "execution_count": null,
   "metadata": {
    "collapsed": true
   },
   "outputs": [],
   "source": [
    "import pickle\n",
    "with open(\"exp1_res\", \"wb\") as f:\n",
    "    pickle.dump(dict_of_results, f, pickle.HIGHEST_PROTOCOL)\n",
    "# with open(\"super.file\", \"rb\") as f:\n",
    "#     dump = pickle.load(f)"
   ]
  },
  {
   "cell_type": "code",
   "execution_count": null,
   "metadata": {
    "collapsed": true
   },
   "outputs": [],
   "source": [
    "l = []\n",
    "for key, el in dict_of_results.items():\n",
    "    ll = []\n",
    "    for tup in el:\n",
    "        ll.append(tup[2])\n",
    "    l.append(ll)"
   ]
  },
  {
   "cell_type": "code",
   "execution_count": null,
   "metadata": {
    "collapsed": true
   },
   "outputs": [],
   "source": [
    "nd = np.asarray(l)\n",
    "means = nd.mean(axis=1)\n",
    "stds = nd.std(axis=1)\n",
    "vals = np.asarray(range(1, 91))\n",
    "means = means.squeeze()\n",
    "stds = stds.squeeze()\n",
    "res_df = pd.DataFrame(data={\"K\": vals, \"Mean\": means, \"Std Dev\": stds})"
   ]
  },
  {
   "cell_type": "code",
   "execution_count": null,
   "metadata": {
    "collapsed": true
   },
   "outputs": [],
   "source": [
    "plt.errorbar(vals, means, yerr=stds, ecolor=\"red\")\n",
    "plt.xlabel(\"K\")\n",
    "plt.ylabel(\"Nodes Received\")"
   ]
  },
  {
   "cell_type": "markdown",
   "metadata": {},
   "source": [
    "Here we have plotted the nodes that received the transmissions as a function of K for **100 starting nodes **with mean and error bars. After some steps is the time taken plot."
   ]
  },
  {
   "cell_type": "code",
   "execution_count": null,
   "metadata": {
    "collapsed": true
   },
   "outputs": [],
   "source": [
    "l = []"
   ]
  },
  {
   "cell_type": "code",
   "execution_count": null,
   "metadata": {
    "collapsed": true
   },
   "outputs": [],
   "source": [
    "for key, el in dict_of_results.items():\n",
    "    ll = []\n",
    "    for tup in el:\n",
    "        if tup[1]:\n",
    "            ll.append(tup[3])\n",
    "    l.append(ll)"
   ]
  },
  {
   "cell_type": "markdown",
   "metadata": {},
   "source": [
    "Starting from K = 47"
   ]
  },
  {
   "cell_type": "code",
   "execution_count": null,
   "metadata": {
    "collapsed": true
   },
   "outputs": [],
   "source": [
    "l = [el for el in l if el != []]"
   ]
  },
  {
   "cell_type": "code",
   "execution_count": null,
   "metadata": {
    "collapsed": true
   },
   "outputs": [],
   "source": [
    "means = [np.mean(i) for i in l]\n",
    "stds = [np.std(i) for i in l]"
   ]
  },
  {
   "cell_type": "code",
   "execution_count": null,
   "metadata": {
    "collapsed": true
   },
   "outputs": [],
   "source": [
    "vals = [i for i in range(47, 91)]"
   ]
  },
  {
   "cell_type": "code",
   "execution_count": null,
   "metadata": {
    "collapsed": true
   },
   "outputs": [],
   "source": [
    "res_df = pd.DataFrame(data={\"K\": vals, \"Mean\": means, \"Std Dev\": stds})"
   ]
  },
  {
   "cell_type": "code",
   "execution_count": null,
   "metadata": {
    "collapsed": true,
    "scrolled": true
   },
   "outputs": [],
   "source": [
    "plt.errorbar(vals, means, yerr=stds, ecolor=\"red\")\n",
    "plt.xlabel(\"K\")\n",
    "plt.ylabel(\"Time Taken\")"
   ]
  },
  {
   "cell_type": "markdown",
   "metadata": {},
   "source": [
    "**(c)** This is the plot of time taken with K, computed as mean over 100 starting nodes. Only starting nodes where we reach 90% are considered in taking the average. We also plot the standard deviation as error bars. We can see that the trend observed earlier is observed here too, specifically **time taken reduces with increasing K**. Near the end a small bump is observed which could be beacause by increasing K we are getting some more nodes into the average (due to them hitting the threshold), thereby increasing the average time taken."
   ]
  },
  {
   "cell_type": "markdown",
   "metadata": {},
   "source": [
    "## Part 2"
   ]
  },
  {
   "cell_type": "code",
   "execution_count": 17,
   "metadata": {
    "code_folding": [
     0
    ],
    "collapsed": true
   },
   "outputs": [],
   "source": [
    "class Device_2:\n",
    "    def __init__(self,\n",
    "                 idx,\n",
    "                 degree,\n",
    "                 has_chunk,\n",
    "                 is_super_node,\n",
    "                 is_least_mobile_node,\n",
    "                 super_transmit_prob,\n",
    "                 normal_transmit_prob,\n",
    "                 least_transmit_prob=1):\n",
    "        self.idx = idx\n",
    "        self.degree = degree\n",
    "        self.num_transmissions_done = 0\n",
    "        self.has_chunk = has_chunk\n",
    "        self.is_super_node = is_super_node\n",
    "        self.is_least_mobile_node = is_least_mobile_node\n",
    "        self.super_transmit_prob = super_transmit_prob\n",
    "        self.normal_transmit_prob = normal_transmit_prob\n",
    "        self.least_transmit_prob = least_transmit_prob\n",
    "        assert not (is_least_mobile_node and is_super_node)\n",
    "\n",
    "    def try_forward(self, target_device):\n",
    "        if (self.has_chunk and (not target_device.has_chunk)):\n",
    "            if target_device.is_least_mobile_node:\n",
    "                if random.random() < self.least_transmit_prob:\n",
    "                    return self.do_forward(target_device)\n",
    "            elif target_device.is_super_node:\n",
    "                if random.random() < self.super_transmit_prob:\n",
    "                    return self.do_forward(target_device)\n",
    "            else:\n",
    "                if random.random() < self.normal_transmit_prob:\n",
    "                    return self.do_forward(target_device)\n",
    "        return 0\n",
    "\n",
    "    def do_forward(self, target_device):\n",
    "        target_device.has_chunk = True\n",
    "        self.num_transmissions_done = self.num_transmissions_done + 1\n",
    "        return 1\n",
    "\n",
    "    def __str__(self):\n",
    "        s = \"\"\n",
    "        s = s + \"I am device with ID \" + str(self.idx) + \" and degree \" + str(\n",
    "            self.degree) + \" \"\n",
    "        if self.is_super_node: s = s + \" (am super node) \"\n",
    "        if self.is_least_mobile_node: s = s + \" (am least mobile node) \"\n",
    "        if self.has_chunk: s = s + \". I have the chunk\"\n",
    "        else: s = s + \". I don't have the chunk.\"\n",
    "        return s"
   ]
  },
  {
   "cell_type": "code",
   "execution_count": 18,
   "metadata": {
    "collapsed": true
   },
   "outputs": [],
   "source": [
    "degree_dict = {}\n",
    "neigh_dict = {}\n",
    "for i in device_list:\n",
    "    degree_dict[i] = 0\n",
    "    neigh_dict[i] = []"
   ]
  },
  {
   "cell_type": "code",
   "execution_count": 19,
   "metadata": {
    "collapsed": true
   },
   "outputs": [],
   "source": [
    "for row in nu_data:\n",
    "    if row[2] not in neigh_dict[row[1]]:\n",
    "        degree_dict[row[1]] += 1\n",
    "        neigh_dict[row[1]].append(row[2])\n",
    "    if row[1] not in neigh_dict[row[2]]:\n",
    "        degree_dict[row[2]] += 1\n",
    "        neigh_dict[row[2]].append(row[1])"
   ]
  },
  {
   "cell_type": "code",
   "execution_count": 20,
   "metadata": {
    "collapsed": true
   },
   "outputs": [],
   "source": [
    "degrees = degree_dict.values()\n",
    "maxy = max(degrees)\n",
    "miny = min(degrees)\n",
    "lis = []\n",
    "for d in range(miny, maxy + 1):\n",
    "    lis.append((d, sum(i <= d for i in degrees)))"
   ]
  },
  {
   "cell_type": "code",
   "execution_count": 21,
   "metadata": {},
   "outputs": [
    {
     "data": {
      "text/plain": [
       "<seaborn.axisgrid.FacetGrid at 0x16897707a20>"
      ]
     },
     "execution_count": 21,
     "metadata": {},
     "output_type": "execute_result"
    },
    {
     "data": {
      "image/png": "[encoded data removed]",
      "text/plain": [
       "<matplotlib.figure.Figure at 0x16897707b38>"
      ]
     },
     "metadata": {},
     "output_type": "display_data"
    }
   ],
   "source": [
    "num_df = pd.DataFrame(data=lis, columns=[\"Degree\", \"Number of Nodes\"])\n",
    "sns.lmplot(x=\"Degree\", y=\"Number of Nodes\", data=num_df, fit_reg=False)"
   ]
  },
  {
   "cell_type": "code",
   "execution_count": 22,
   "metadata": {
    "collapsed": true
   },
   "outputs": [],
   "source": [
    "import math\n",
    "log_log_list = [[i, math.log(math.log(j))] for i, j in lis]"
   ]
  },
  {
   "cell_type": "code",
   "execution_count": 23,
   "metadata": {
    "collapsed": true
   },
   "outputs": [],
   "source": [
    "cum_df = pd.DataFrame(\n",
    "    data=log_log_list, columns=[\"Degree\", \"Log Log Number of Nodes\"])"
   ]
  },
  {
   "cell_type": "code",
   "execution_count": 24,
   "metadata": {
    "scrolled": true
   },
   "outputs": [
    {
     "data": {
      "text/plain": [
       "<seaborn.axisgrid.FacetGrid at 0x16897d5fc50>"
      ]
     },
     "execution_count": 24,
     "metadata": {},
     "output_type": "execute_result"
    },
    {
     "data": {
      "image/png": "[encoded data removed]",
      "text/plain": [
       "<matplotlib.figure.Figure at 0x16897d5fb70>"
      ]
     },
     "metadata": {},
     "output_type": "display_data"
    }
   ],
   "source": [
    "sns.lmplot(x=\"Degree\", y=\"Log Log Number of Nodes\", data=cum_df, fit_reg=False)"
   ]
  },
  {
   "cell_type": "markdown",
   "metadata": {},
   "source": [
    "This is the cumulative distribution plot of the **number of nodes with the degree of the nodes**. As can be seen, **most of the nodes have small degrees** and the latter part of the graph is basically a straight line."
   ]
  },
  {
   "cell_type": "code",
   "execution_count": null,
   "metadata": {
    "code_folding": [],
    "collapsed": true
   },
   "outputs": [],
   "source": [
    "def do_exp2(list_to_append_to,\n",
    "            super_node_percentile=0.5,\n",
    "            least_mobile_percentile=70,\n",
    "            super_node_prob=0.5,\n",
    "            normal_node_prob=0.5,\n",
    "            thresh=0.90,\n",
    "            degree_dict=degree_dict,\n",
    "            device_list=device_list,\n",
    "            data=nu_data,\n",
    "            start_node=26):\n",
    "\n",
    "    num_received = 1\n",
    "    num_total_devices = len(device_list)\n",
    "    percent_devices_received = num_received / num_total_devices\n",
    "    end_timestep = 0\n",
    "\n",
    "    super_node_percentile = super_node_percentile  # from top\n",
    "    least_mobile_percentile = least_mobile_percentile  # from bottom\n",
    "\n",
    "    super_node_prob = super_node_prob\n",
    "    normal_node_prob = normal_node_prob  # arbitrary assumption\n",
    "\n",
    "    degree_list = list(degree_dict.values())\n",
    "    super_node_cutoff = np.percentile(degree_list, 100 - super_node_percentile)\n",
    "    least_mobile_cutoff = np.percentile(degree_list, least_mobile_percentile)\n",
    "\n",
    "    dict_devices = {}\n",
    "\n",
    "    for dev in device_list:\n",
    "        if (degree_dict[dev] < least_mobile_cutoff):\n",
    "            dict_devices[dev] = Device_2(dev, degree_dict[dev], False, False,\n",
    "                                         True, super_node_prob,\n",
    "                                         normal_node_prob)\n",
    "        elif (degree_dict[dev] > super_node_cutoff):\n",
    "            dict_devices[dev] = Device_2(dev, degree_dict[dev], False, True,\n",
    "                                         False, super_node_prob,\n",
    "                                         normal_node_prob)\n",
    "        else:\n",
    "            dict_devices[dev] = Device_2(dev, degree_dict[dev], False, False,\n",
    "                                         False, super_node_prob,\n",
    "                                         normal_node_prob)\n",
    "\n",
    "    dict_devices[start_node].has_chunk = True\n",
    "    reached_thresh = False\n",
    "\n",
    "    for row in nu_data:\n",
    "        timestep = row[0]\n",
    "        device_1 = dict_devices[row[1]]\n",
    "        device_2 = dict_devices[row[2]]\n",
    "        num_received += device_1.try_forward(device_2)\n",
    "        num_received += device_2.try_forward(device_1)\n",
    "        percent_devices_received = num_received / num_total_devices\n",
    "        if percent_devices_received > thresh:\n",
    "            end_timestep = timestep\n",
    "            reached_thresh = True\n",
    "            break\n",
    "\n",
    "    num_normal = 0\n",
    "    num_super = 0\n",
    "    num_least = 0\n",
    "\n",
    "    tot_normal = 0\n",
    "    tot_super = 0\n",
    "    tot_least = 0\n",
    "\n",
    "    num_transmission_done_list = []\n",
    "\n",
    "    for (iden, device) in dict_devices.items():\n",
    "        num_transmission_done_list.append(device.num_transmissions_done)\n",
    "        if device.is_super_node:\n",
    "            num_super += 1\n",
    "            tot_super += device.num_transmissions_done\n",
    "            assert not device.is_least_mobile_node\n",
    "        elif device.is_least_mobile_node:\n",
    "            num_least += 1\n",
    "            tot_least += device.num_transmissions_done\n",
    "            assert not device.is_super_node\n",
    "        else:\n",
    "            num_normal += 1\n",
    "            tot_normal += device.num_transmissions_done\n",
    "            assert not device.is_super_node\n",
    "            assert not device.is_least_mobile_node\n",
    "\n",
    "    mean_normal = tot_normal / num_normal\n",
    "    mean_super = tot_super / num_super\n",
    "    mean_least = tot_least / num_least\n",
    "\n",
    "    num_transmission_done_arr = np.asarray(num_transmission_done_list)\n",
    "\n",
    "    two_diff_sum = np.sum(\n",
    "        np.abs(num_transmission_done_arr[:, np.newaxis] -\n",
    "               num_transmission_done_arr))\n",
    "    gini = two_diff_sum / (2 * len(num_transmission_done_list) *\n",
    "                           (0.000001 + np.sum(num_transmission_done_arr)))\n",
    "\n",
    "    list_to_append_to.append(\n",
    "        (super_node_prob, reached_thresh, num_received, end_timestep,\n",
    "         mean_normal, mean_super, mean_least, gini))"
   ]
  },
  {
   "cell_type": "code",
   "execution_count": null,
   "metadata": {
    "collapsed": true
   },
   "outputs": [],
   "source": [
    "tl = []\n",
    "do_exp2(tl)"
   ]
  },
  {
   "cell_type": "code",
   "execution_count": null,
   "metadata": {
    "collapsed": true,
    "scrolled": true
   },
   "outputs": [],
   "source": [
    "tl"
   ]
  },
  {
   "cell_type": "code",
   "execution_count": null,
   "metadata": {
    "collapsed": true
   },
   "outputs": [],
   "source": [
    "probs = np.linspace(0, 1, num=100)"
   ]
  },
  {
   "cell_type": "code",
   "execution_count": null,
   "metadata": {
    "collapsed": true
   },
   "outputs": [],
   "source": [
    "start = time.time()\n",
    "thl = []\n",
    "list_of_results = []\n",
    "for p in probs:\n",
    "    nt = threading.Thread(\n",
    "        target=do_exp2,\n",
    "        args=(list_of_results, ),\n",
    "        kwargs={\n",
    "            \"super_node_prob\": p,\n",
    "            \"normal_node_prob\": 1 - p\n",
    "        })\n",
    "    thl.append(nt)\n",
    "    nt.start()\n",
    "for ele in thl:\n",
    "    ele.join()\n",
    "print(time.time() - start)"
   ]
  },
  {
   "cell_type": "code",
   "execution_count": null,
   "metadata": {
    "collapsed": true
   },
   "outputs": [],
   "source": [
    "res = pd.DataFrame(\n",
    "    list_of_results,\n",
    "    columns=[\n",
    "        \"Super Node Probability\", \"Reached Threshold\", \"Nodes Reached\",\n",
    "        \"Time Taken\", \"Mean Normal Transmissions\", \"Mean Super Transmissions\",\n",
    "        \"Mean Least Mobile Transmissions\", \"Gini Coeff.\"\n",
    "    ])"
   ]
  },
  {
   "cell_type": "code",
   "execution_count": null,
   "metadata": {
    "collapsed": true
   },
   "outputs": [],
   "source": [
    "res[:5]"
   ]
  },
  {
   "cell_type": "code",
   "execution_count": null,
   "metadata": {
    "collapsed": true
   },
   "outputs": [],
   "source": [
    "res[-5:]"
   ]
  },
  {
   "cell_type": "markdown",
   "metadata": {},
   "source": [
    "As we see only when Super node probability becomes very large ( >0.96 ), normal node probability decreases very much and therefore we are not able to reach the threshold in the given time"
   ]
  },
  {
   "cell_type": "code",
   "execution_count": null,
   "metadata": {
    "collapsed": true,
    "scrolled": false
   },
   "outputs": [],
   "source": [
    "sns.lmplot(\n",
    "    x=\"Super Node Probability\", y=\"Time Taken\", data=res[:-3],\n",
    "    fit_reg=True)  # ignoring where we don't reach thresh\n",
    "sns.lmplot(\n",
    "    x=\"Super Node Probability\",\n",
    "    y=\"Mean Super Transmissions\",\n",
    "    data=res,\n",
    "    fit_reg=True)\n",
    "sns.lmplot(\n",
    "    x=\"Super Node Probability\",\n",
    "    y=\"Mean Normal Transmissions\",\n",
    "    data=res,\n",
    "    fit_reg=True)\n",
    "sns.lmplot(\n",
    "    x=\"Super Node Probability\",\n",
    "    y=\"Mean Least Mobile Transmissions\",\n",
    "    data=res,\n",
    "    fit_reg=True)"
   ]
  },
  {
   "cell_type": "markdown",
   "metadata": {},
   "source": [
    "**(a)** The plots show the time taken and the mean number of transmissions by different categories of devices plotted with respect to the super node transmission probability. Note that **normal node probability is one minus the super node probability**.  \n",
    "A clear upward trend in mean super node transmissions with increasing super node transmission probability and a reverse trend in mean normal node transmission is observed. This is as expected since we shift the **burden of transmission towards the super nodes** when we increase their transmission probability. Below we use the _GINI coefficient_ to compare inequality in the distribution of transmissions.\n"
   ]
  },
  {
   "cell_type": "code",
   "execution_count": null,
   "metadata": {
    "collapsed": true
   },
   "outputs": [],
   "source": [
    "sns.lmplot(x=\"Super Node Probability\", y=\"Gini Coeff.\", data=res, fit_reg=True)"
   ]
  },
  {
   "cell_type": "markdown",
   "metadata": {
    "collapsed": true
   },
   "source": [
    "### Gini Coefficient \n",
    "Gini Coefficient is a measure of statistical dispersion. It indicates the amount of ineuqality in the distribution. We plot the **Gini Coefficient** with super node probability. We see here that the Gini Coefficent is very high which is because a small fraction of the nodes do much of the transmissions."
   ]
  },
  {
   "cell_type": "code",
   "execution_count": null,
   "metadata": {
    "collapsed": true
   },
   "outputs": [],
   "source": [
    "probs = np.linspace(0, 1, num=100)"
   ]
  },
  {
   "cell_type": "code",
   "execution_count": null,
   "metadata": {
    "code_folding": [],
    "collapsed": true
   },
   "outputs": [],
   "source": [
    "start = time.time()\n",
    "thl = []\n",
    "dict_of_results = {}\n",
    "for p in probs:\n",
    "    dict_of_results[p] = []\n",
    "    for start_device in random_sample:\n",
    "        nt = threading.Thread(\n",
    "            target=do_exp2,\n",
    "            args=(dict_of_results[p], ),\n",
    "            kwargs={\n",
    "                \"start_node\": start_device,\n",
    "                \"super_node_prob\": p,\n",
    "                \"normal_node_prob\": 1 - p\n",
    "            })\n",
    "        thl.append(nt)\n",
    "        nt.start()\n",
    "for ele in thl:\n",
    "    ele.join()\n",
    "print(time.time() - start)"
   ]
  },
  {
   "cell_type": "code",
   "execution_count": null,
   "metadata": {
    "collapsed": true
   },
   "outputs": [],
   "source": [
    "import pickle\n",
    "with open(\"exp2_res.pickle\", \"wb\") as f:\n",
    "    pickle.dump(dict_of_results, f, pickle.HIGHEST_PROTOCOL)\n",
    "# with open(\"exp2_res.pickle\", \"rb\") as f:\n",
    "#     dump = pickle.load(f)"
   ]
  },
  {
   "cell_type": "code",
   "execution_count": null,
   "metadata": {
    "code_folding": [
     1
    ],
    "collapsed": true
   },
   "outputs": [],
   "source": [
    "l = []\n",
    "for key, el in dict_of_results.items():\n",
    "    norm = []\n",
    "    sup = []\n",
    "    least = []\n",
    "    gini = []\n",
    "    times = []\n",
    "    for tup in el:\n",
    "        if tup[1]: times.append(tup[3])\n",
    "        norm.append(tup[4])\n",
    "        sup.append(tup[5])\n",
    "        least.append(tup[6])\n",
    "        gini.append(tup[7])\n",
    "\n",
    "    norm_mean = np.mean(norm)\n",
    "    norm_std = np.std(norm)\n",
    "\n",
    "    sup_mean = np.mean(sup)\n",
    "    sup_std = np.std(sup)\n",
    "\n",
    "    least_mean = np.mean(least)\n",
    "    least_std = np.std(least)\n",
    "\n",
    "    gini_mean = np.mean(gini)\n",
    "    gini_std = np.std(gini)\n",
    "    if len(times) == 0:\n",
    "        times_mean = 349811\n",
    "        times_std = 0\n",
    "    else:\n",
    "        times_mean = np.mean(times)\n",
    "        times_std = np.std(times)\n",
    "    l.append([\n",
    "        tup[0], norm_mean, norm_std, sup_mean, sup_std, least_mean, least_std,\n",
    "        gini_mean, gini_std, times_mean, times_std\n",
    "    ])"
   ]
  },
  {
   "cell_type": "code",
   "execution_count": null,
   "metadata": {
    "collapsed": true
   },
   "outputs": [],
   "source": [
    "res_df = pd.DataFrame(\n",
    "    data=l,\n",
    "    columns=[\n",
    "        \"Super Node Probability\", \"Normal Mean\", \"Normal StdDev\", \"Super Mean\",\n",
    "        \"Super StdDev\", \"Least Mean\", \"Least StdDev\", \"Gini Mean\",\n",
    "        \"Gini StdDev\", \"Time Taken Mean\", \"Time Taken StdDev\"\n",
    "    ])"
   ]
  },
  {
   "cell_type": "code",
   "execution_count": null,
   "metadata": {
    "collapsed": true
   },
   "outputs": [],
   "source": [
    "res_df.head()"
   ]
  },
  {
   "cell_type": "code",
   "execution_count": null,
   "metadata": {
    "code_folding": [
     0
    ],
    "collapsed": true,
    "scrolled": true
   },
   "outputs": [],
   "source": [
    "def plot_stuff(res_df):\n",
    "    plt.errorbar(\n",
    "        res_df[\"Super Node Probability\"],\n",
    "        res_df[\"Time Taken Mean\"],\n",
    "        yerr=res_df[\"Time Taken StdDev\"],\n",
    "        ecolor=\"red\",\n",
    "        fmt='o')\n",
    "    plt.xlabel(\"Super Node Probability\")\n",
    "    plt.ylabel(\"Time Taken\")\n",
    "    plt.figure()\n",
    "    plt.errorbar(\n",
    "        res_df[\"Super Node Probability\"],\n",
    "        res_df[\"Normal Mean\"],\n",
    "        yerr=res_df[\"Normal StdDev\"],\n",
    "        ecolor=\"red\",\n",
    "        fmt='o')\n",
    "    plt.xlabel(\"Super Node Probability\")\n",
    "    plt.ylabel(\"Normal Node Transmissions\")\n",
    "    plt.figure()\n",
    "    plt.errorbar(\n",
    "        res_df[\"Super Node Probability\"],\n",
    "        res_df[\"Super Mean\"],\n",
    "        yerr=res_df[\"Super StdDev\"],\n",
    "        ecolor=\"red\",\n",
    "        fmt='o')\n",
    "    plt.xlabel(\"Super Node Probability\")\n",
    "    plt.ylabel(\"Super Node Transmissions\")\n",
    "    plt.figure()\n",
    "    plt.errorbar(\n",
    "        res_df[\"Super Node Probability\"],\n",
    "        res_df[\"Least Mean\"],\n",
    "        yerr=res_df[\"Least StdDev\"],\n",
    "        ecolor=\"red\",\n",
    "        fmt='o')\n",
    "    plt.xlabel(\"Super Node Probability\")\n",
    "    plt.ylabel(\"Least Mobile Node Transmissions\")\n",
    "    plt.figure()\n",
    "    plt.errorbar(\n",
    "        res_df[\"Super Node Probability\"],\n",
    "        res_df[\"Gini Mean\"],\n",
    "        yerr=res_df[\"Gini StdDev\"],\n",
    "        ecolor=\"red\",\n",
    "        fmt='o')\n",
    "    plt.xlabel(\"Super Node Probability\")\n",
    "    plt.ylabel(\"Gini Coefficient\")"
   ]
  },
  {
   "cell_type": "code",
   "execution_count": null,
   "metadata": {
    "collapsed": true
   },
   "outputs": [],
   "source": [
    "plot_stuff(res_df)"
   ]
  },
  {
   "cell_type": "markdown",
   "metadata": {},
   "source": [
    "**(b)** Now the experiments are repeated using a random subset of 100 nodes as starting nodes. We plot various measures above as **means** over 100 samples with **error bars representing standard deviations**. "
   ]
  },
  {
   "cell_type": "markdown",
   "metadata": {},
   "source": [
    "## Varying S and L"
   ]
  },
  {
   "cell_type": "code",
   "execution_count": null,
   "metadata": {
    "code_folding": [
     2
    ],
    "collapsed": true,
    "scrolled": true
   },
   "outputs": [],
   "source": [
    "S_Values = [0.5, 1, 5, 10, 20]  # Taking L = 70 percentile\n",
    "dict_of_res_dfs = {}\n",
    "for S in S_Values:\n",
    "    start = time.time()\n",
    "    thl = []\n",
    "    dict_of_results = {}\n",
    "    for p in probs:\n",
    "        dict_of_results[p] = []\n",
    "        for start_device in random_sample:\n",
    "            nt = threading.Thread(\n",
    "                target=do_exp2,\n",
    "                args=(dict_of_results[p], ),\n",
    "                kwargs={\n",
    "                    \"start_node\": start_device,\n",
    "                    \"super_node_percentile\": S,\n",
    "                    \"super_node_prob\": p,\n",
    "                    \"normal_node_prob\": 1 - p\n",
    "                })\n",
    "            thl.append(nt)\n",
    "            nt.start()\n",
    "    for ele in thl:\n",
    "        ele.join()\n",
    "    print(time.time() - start)\n",
    "    l = []\n",
    "    for key, el in dict_of_results.items():\n",
    "        norm = []\n",
    "        sup = []\n",
    "        least = []\n",
    "        gini = []\n",
    "        times = []\n",
    "        for tup in el:\n",
    "            if tup[1]: times.append(tup[3])\n",
    "            norm.append(tup[4])\n",
    "            sup.append(tup[5])\n",
    "            least.append(tup[6])\n",
    "            gini.append(tup[7])\n",
    "\n",
    "        norm_mean = np.mean(norm)\n",
    "        norm_std = np.std(norm)\n",
    "\n",
    "        sup_mean = np.mean(sup)\n",
    "        sup_std = np.std(sup)\n",
    "\n",
    "        least_mean = np.mean(least)\n",
    "        least_std = np.std(least)\n",
    "\n",
    "        gini_mean = np.mean(gini)\n",
    "        gini_std = np.std(gini)\n",
    "        if len(times) == 0:\n",
    "            times_mean = 349811\n",
    "            times_std = 0\n",
    "        else:\n",
    "            times_mean = np.mean(times)\n",
    "            times_std = np.std(times)\n",
    "        l.append([\n",
    "            tup[0], norm_mean, norm_std, sup_mean, sup_std, least_mean,\n",
    "            least_std, gini_mean, gini_std, times_mean, times_std\n",
    "        ])\n",
    "    res_df = pd.DataFrame(\n",
    "        data=l,\n",
    "        columns=[\n",
    "            \"Super Node Probability\", \"Normal Mean\", \"Normal StdDev\",\n",
    "            \"Super Mean\", \"Super StdDev\", \"Least Mean\", \"Least StdDev\",\n",
    "            \"Gini Mean\", \"Gini StdDev\", \"Time Taken Mean\", \"Time Taken StdDev\"\n",
    "        ])\n",
    "    dict_of_res_dfs[S] = res_df\n",
    "#     print(\"-----------------------------------------------------\")\n",
    "#     print(\"S Value: \", S)\n",
    "#     plot_stuff(res_df)\n",
    "#     print(\"-----------------------------------------------------\")"
   ]
  },
  {
   "cell_type": "code",
   "execution_count": null,
   "metadata": {
    "collapsed": true
   },
   "outputs": [],
   "source": [
    "import pickle\n",
    "# with open(\"exp2_res2.pickle\", \"wb\") as f:\n",
    "#     pickle.dump(dict_of_res_dfs, f, pickle.HIGHEST_PROTOCOL)\n",
    "with open(\"exp2_res2.pickle\", \"rb\") as f:\n",
    "    dict_of_res_dfs = pickle.load(f)"
   ]
  },
  {
   "cell_type": "markdown",
   "metadata": {},
   "source": [
    "### S = 0.5 percentile, L = 70 Percentile"
   ]
  },
  {
   "cell_type": "code",
   "execution_count": null,
   "metadata": {
    "collapsed": true
   },
   "outputs": [],
   "source": [
    "plot_stuff(dict_of_res_dfs[0.5])"
   ]
  },
  {
   "cell_type": "markdown",
   "metadata": {},
   "source": [
    "### S = 1 percentile, L = 70 Percentile"
   ]
  },
  {
   "cell_type": "code",
   "execution_count": null,
   "metadata": {
    "collapsed": true
   },
   "outputs": [],
   "source": [
    "plot_stuff(dict_of_res_dfs[1])"
   ]
  },
  {
   "cell_type": "markdown",
   "metadata": {},
   "source": [
    "### S = 5 percentile, L = 70 Percentile"
   ]
  },
  {
   "cell_type": "code",
   "execution_count": null,
   "metadata": {
    "collapsed": true
   },
   "outputs": [],
   "source": [
    "plot_stuff(dict_of_res_dfs[5])"
   ]
  },
  {
   "cell_type": "markdown",
   "metadata": {},
   "source": [
    "### S = 10 percentile, L = 70 Percentile"
   ]
  },
  {
   "cell_type": "code",
   "execution_count": null,
   "metadata": {
    "collapsed": true
   },
   "outputs": [],
   "source": [
    "plot_stuff(dict_of_res_dfs[10])"
   ]
  },
  {
   "cell_type": "markdown",
   "metadata": {
    "collapsed": true
   },
   "source": [
    "### S = 20 percentile, L = 70 Percentile"
   ]
  },
  {
   "cell_type": "code",
   "execution_count": null,
   "metadata": {
    "collapsed": true
   },
   "outputs": [],
   "source": [
    "plot_stuff(dict_of_res_dfs[20])"
   ]
  },
  {
   "cell_type": "code",
   "execution_count": null,
   "metadata": {
    "code_folding": [
     2
    ],
    "collapsed": true
   },
   "outputs": [],
   "source": [
    "L_Values = [50, 70, 85, 93, 99]  # Taking S = 0.5 percentile\n",
    "dict_of_res_dfs = {}\n",
    "for L in L_Values:\n",
    "    start = time.time()\n",
    "    thl = []\n",
    "    dict_of_results = {}\n",
    "    for p in probs:\n",
    "        dict_of_results[p] = []\n",
    "        for start_device in random_sample:\n",
    "            nt = threading.Thread(\n",
    "                target=do_exp2,\n",
    "                args=(dict_of_results[p], ),\n",
    "                kwargs={\n",
    "                    \"start_node\": start_device,\n",
    "                    \"least_mobile_percentile\": L,\n",
    "                    \"super_node_prob\": p,\n",
    "                    \"normal_node_prob\": 1 - p\n",
    "                })\n",
    "            thl.append(nt)\n",
    "            nt.start()\n",
    "    for ele in thl:\n",
    "        ele.join()\n",
    "    print(time.time() - start)\n",
    "    l = []\n",
    "    for key, el in dict_of_results.items():\n",
    "        norm = []\n",
    "        sup = []\n",
    "        least = []\n",
    "        gini = []\n",
    "        times = []\n",
    "        for tup in el:\n",
    "            if tup[1]: times.append(tup[3])\n",
    "            norm.append(tup[4])\n",
    "            sup.append(tup[5])\n",
    "            least.append(tup[6])\n",
    "            gini.append(tup[7])\n",
    "\n",
    "        norm_mean = np.mean(norm)\n",
    "        norm_std = np.std(norm)\n",
    "\n",
    "        sup_mean = np.mean(sup)\n",
    "        sup_std = np.std(sup)\n",
    "\n",
    "        least_mean = np.mean(least)\n",
    "        least_std = np.std(least)\n",
    "\n",
    "        gini_mean = np.mean(gini)\n",
    "        gini_std = np.std(gini)\n",
    "        if len(times) == 0:\n",
    "            times_mean = 349811\n",
    "            times_std = 0\n",
    "        else:\n",
    "            times_mean = np.mean(times)\n",
    "            times_std = np.std(times)\n",
    "        l.append([\n",
    "            tup[0], norm_mean, norm_std, sup_mean, sup_std, least_mean,\n",
    "            least_std, gini_mean, gini_std, times_mean, times_std\n",
    "        ])\n",
    "    res_df = pd.DataFrame(\n",
    "        data=l,\n",
    "        columns=[\n",
    "            \"Super Node Probability\", \"Normal Mean\", \"Normal StdDev\",\n",
    "            \"Super Mean\", \"Super StdDev\", \"Least Mean\", \"Least StdDev\",\n",
    "            \"Gini Mean\", \"Gini StdDev\", \"Time Taken Mean\", \"Time Taken StdDev\"\n",
    "        ])\n",
    "    dict_of_res_dfs[L] = res_df"
   ]
  },
  {
   "cell_type": "code",
   "execution_count": null,
   "metadata": {
    "collapsed": true
   },
   "outputs": [],
   "source": [
    "import pickle\n",
    "with open(\"exp2_res3.pickle\", \"wb\") as f:\n",
    "    pickle.dump(dict_of_res_dfs, f, pickle.HIGHEST_PROTOCOL)\n",
    "# with open(\"exp2_res3.pickle\", \"rb\") as f:\n",
    "#     dict_of_res_dfs = pickle.load(f)"
   ]
  },
  {
   "cell_type": "markdown",
   "metadata": {},
   "source": [
    "### S = 0.5 percentile, L = 50 Percentile"
   ]
  },
  {
   "cell_type": "code",
   "execution_count": null,
   "metadata": {
    "collapsed": true
   },
   "outputs": [],
   "source": [
    "plot_stuff(dict_of_res_dfs[50])"
   ]
  },
  {
   "cell_type": "markdown",
   "metadata": {},
   "source": [
    "### S = 0.5 percentile, L = 70 Percentile"
   ]
  },
  {
   "cell_type": "code",
   "execution_count": null,
   "metadata": {
    "collapsed": true
   },
   "outputs": [],
   "source": [
    "plot_stuff(dict_of_res_dfs[70])"
   ]
  },
  {
   "cell_type": "markdown",
   "metadata": {},
   "source": [
    "### S = 0.5 percentile, L = 85 Percentile"
   ]
  },
  {
   "cell_type": "code",
   "execution_count": null,
   "metadata": {
    "collapsed": true
   },
   "outputs": [],
   "source": [
    "plot_stuff(dict_of_res_dfs[85])"
   ]
  },
  {
   "cell_type": "markdown",
   "metadata": {},
   "source": [
    "### S = 0.5 percentile, L = 93 Percentile"
   ]
  },
  {
   "cell_type": "code",
   "execution_count": null,
   "metadata": {
    "collapsed": true
   },
   "outputs": [],
   "source": [
    "plot_stuff(dict_of_res_dfs[93])"
   ]
  },
  {
   "cell_type": "markdown",
   "metadata": {},
   "source": [
    "### S = 0.5 percentile, L = 99 Percentile"
   ]
  },
  {
   "cell_type": "code",
   "execution_count": null,
   "metadata": {
    "collapsed": true
   },
   "outputs": [],
   "source": [
    "plot_stuff(dict_of_res_dfs[99])"
   ]
  },
  {
   "cell_type": "markdown",
   "metadata": {},
   "source": [
    "# Part 3"
   ]
  },
  {
   "cell_type": "code",
   "execution_count": 25,
   "metadata": {
    "collapsed": true
   },
   "outputs": [],
   "source": [
    "comm_file = open(\"modularityclass.csv\", \"r\")"
   ]
  },
  {
   "cell_type": "code",
   "execution_count": 26,
   "metadata": {
    "collapsed": true
   },
   "outputs": [],
   "source": [
    "comm_table = pd.read_csv(\n",
    "    comm_file,\n",
    "    header=None,\n",
    "    delimiter=\";\",\n",
    "    names=[\"Device ID\", \"Community\"],\n",
    "    dtype=np.int32)"
   ]
  },
  {
   "cell_type": "code",
   "execution_count": 27,
   "metadata": {
    "collapsed": true
   },
   "outputs": [],
   "source": [
    "comm_file.close()"
   ]
  },
  {
   "cell_type": "code",
   "execution_count": 28,
   "metadata": {
    "collapsed": true
   },
   "outputs": [],
   "source": [
    "device_comm_dict = {}"
   ]
  },
  {
   "cell_type": "code",
   "execution_count": 29,
   "metadata": {
    "collapsed": true
   },
   "outputs": [],
   "source": [
    "for ii, row in comm_table.iterrows():\n",
    "    device_comm_dict[row[0]] = row[1]"
   ]
  },
  {
   "cell_type": "code",
   "execution_count": 30,
   "metadata": {
    "code_folding": [
     0
    ],
    "collapsed": true
   },
   "outputs": [],
   "source": [
    "class Device_3:\n",
    "    def __init__(self, idx, has_chunk, community, intra_comm_transmit_prob,\n",
    "                 inter_comm_transmit_prob):\n",
    "        self.idx = idx\n",
    "        self.num_transmissions_done = 0\n",
    "        self.has_chunk = has_chunk\n",
    "        self.community = community\n",
    "        self.intra_comm_transmit_prob = intra_comm_transmit_prob\n",
    "        self.inter_comm_transmit_prob = inter_comm_transmit_prob\n",
    "\n",
    "    def try_forward(self, target_device):\n",
    "        if (self.has_chunk and (not target_device.has_chunk)):\n",
    "            if target_device.community == self.community:\n",
    "                if random.random() < self.intra_comm_transmit_prob:\n",
    "                    return self.do_forward(target_device)\n",
    "            else:\n",
    "                if random.random() < self.inter_comm_transmit_prob:\n",
    "                    return self.do_forward(target_device)\n",
    "        return 0\n",
    "\n",
    "    def do_forward(self, target_device):\n",
    "        target_device.has_chunk = True\n",
    "        self.num_transmissions_done = self.num_transmissions_done + 1\n",
    "        return 1\n",
    "\n",
    "    def __str__(self):\n",
    "        s = \"\"\n",
    "        s = s + \"I am device with ID \" + str(self.idx)\n",
    "        if self.has_chunk: s = s + \". I have the chunk.\"\n",
    "        else: s = s + \". I don't have the chunk.\"\n",
    "        return s"
   ]
  },
  {
   "cell_type": "code",
   "execution_count": 44,
   "metadata": {
    "code_folding": [],
    "collapsed": true
   },
   "outputs": [],
   "source": [
    "def do_exp3(tup):\n",
    "    intra_community_transmit_probability= tup[0] # 0.5\n",
    "    inter_community_transmit_probability= tup[1]  #0.5\n",
    "    device_comm_dict=tup[2]  #device_comm_dict\n",
    "    thresh= tup[3]  #0.90\n",
    "    device_list= tup[4] #device_list\n",
    "    data= tup[5] #nu_data\n",
    "    start_node= tup[6]\n",
    "    \n",
    "    \n",
    "    num_received = 1\n",
    "    num_total_devices = len(device_list)\n",
    "    percent_devices_received = num_received / num_total_devices\n",
    "    end_timestep = 0\n",
    "\n",
    "    dict_devices = {}\n",
    "    for dev in device_list:\n",
    "        dict_devices[dev] = Device_3(dev, False, device_comm_dict[dev],\n",
    "                                     intra_community_transmit_probability,\n",
    "                                     inter_community_transmit_probability)\n",
    "\n",
    "    dict_devices[start_node].has_chunk = True\n",
    "    reached_thresh = False\n",
    "\n",
    "    for row in nu_data:\n",
    "        timestep = row[0]\n",
    "        device_1 = dict_devices[row[1]]\n",
    "        device_2 = dict_devices[row[2]]\n",
    "        num_received += device_1.try_forward(device_2)\n",
    "        num_received += device_2.try_forward(device_1)\n",
    "        percent_devices_received = num_received / num_total_devices\n",
    "        if percent_devices_received > thresh:\n",
    "            end_timestep = timestep\n",
    "            reached_thresh = True\n",
    "            break\n",
    "\n",
    "    num_transmission_done_list = []\n",
    "\n",
    "    for (iden, device) in dict_devices.items():\n",
    "        num_transmission_done_list.append(device.num_transmissions_done)\n",
    "\n",
    "    num_transmission_done_arr = np.asarray(num_transmission_done_list)\n",
    "\n",
    "    two_diff_sum = np.sum(\n",
    "        np.abs(num_transmission_done_arr[:, np.newaxis] -\n",
    "               num_transmission_done_arr))\n",
    "    gini = two_diff_sum / (2 * len(num_transmission_done_list) *\n",
    "                           (0.00000001 + np.sum(num_transmission_done_arr)))\n",
    "#     print(\"---\")\n",
    "    return  (intra_community_transmit_probability, reached_thresh, num_received,\n",
    "         end_timestep, gini)"
   ]
  },
  {
   "cell_type": "code",
   "execution_count": 37,
   "metadata": {
    "collapsed": true
   },
   "outputs": [],
   "source": [
    "probs = np.linspace(0, 1, num=100)"
   ]
  },
  {
   "cell_type": "code",
   "execution_count": 47,
   "metadata": {
    "collapsed": true
   },
   "outputs": [],
   "source": [
    "import multiprocessing\n",
    "from multiprocessing import Pool\n",
    "from multiprocessing import Process, Queue"
   ]
  },
  {
   "cell_type": "code",
   "execution_count": null,
   "metadata": {
    "collapsed": true
   },
   "outputs": [],
   "source": []
  },
  {
   "cell_type": "code",
   "execution_count": null,
   "metadata": {
    "collapsed": true
   },
   "outputs": [],
   "source": []
  },
  {
   "cell_type": "code",
   "execution_count": null,
   "metadata": {},
   "outputs": [],
   "source": [
    "start = time.time()\n",
    "thl = []\n",
    "list_of_results =  []\n",
    "poo = Pool(2)\n",
    "tup_lis = []\n",
    "for p in probs:\n",
    "    tup_lis.append((p,1-p,device_comm_dict,0.9,device_list,nu_data,26))\n",
    "lis = poo.map(do_exp3, tup_lis)\n",
    "print(time.time() - start)"
   ]
  },
  {
   "cell_type": "code",
   "execution_count": null,
   "metadata": {},
   "outputs": [],
   "source": [
    "lis[44]"
   ]
  },
  {
   "cell_type": "code",
   "execution_count": null,
   "metadata": {
    "collapsed": true
   },
   "outputs": [],
   "source": []
  },
  {
   "cell_type": "code",
   "execution_count": null,
   "metadata": {
    "collapsed": true
   },
   "outputs": [],
   "source": []
  },
  {
   "cell_type": "code",
   "execution_count": null,
   "metadata": {
    "collapsed": true
   },
   "outputs": [],
   "source": []
  },
  {
   "cell_type": "code",
   "execution_count": null,
   "metadata": {
    "collapsed": true
   },
   "outputs": [],
   "source": [
    "res = pd.DataFrame(\n",
    "    list_of_results,\n",
    "    columns=[\n",
    "        \"Intra Community Probability\", \"Reached Threshold\", \"Nodes Reached\",\n",
    "        \"Time Taken\", \"Gini Coeff.\"\n",
    "    ])"
   ]
  },
  {
   "cell_type": "code",
   "execution_count": null,
   "metadata": {
    "collapsed": true
   },
   "outputs": [],
   "source": [
    "res[:3]"
   ]
  },
  {
   "cell_type": "code",
   "execution_count": null,
   "metadata": {
    "collapsed": true
   },
   "outputs": [],
   "source": [
    "res[-3:]"
   ]
  },
  {
   "cell_type": "markdown",
   "metadata": {},
   "source": [
    "As we see only when Super node probability becomes very large ( >0.96 ), normal node probability decreases very much and therefore we are not able to reach the threshold in the given time"
   ]
  },
  {
   "cell_type": "code",
   "execution_count": null,
   "metadata": {
    "collapsed": true,
    "scrolled": false
   },
   "outputs": [],
   "source": [
    "sns.lmplot(\n",
    "    x=\"Intra Community Probability\",\n",
    "    y=\"Time Taken\",\n",
    "    data=res[:-3],\n",
    "    fit_reg=False)  # ignoring where we don't reach thresh\n",
    "sns.lmplot(\n",
    "    x=\"Intra Community Probability\", y=\"Gini Coeff.\", data=res, fit_reg=True)"
   ]
  },
  {
   "cell_type": "code",
   "execution_count": null,
   "metadata": {
    "collapsed": true
   },
   "outputs": [],
   "source": [
    "start = time.time()\n",
    "thl = []\n",
    "dict_of_results = {}\n",
    "for p in probs:\n",
    "    dict_of_results[p] = []\n",
    "    for start_device in random_sample:\n",
    "        nt = Process(\n",
    "            target=do_exp3,\n",
    "            args=(dict_of_results[p], ),\n",
    "            kwargs={\n",
    "                \"intra_community_transmit_probability\": p,\n",
    "                \"inter_community_transmit_probability\": 1 - p,\n",
    "                \"start_node\": start_device\n",
    "            })\n",
    "        thl.append(nt)\n",
    "        nt.start()\n",
    "for ele in thl:\n",
    "    ele.join()\n",
    "print(time.time() - start)"
   ]
  },
  {
   "cell_type": "code",
   "execution_count": null,
   "metadata": {
    "collapsed": true
   },
   "outputs": [],
   "source": []
  },
  {
   "cell_type": "code",
   "execution_count": null,
   "metadata": {
    "collapsed": true
   },
   "outputs": [],
   "source": []
  },
  {
   "cell_type": "code",
   "execution_count": null,
   "metadata": {
    "collapsed": true
   },
   "outputs": [],
   "source": []
  },
  {
   "cell_type": "code",
   "execution_count": null,
   "metadata": {
    "collapsed": true
   },
   "outputs": [],
   "source": [
    "import pickle\n",
    "with open(\"exp3_res.pickle\", \"wb\") as f:\n",
    "    pickle.dump(dict_of_results, f, pickle.HIGHEST_PROTOCOL)\n",
    "# with open(\"exp3_res.pickle\", \"rb\") as f:\n",
    "#     dump = pickle.load(f)"
   ]
  },
  {
   "cell_type": "code",
   "execution_count": null,
   "metadata": {
    "code_folding": [],
    "collapsed": true
   },
   "outputs": [],
   "source": [
    "l = []\n",
    "for key, el in dict_of_results.items():\n",
    "    gini = []\n",
    "    times = []\n",
    "    for tup in el:\n",
    "        if tup[1]: times.append(tup[3])\n",
    "        gini.append(tup[4])\n",
    "\n",
    "    gini_mean = np.mean(gini)\n",
    "    gini_std = np.std(gini)\n",
    "    if len(times) == 0:\n",
    "        times_mean = 349811\n",
    "        times_std = 0\n",
    "    else:\n",
    "        times_mean = np.mean(times)\n",
    "        times_std = np.std(times)\n",
    "    l.append([tup[0], gini_mean, gini_std, times_mean, times_std])"
   ]
  },
  {
   "cell_type": "code",
   "execution_count": null,
   "metadata": {
    "collapsed": true
   },
   "outputs": [],
   "source": [
    "res_df = pd.DataFrame(\n",
    "    data=l,\n",
    "    columns=[\n",
    "        \"Intra Community Probability\", \"Gini Mean\", \"Gini StdDev\",\n",
    "        \"Time Taken Mean\", \"Time Taken StdDev\"\n",
    "    ])"
   ]
  },
  {
   "cell_type": "code",
   "execution_count": null,
   "metadata": {
    "collapsed": true
   },
   "outputs": [],
   "source": [
    "plt.errorbar(\n",
    "    res_df[\"Intra Community Probability\"],\n",
    "    res_df[\"Time Taken Mean\"],\n",
    "    yerr=res_df[\"Time Taken StdDev\"],\n",
    "    ecolor=\"red\",\n",
    "    fmt='o')\n",
    "plt.xlabel(\"Intra Community Probability\")\n",
    "plt.ylabel(\"Time Taken\")\n",
    "plt.figure()\n",
    "plt.errorbar(\n",
    "    res_df[\"Intra Community Probability\"],\n",
    "    res_df[\"Gini Mean\"],\n",
    "    yerr=res_df[\"Gini StdDev\"],\n",
    "    ecolor=\"red\",\n",
    "    fmt='o')\n",
    "plt.xlabel(\"Intra Community Probability\")\n",
    "plt.ylabel(\"Gini Coefficient\")"
   ]
  },
  {
   "cell_type": "code",
   "execution_count": null,
   "metadata": {
    "collapsed": true
   },
   "outputs": [],
   "source": []
  },
  {
   "cell_type": "code",
   "execution_count": null,
   "metadata": {
    "collapsed": true
   },
   "outputs": [],
   "source": []
  },
  {
   "cell_type": "code",
   "execution_count": null,
   "metadata": {
    "collapsed": true
   },
   "outputs": [],
   "source": []
  }
 ],
 "metadata": {
  "_draft": {
   "nbviewer_url": "https://gist.github.com/afaef9fdcfb458752273a0c47839dd6b"
  },
  "gist": {
   "data": {
    "description": "Exp.ipynb",
    "public": false
   },
   "id": "afaef9fdcfb458752273a0c47839dd6b"
  },
  "kernelspec": {
   "display_name": "Python 3",
   "language": "python",
   "name": "python3"
  },
  "language_info": {
   "codemirror_mode": {
    "name": "ipython",
    "version": 3
   },
   "file_extension": ".py",
   "mimetype": "text/x-python",
   "name": "python",
   "nbconvert_exporter": "python",
   "pygments_lexer": "ipython3",
   "version": "3.5.2"
  },
  "varInspector": {
   "cols": {
    "lenName": 16,
    "lenType": 16,
    "lenVar": 40
   },
   "kernels_config": {
    "python": {
     "delete_cmd_postfix": "",
     "delete_cmd_prefix": "del ",
     "library": "var_list.py",
     "varRefreshCmd": "print(var_dic_list())"
    },
    "r": {
     "delete_cmd_postfix": ") ",
     "delete_cmd_prefix": "rm(",
     "library": "var_list.r",
     "varRefreshCmd": "cat(var_dic_list()) "
    }
   },
   "position": {
    "height": "449px",
    "left": "1550px",
    "right": "20px",
    "top": "122px",
    "width": "323px"
   },
   "types_to_exclude": [
    "module",
    "function",
    "builtin_function_or_method",
    "instance",
    "_Feature"
   ],
   "window_display": false
  }
 },
 "nbformat": 4,
 "nbformat_minor": 2
}
